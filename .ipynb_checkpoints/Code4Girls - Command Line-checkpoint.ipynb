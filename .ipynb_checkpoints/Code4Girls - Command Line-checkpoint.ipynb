{
 "cells": [
  {
   "cell_type": "markdown",
   "metadata": {},
   "source": [
    "# Code4Girls - Command Line \n",
    "\n",
    "Quellen: [http://tutorial.djangogirls.org/en/intro_to_command_line/]"
   ]
  },
  {
   "cell_type": "markdown",
   "metadata": {},
   "source": [
    "** Hi, schön, dass Du lernen willst, wie Du Deinen Rechner über die Kommandazeile steuerst. **\n",
    "\n",
    "** 1. Kommandozeile öffnen**\n",
    "\n",
    "Auf deinem Linux-Rechner öffnest Du die Kommando-Zeile, indem Du in der linken oberen Ecke auf Aktivitäten klickst. Dann wählst Du das zweite Icon aus - das schwarze Fenster, bei dem Terminal steht, wenn Du mit der Maus drüber fährst.\n",
    "Wenn Du darauf klickst, öffnet sich ein schwarzes Fenster: \n",
    "```user@debian:~$ ```\n",
    "\n",
    "Nach dem $ Zeichen, kannst Du Deine Befehle eintippen.\n",
    "\n"
   ]
  },
  {
   "cell_type": "markdown",
   "metadata": {},
   "source": [
    "** 2. Wo bin ich? ** \n",
    "\n",
    "Top, jetzt kannst Du loslegen.\n",
    "Am besten gucken wir mal, in welchem Ordner auf dem Rechner wir gerade sind. Das machst du mit ```pwd``` - das steht für 'print working directory'"
   ]
  },
  {
   "cell_type": "code",
   "execution_count": 1,
   "metadata": {
    "collapsed": false
   },
   "outputs": [
    {
     "name": "stdout",
     "output_type": "stream",
     "text": [
      "/var/host/media/removable/RocketGirls/code4girls\r\n"
     ]
    }
   ],
   "source": [
    "pwd"
   ]
  },
  {
   "cell_type": "markdown",
   "metadata": {},
   "source": [
    "**3. Was ist drin?**\n",
    "\n",
    "Jetzt lass Dir mal eine Liste (ls) anzeigen, was in diesem Ordner alles drin ist.  "
   ]
  },
  {
   "cell_type": "code",
   "execution_count": 4,
   "metadata": {
    "collapsed": false
   },
   "outputs": [
    {
     "name": "stdout",
     "output_type": "stream",
     "text": [
      "code4girls\t\t\t Music\r\n",
      "Code4Girls - Command Line.ipynb  Pictures\r\n",
      "d3-tut\t\t\t\t Public\r\n",
      "d3-tut.ipynb\t\t\t Python for Data Analysis, 5 -112.ipynb\r\n",
      "Desktop\t\t\t\t python_regex.ipynb\r\n",
      "django\t\t\t\t seaborn-data\r\n",
      "Documents\t\t\t seaborn.ipynb\r\n",
      "Downloads\t\t\t Templates\r\n",
      "hoerspiele_sb.csv\t\t Untitled1.ipynb\r\n",
      "hoerspiel.ipynb\t\t\t Untitled2.ipynb\r\n",
      "hoerspiel seaborn.ipynb\t\t Untitled.ipynb\r\n",
      "hsp.csv\t\t\t\t Videos\r\n"
     ]
    }
   ],
   "source": [
    "ls"
   ]
  },
  {
   "cell_type": "markdown",
   "metadata": {},
   "source": [
    "** 4. Verzeichnis wechseln**\n",
    "Wenn Du in einen dieser Ordner wechseln willst, dann gibst du 'cd' für 'change directory' ein und tippst die ersten Buchstaben, des Ordners, in den Du willst. \n",
    "\n",
    "Trick: Nach den ersten Buchstaben kann der Rechner deine Eingabe vervollständigen, drücke dafür die Tab -> Taste.\n"
   ]
  },
  {
   "cell_type": "code",
   "execution_count": 5,
   "metadata": {
    "collapsed": false
   },
   "outputs": [
    {
     "name": "stdout",
     "output_type": "stream",
     "text": []
    }
   ],
   "source": [
    "cd Downloads"
   ]
  },
  {
   "cell_type": "code",
   "execution_count": 6,
   "metadata": {
    "collapsed": false
   },
   "outputs": [
    {
     "name": "stdout",
     "output_type": "stream",
     "text": [
      "1.py  2  3  4  5  6  7\t8  9  config.py  LICENSE  README.md  requirements.txt\r\n"
     ]
    }
   ],
   "source": [
    "ls"
   ]
  },
  {
   "cell_type": "code",
   "execution_count": null,
   "metadata": {
    "collapsed": true
   },
   "outputs": [],
   "source": []
  }
 ],
 "metadata": {
  "kernelspec": {
   "display_name": "Bash",
   "language": "bash",
   "name": "bash"
  }
 },
 "nbformat": 4,
 "nbformat_minor": 0
}
