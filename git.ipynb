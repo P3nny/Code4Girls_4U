{
 "cells": [
  {
   "cell_type": "markdown",
   "metadata": {},
   "source": [
    "# Git and Github"
   ]
  },
  {
   "cell_type": "markdown",
   "metadata": {},
   "source": [
    "## 1. Code4Girls_4U Repo (Ordner) holen "
   ]
  },
  {
   "cell_type": "markdown",
   "metadata": {},
   "source": [
    "Terminal öffnen und eingeben:\n",
    "\n",
    "``` git clone https://github.com/P3nny/Code4Girls_4U.git ```\n",
    "\n",
    "Das erzeugt ein neues Verzeichnis 'Code4Girls_4U' ```"
   ]
  },
  {
   "cell_type": "markdown",
   "metadata": {},
   "source": [
    "Jetzt müsst ihr noch in den Seitenast wechseln, der die Dokumente enthält, die unter https://p3nny.github.io/Code4Girls_4U/ online stehen. \n",
    "\n",
    "``` git checkout -b gh-pages ```\n"
   ]
  },
  {
   "cell_type": "markdown",
   "metadata": {},
   "source": [
    "Im Unter-Ordner 'html' findet ihr die Datei 'girl.html', die passt ihr bitte an.\n",
    "So entsteht eure eigene Code4Girls Seite. "
   ]
  },
  {
   "cell_type": "markdown",
   "metadata": {},
   "source": [
    "## Wie geht deine Seite online? "
   ]
  },
  {
   "cell_type": "markdown",
   "metadata": {},
   "source": [
    "Wir benutzen dafür auch git. \n",
    "Damit wir uns nicht ins Gehe kommen, darf immer nur diejenige ihre Änderungen online stellen, die den 'Github Token' vor sich liegen hat. \n"
   ]
  },
  {
   "cell_type": "markdown",
   "metadata": {},
   "source": [
    "**Überprüfen, ob es zwischendurch Änderungen gab: **\n",
    "\n",
    "``` git pull ```"
   ]
  },
  {
   "cell_type": "markdown",
   "metadata": {},
   "source": [
    "** Eigene Änderungen mit git 'speichern': **\n",
    "\n",
    "``` git status ``` Änderungen werden rot angezeigt \n",
    "\n",
    "``` git add --all ``` Änderungen zum Zwiwschenstand hinzufügen\n",
    "\n",
    "``` git status ``` Änderungen werden grün angezeigt \n",
    "\n",
    "``` git commit -m ' Beschreiben, was ihr gemacht habe' ``` Änderungen werden als Zwischenstand gespeichert\n",
    "\n",
    "``` git push origin gh-pages ```\n",
    "\n",
    "Benutzer eingeben: P3nny\n",
    "\n",
    "Passwort eingeben: "
   ]
  },
  {
   "cell_type": "markdown",
   "metadata": {},
   "source": [
    "Dann nachgucken, ob die Seite online ist: \n",
    "\n",
    "https://p3nny.github.io/Code4Girls_4U/html/\n"
   ]
  },
  {
   "cell_type": "code",
   "execution_count": null,
   "metadata": {
    "collapsed": true
   },
   "outputs": [],
   "source": []
  }
 ],
 "metadata": {
  "kernelspec": {
   "display_name": "Python 3",
   "language": "python",
   "name": "python3"
  },
  "language_info": {
   "codemirror_mode": {
    "name": "ipython",
    "version": 3
   },
   "file_extension": ".py",
   "mimetype": "text/x-python",
   "name": "python",
   "nbconvert_exporter": "python",
   "pygments_lexer": "ipython3",
   "version": "3.4.2"
  }
 },
 "nbformat": 4,
 "nbformat_minor": 0
}
