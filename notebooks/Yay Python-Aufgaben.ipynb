{
 "cells": [
  {
   "cell_type": "markdown",
   "metadata": {},
   "source": [
    "# Introduction to Python\n",
    "\n",
    "Quelle: []"
   ]
  },
  {
   "cell_type": "code",
<<<<<<< HEAD
   "execution_count": 37,
=======
   "execution_count": 1,
>>>>>>> 4c5c52ec7fe6053063370d3170a67d336c1a746f
   "metadata": {
    "collapsed": false
   },
   "outputs": [
    {
     "data": {
      "text/html": [
       "<img src=\"./static/glitter.gif\"/>"
      ],
      "text/plain": [
       "<IPython.core.display.Image object>"
      ]
     },
     "metadata": {},
     "output_type": "display_data"
    }
   ],
   "source": [
    "# display this image\n",
    "from IPython.display import Image\n",
    "from IPython.display import display\n",
    "display(Image(url='./static/glitter.gif'), width=50)"
   ]
  },
  {
   "cell_type": "code",
<<<<<<< HEAD
   "execution_count": 38,
=======
   "execution_count": 3,
>>>>>>> 4c5c52ec7fe6053063370d3170a67d336c1a746f
   "metadata": {
    "collapsed": false
   },
   "outputs": [
    {
     "name": "stdout",
     "output_type": "stream",
     "text": [
<<<<<<< HEAD
      "Cara\n"
=======
<<<<<<< HEAD
      "Anastasia\n"
=======
      "name\n"
>>>>>>> 63188e9793c8003b44506d16322f5e3fafded4c9
>>>>>>> 4c5c52ec7fe6053063370d3170a67d336c1a746f
     ]
    }
   ],
   "source": [
    "## Zuweisungen \n",
    "\n",
<<<<<<< HEAD
    "name = 'Cara' # Gib zwischen den '' deinen Namen ein!   \n",
=======
<<<<<<< HEAD
    "name = 'Anastasia' # Gib zwischen den '' deinen Namen ein!   \n",
>>>>>>> 4c5c52ec7fe6053063370d3170a67d336c1a746f
    "print(name)"
=======
    "name = 'Nola' # Gib zwischen den '' deinen Namen ein!   \n",
    "print('name')"
>>>>>>> 63188e9793c8003b44506d16322f5e3fafded4c9
   ]
  },
  {
   "cell_type": "code",
<<<<<<< HEAD
   "execution_count": 39,
=======
   "execution_count": 4,
>>>>>>> 4c5c52ec7fe6053063370d3170a67d336c1a746f
   "metadata": {
    "collapsed": false
   },
   "outputs": [
    {
     "name": "stdout",
     "output_type": "stream",
     "text": [
<<<<<<< HEAD
      "Ich heiße  Cara\n"
=======
<<<<<<< HEAD
      "Ich heiße Anastasia\n"
=======
      "Ich heiße Nola\n"
>>>>>>> 63188e9793c8003b44506d16322f5e3fafded4c9
>>>>>>> 4c5c52ec7fe6053063370d3170a67d336c1a746f
     ]
    }
   ],
   "source": [
    "print('Ich heiße ', name)"
   ]
  },
  {
   "cell_type": "code",
<<<<<<< HEAD
   "execution_count": 40,
=======
   "execution_count": 5,
>>>>>>> 4c5c52ec7fe6053063370d3170a67d336c1a746f
   "metadata": {
    "collapsed": false
   },
   "outputs": [
    {
     "name": "stdout",
     "output_type": "stream",
     "text": [
      "Hello World\n"
     ]
    }
   ],
   "source": [
    "a = 'Hello'\n",
    "b='World'\n",
    "print(a,b)"
   ]
  },
  {
   "cell_type": "markdown",
   "metadata": {},
   "source": [
    "Solche Zuweisungen nennt man auch Variablen. Die Variable 'name' wird auf den Wert 'Hallo' gesetzt. Das kann man sich so vorstellen, also würde man einen Namensaufkleber auf etwas kleben. Den kann man auch wieder abziehen und auf etwas Anderes kleben. "
   ]
  },
  {
   "cell_type": "code",
<<<<<<< HEAD
   "execution_count": 41,
=======
<<<<<<< HEAD
   "execution_count": 6,
=======
   "execution_count": 7,
>>>>>>> 63188e9793c8003b44506d16322f5e3fafded4c9
>>>>>>> 4c5c52ec7fe6053063370d3170a67d336c1a746f
   "metadata": {
    "collapsed": false
   },
   "outputs": [
    {
     "name": "stdout",
     "output_type": "stream",
     "text": [
<<<<<<< HEAD
      "Hello\n"
=======
<<<<<<< HEAD
      "Hello\n"
=======
      "5\n"
>>>>>>> 63188e9793c8003b44506d16322f5e3fafded4c9
>>>>>>> 4c5c52ec7fe6053063370d3170a67d336c1a746f
     ]
    }
   ],
   "source": [
    "print(a)"
   ]
  },
  {
   "cell_type": "code",
<<<<<<< HEAD
   "execution_count": 42,
=======
<<<<<<< HEAD
   "execution_count": 7,
=======
   "execution_count": 6,
>>>>>>> 63188e9793c8003b44506d16322f5e3fafded4c9
>>>>>>> 4c5c52ec7fe6053063370d3170a67d336c1a746f
   "metadata": {
    "collapsed": true
   },
   "outputs": [],
   "source": [
    "a= 5"
   ]
  },
  {
   "cell_type": "code",
<<<<<<< HEAD
   "execution_count": 43,
=======
   "execution_count": 8,
>>>>>>> 4c5c52ec7fe6053063370d3170a67d336c1a746f
   "metadata": {
    "collapsed": false
   },
   "outputs": [
    {
     "name": "stdout",
     "output_type": "stream",
     "text": [
      "5\n"
     ]
    }
   ],
   "source": [
    "print(a)"
   ]
  },
  {
   "cell_type": "markdown",
   "metadata": {},
   "source": [
    "## Datentypen"
   ]
  },
  {
   "cell_type": "code",
<<<<<<< HEAD
   "execution_count": 44,
=======
<<<<<<< HEAD
   "execution_count": 10,
=======
   "execution_count": 9,
>>>>>>> 63188e9793c8003b44506d16322f5e3fafded4c9
>>>>>>> 4c5c52ec7fe6053063370d3170a67d336c1a746f
   "metadata": {
    "collapsed": false
   },
   "outputs": [],
   "source": [
    "# Datentypen \n",
    "mein_str = 'Code4Girls' # Irgendwas mit Buchstaben, immer in Anführungszeichen, '' oder \"\" ist egal, nur einheitlich.\n",
    "mein_int = 4 # Ganze Zahl\n",
    "mein_float = 5.0 # Komma-Zahl, im englischen aber mit Punkt geschrieben"
   ]
  },
  {
   "cell_type": "code",
<<<<<<< HEAD
   "execution_count": 45,
=======
<<<<<<< HEAD
   "execution_count": 12,
=======
   "execution_count": 10,
>>>>>>> 63188e9793c8003b44506d16322f5e3fafded4c9
>>>>>>> 4c5c52ec7fe6053063370d3170a67d336c1a746f
   "metadata": {
    "collapsed": false
   },
   "outputs": [
    {
     "data": {
      "text/plain": [
<<<<<<< HEAD
       "str"
      ]
     },
     "execution_count": 45,
=======
<<<<<<< HEAD
       "int"
      ]
     },
     "execution_count": 12,
=======
       "str"
      ]
     },
     "execution_count": 10,
>>>>>>> 63188e9793c8003b44506d16322f5e3fafded4c9
>>>>>>> 4c5c52ec7fe6053063370d3170a67d336c1a746f
     "metadata": {},
     "output_type": "execute_result"
    }
   ],
   "source": [
<<<<<<< HEAD
    "type(mein_str)"
=======
    "type(mein_int)"
>>>>>>> 4c5c52ec7fe6053063370d3170a67d336c1a746f
   ]
  },
  {
   "cell_type": "code",
<<<<<<< HEAD
   "execution_count": 46,
=======
<<<<<<< HEAD
   "execution_count": 13,
=======
   "execution_count": 63,
>>>>>>> 63188e9793c8003b44506d16322f5e3fafded4c9
>>>>>>> 4c5c52ec7fe6053063370d3170a67d336c1a746f
   "metadata": {
    "collapsed": false
   },
   "outputs": [
    {
     "name": "stdout",
     "output_type": "stream",
     "text": [
<<<<<<< HEAD
      "HalloHalloHalloHalloHalloHalloHalloHalloHalloHalloHalloHalloHalloHalloHalloHalloHalloHalloHalloHalloHalloHalloHalloHalloHalloHalloHalloHalloHalloHalloHalloHalloHalloHalloHalloHalloHalloHalloHalloHalloHalloHalloHalloHalloHalloHalloHalloHalloHalloHalloHalloHalloHalloHalloHalloHalloHalloHalloHalloHalloHalloHalloHalloHalloHalloHalloHalloHalloHalloHalloHalloHalloHalloHalloHalloHalloHalloHalloHalloHalloHalloHalloHalloHalloHalloHalloHalloHalloHalloHalloHalloHalloHalloHalloHalloHalloHalloHalloHalloHalloHalloHalloHalloHalloHalloHalloHalloHalloHalloHalloHalloHalloHalloHalloHalloHalloHalloHalloHalloHalloHalloHalloHalloHalloHalloHalloHalloHalloHalloHalloHalloHalloHalloHalloHalloHalloHalloHalloHalloHalloHalloHalloHalloHalloHalloHalloHalloHalloHalloHalloHalloHalloHalloHalloHalloHalloHalloHalloHalloHalloHalloHalloHalloHalloHalloHalloHalloHalloHalloHalloHalloHalloHalloHalloHalloHalloHalloHalloHalloHalloHalloHalloHalloHalloHalloHalloHalloHalloHalloHalloHalloHalloHalloHalloHalloHalloHalloHalloHalloHallo\n"
=======
<<<<<<< HEAD
      "HalloHalloHalloHalloHalloHalloHalloHalloHalloHalloHalloHalloHalloHalloHalloHalloHalloHalloHalloHallo\n"
=======
      "HalloHalloHalloHalloHalloHalloHalloHalloHalloHalloHalloHalloHalloHalloHalloHalloHalloHalloHalloHalloHalloHalloHalloHalloHalloHalloHalloHalloHalloHalloHalloHalloHalloHalloHalloHalloHalloHalloHalloHalloHalloHalloHalloHalloHalloHalloHalloHallo\n"
>>>>>>> 63188e9793c8003b44506d16322f5e3fafded4c9
>>>>>>> 4c5c52ec7fe6053063370d3170a67d336c1a746f
     ]
    }
   ],
   "source": [
<<<<<<< HEAD
    "print('Hallo' * 200)"
=======
    "print('Hallo' * 48)"
>>>>>>> 4c5c52ec7fe6053063370d3170a67d336c1a746f
   ]
  },
  {
   "cell_type": "markdown",
   "metadata": {
    "collapsed": true
   },
   "source": [
    "### Aufgabe!"
   ]
  },
  {
   "cell_type": "markdown",
   "metadata": {
    "collapsed": true
   },
   "source": [
    "Denk Dir einen Hund aus: \n",
    "- Schreibe eine Variable name und weise ihr einen Namen zu. Denk an die Anführungszeichen bei Strings. \n",
    "- Schreibe eine Variable rasse und weise ihr zu, zu welcher Rasse der Hund gehört. \n",
    "- Schreibe eine Variable futter und weise ihr ein Futter zu. \n",
    "- Schreibe eine Variable alter und weise ihr eine Zahl zu."
   ]
  },
  {
   "cell_type": "code",
<<<<<<< HEAD
   "execution_count": 47,
=======
<<<<<<< HEAD
   "execution_count": 16,
=======
   "execution_count": 15,
>>>>>>> 63188e9793c8003b44506d16322f5e3fafded4c9
>>>>>>> 4c5c52ec7fe6053063370d3170a67d336c1a746f
   "metadata": {
    "collapsed": true
   },
   "outputs": [],
   "source": [
<<<<<<< HEAD
    "name = 'Chloe'\n",
    "rasse = 'Australien Shepperd'\n",
    "futter = 'Hühnchen'\n",
    "alter = 2"
=======
<<<<<<< HEAD
    "name = \"Pluto\"\n",
    "rasse = \"Greyhound\"\n",
    "futter = \"Knochen\"\n",
    "alter = \"2\""
=======
    "name= 'Bella'\n",
    "rasse='Tibetan Mastiff'\n",
    "futter='fleisch'\n",
    "alter=4"
>>>>>>> 63188e9793c8003b44506d16322f5e3fafded4c9
>>>>>>> 4c5c52ec7fe6053063370d3170a67d336c1a746f
   ]
  },
  {
   "cell_type": "code",
<<<<<<< HEAD
   "execution_count": 48,
=======
<<<<<<< HEAD
   "execution_count": 17,
=======
   "execution_count": 16,
>>>>>>> 63188e9793c8003b44506d16322f5e3fafded4c9
>>>>>>> 4c5c52ec7fe6053063370d3170a67d336c1a746f
   "metadata": {
    "collapsed": false
   },
   "outputs": [
    {
     "name": "stdout",
     "output_type": "stream",
     "text": [
<<<<<<< HEAD
      "Mein Hund heißt Chloe , ist ein Australien Shepperd , frisst gerne Hühnchen und ist 2 Jahre alt.\n"
=======
<<<<<<< HEAD
      "Mein Hund heißt Pluto , ist ein Greyhound , frisst gerne Knochen und ist 2 Jahre alt.\n"
=======
      "Mein Hund heißt Bella , ist ein Tibetan Mastiff , frisst gerne fleisch und ist 4 Jahre alt.\n"
>>>>>>> 63188e9793c8003b44506d16322f5e3fafded4c9
>>>>>>> 4c5c52ec7fe6053063370d3170a67d336c1a746f
     ]
    }
   ],
   "source": [
    "print('Mein Hund heißt', name, ', ist ein', rasse, ', frisst gerne', futter, 'und ist', alter, 'Jahre alt.' )"
   ]
  },
  {
   "cell_type": "markdown",
   "metadata": {
    "collapsed": true
   },
   "source": [
    "## Mehr Datentypen"
   ]
  },
  {
   "cell_type": "markdown",
   "metadata": {},
   "source": [
    "### Listen"
   ]
  },
  {
   "cell_type": "code",
<<<<<<< HEAD
   "execution_count": 49,
=======
<<<<<<< HEAD
   "execution_count": 18,
=======
   "execution_count": 17,
>>>>>>> 63188e9793c8003b44506d16322f5e3fafded4c9
>>>>>>> 4c5c52ec7fe6053063370d3170a67d336c1a746f
   "metadata": {
    "collapsed": true
   },
   "outputs": [],
   "source": [
    "# Listen \n",
    "leere_liste = []"
   ]
  },
  {
   "cell_type": "code",
<<<<<<< HEAD
   "execution_count": 50,
=======
<<<<<<< HEAD
   "execution_count": 19,
=======
   "execution_count": 18,
>>>>>>> 63188e9793c8003b44506d16322f5e3fafded4c9
>>>>>>> 4c5c52ec7fe6053063370d3170a67d336c1a746f
   "metadata": {
    "collapsed": false
   },
   "outputs": [
    {
     "data": {
      "text/plain": [
       "[]"
      ]
     },
<<<<<<< HEAD
     "execution_count": 50,
=======
<<<<<<< HEAD
     "execution_count": 19,
=======
     "execution_count": 18,
>>>>>>> 63188e9793c8003b44506d16322f5e3fafded4c9
>>>>>>> 4c5c52ec7fe6053063370d3170a67d336c1a746f
     "metadata": {},
     "output_type": "execute_result"
    }
   ],
   "source": [
    "# Eine Besonderheit im Jupyter Notebook ist, dass man sich 'print()' sparen kann. Um eine Variable anzuzeigen reicht:\n",
    "leere_liste"
   ]
  },
  {
   "cell_type": "code",
<<<<<<< HEAD
   "execution_count": 51,
=======
<<<<<<< HEAD
   "execution_count": 20,
=======
   "execution_count": 19,
>>>>>>> 63188e9793c8003b44506d16322f5e3fafded4c9
>>>>>>> 4c5c52ec7fe6053063370d3170a67d336c1a746f
   "metadata": {
    "collapsed": false
   },
   "outputs": [
    {
     "data": {
      "text/plain": [
       "[1, [4, 5.0], 'Buchstaben']"
      ]
     },
<<<<<<< HEAD
     "execution_count": 51,
=======
<<<<<<< HEAD
     "execution_count": 20,
=======
     "execution_count": 19,
>>>>>>> 63188e9793c8003b44506d16322f5e3fafded4c9
>>>>>>> 4c5c52ec7fe6053063370d3170a67d336c1a746f
     "metadata": {},
     "output_type": "execute_result"
    }
   ],
   "source": [
    "# Eine Liste kann verschiedene Datenytypen enthalten, auch andere Listen. \n",
    "gemischte_liste = [1, [4,5.0], 'Buchstaben']\n",
    "gemischte_liste"
   ]
  },
  {
   "cell_type": "code",
<<<<<<< HEAD
   "execution_count": 52,
=======
<<<<<<< HEAD
   "execution_count": 21,
=======
   "execution_count": 20,
>>>>>>> 63188e9793c8003b44506d16322f5e3fafded4c9
>>>>>>> 4c5c52ec7fe6053063370d3170a67d336c1a746f
   "metadata": {
    "collapsed": false
   },
   "outputs": [
    {
     "data": {
      "text/plain": [
       "['Zahnbürste', 'Handtuch', 'Bikini']"
      ]
     },
<<<<<<< HEAD
     "execution_count": 52,
=======
<<<<<<< HEAD
     "execution_count": 21,
=======
     "execution_count": 20,
>>>>>>> 63188e9793c8003b44506d16322f5e3fafded4c9
>>>>>>> 4c5c52ec7fe6053063370d3170a67d336c1a746f
     "metadata": {},
     "output_type": "execute_result"
    }
   ],
   "source": [
    "koffer = ['Zahnbürste', 'Handtuch', 'Bikini']\n",
    "koffer"
   ]
  },
  {
   "cell_type": "code",
<<<<<<< HEAD
   "execution_count": 53,
=======
<<<<<<< HEAD
   "execution_count": 22,
=======
   "execution_count": 21,
>>>>>>> 63188e9793c8003b44506d16322f5e3fafded4c9
>>>>>>> 4c5c52ec7fe6053063370d3170a67d336c1a746f
   "metadata": {
    "collapsed": false
   },
   "outputs": [
    {
     "data": {
      "text/plain": [
       "'Handtuch'"
      ]
     },
<<<<<<< HEAD
     "execution_count": 53,
=======
<<<<<<< HEAD
     "execution_count": 22,
=======
     "execution_count": 21,
>>>>>>> 63188e9793c8003b44506d16322f5e3fafded4c9
>>>>>>> 4c5c52ec7fe6053063370d3170a67d336c1a746f
     "metadata": {},
     "output_type": "execute_result"
    }
   ],
   "source": [
    "# Element aus Liste herausziehen. Was glaubst Du, welches Ding im Koffer wird angezeigt?\n",
    "koffer[1]"
   ]
  },
  {
   "cell_type": "code",
<<<<<<< HEAD
   "execution_count": 54,
=======
<<<<<<< HEAD
   "execution_count": 23,
=======
   "execution_count": 22,
>>>>>>> 63188e9793c8003b44506d16322f5e3fafded4c9
>>>>>>> 4c5c52ec7fe6053063370d3170a67d336c1a746f
   "metadata": {
    "collapsed": false
   },
   "outputs": [
    {
     "data": {
      "text/plain": [
       "'Zahnbürste'"
      ]
     },
<<<<<<< HEAD
     "execution_count": 54,
=======
<<<<<<< HEAD
     "execution_count": 23,
=======
     "execution_count": 22,
>>>>>>> 63188e9793c8003b44506d16322f5e3fafded4c9
>>>>>>> 4c5c52ec7fe6053063370d3170a67d336c1a746f
     "metadata": {},
     "output_type": "execute_result"
    }
   ],
   "source": [
    "# Programmierer fangen bei 0 an zu zählen. Das erste Element der Liste gibst Du deshalb so aus:  \n",
    "koffer[0]"
   ]
  },
  {
   "cell_type": "code",
<<<<<<< HEAD
   "execution_count": 55,
=======
<<<<<<< HEAD
   "execution_count": 24,
=======
   "execution_count": 23,
>>>>>>> 63188e9793c8003b44506d16322f5e3fafded4c9
>>>>>>> 4c5c52ec7fe6053063370d3170a67d336c1a746f
   "metadata": {
    "collapsed": false
   },
   "outputs": [
    {
     "data": {
      "text/plain": [
       "'Bikini'"
      ]
     },
<<<<<<< HEAD
     "execution_count": 55,
=======
<<<<<<< HEAD
     "execution_count": 24,
=======
     "execution_count": 23,
>>>>>>> 63188e9793c8003b44506d16322f5e3fafded4c9
>>>>>>> 4c5c52ec7fe6053063370d3170a67d336c1a746f
     "metadata": {},
     "output_type": "execute_result"
    }
   ],
   "source": [
    "# Letztes Element aus Liste \n",
    "koffer[-1]"
   ]
  },
  {
   "cell_type": "code",
<<<<<<< HEAD
   "execution_count": 56,
=======
<<<<<<< HEAD
   "execution_count": 25,
=======
   "execution_count": 24,
>>>>>>> 63188e9793c8003b44506d16322f5e3fafded4c9
>>>>>>> 4c5c52ec7fe6053063370d3170a67d336c1a746f
   "metadata": {
    "collapsed": false
   },
   "outputs": [
    {
     "data": {
      "text/plain": [
       "['Zahnbürste', 'Handtuch', 'Bikini', 'Hut']"
      ]
     },
<<<<<<< HEAD
     "execution_count": 56,
=======
<<<<<<< HEAD
     "execution_count": 25,
=======
     "execution_count": 24,
>>>>>>> 63188e9793c8003b44506d16322f5e3fafded4c9
>>>>>>> 4c5c52ec7fe6053063370d3170a67d336c1a746f
     "metadata": {},
     "output_type": "execute_result"
    }
   ],
   "source": [
    "# Füge ein weiteres Element zur Liste hinzu. \n",
    "koffer.append('Hut')\n",
    "koffer"
   ]
  },
  {
   "cell_type": "code",
<<<<<<< HEAD
   "execution_count": 57,
=======
<<<<<<< HEAD
   "execution_count": 26,
=======
   "execution_count": 25,
>>>>>>> 63188e9793c8003b44506d16322f5e3fafded4c9
>>>>>>> 4c5c52ec7fe6053063370d3170a67d336c1a746f
   "metadata": {
    "collapsed": false
   },
   "outputs": [
    {
     "data": {
      "text/plain": [
       "['Zahnbürste', 'Handtuch', 'Bikini']"
      ]
     },
<<<<<<< HEAD
     "execution_count": 57,
=======
<<<<<<< HEAD
     "execution_count": 26,
=======
     "execution_count": 25,
>>>>>>> 63188e9793c8003b44506d16322f5e3fafded4c9
>>>>>>> 4c5c52ec7fe6053063370d3170a67d336c1a746f
     "metadata": {},
     "output_type": "execute_result"
    }
   ],
   "source": [
    "# Und wieder entfernen - mit 'del' für delete\n",
    "del(koffer[-1])\n",
    "koffer "
   ]
  },
  {
   "cell_type": "code",
<<<<<<< HEAD
   "execution_count": 58,
=======
<<<<<<< HEAD
   "execution_count": 27,
=======
   "execution_count": 26,
>>>>>>> 63188e9793c8003b44506d16322f5e3fafded4c9
>>>>>>> 4c5c52ec7fe6053063370d3170a67d336c1a746f
   "metadata": {
    "collapsed": false
   },
   "outputs": [
    {
     "data": {
      "text/plain": [
       "['Bikini', 'Handtuch', 'Zahnbürste']"
      ]
     },
<<<<<<< HEAD
     "execution_count": 58,
=======
<<<<<<< HEAD
     "execution_count": 27,
=======
     "execution_count": 26,
>>>>>>> 63188e9793c8003b44506d16322f5e3fafded4c9
>>>>>>> 4c5c52ec7fe6053063370d3170a67d336c1a746f
     "metadata": {},
     "output_type": "execute_result"
    }
   ],
   "source": [
    "# Und jetzt bitte aufräumen: \n",
    "koffer.sort()\n",
    "koffer\n",
    "# Ist jetzt sortiert von A-Z"
   ]
  },
  {
   "cell_type": "code",
   "execution_count": 60,
   "metadata": {
    "collapsed": false
   },
   "outputs": [],
   "source": [
    "koffer.append('Gitarre')"
   ]
  },
  {
   "cell_type": "code",
   "execution_count": 61,
   "metadata": {
    "collapsed": false
   },
   "outputs": [
    {
     "data": {
      "text/plain": [
       "['Bikini', 'Handtuch', 'Zahnbürste', 'Gitarre']"
      ]
     },
     "execution_count": 61,
     "metadata": {},
     "output_type": "execute_result"
    }
   ],
   "source": [
    "koffer"
   ]
  },
  {
   "cell_type": "code",
   "execution_count": 65,
   "metadata": {
    "collapsed": false
   },
   "outputs": [
    {
     "data": {
      "text/plain": [
       "['Bikini', 'Gitarre', 'Handtuch', 'Zahnbürste']"
      ]
     },
     "execution_count": 65,
     "metadata": {},
     "output_type": "execute_result"
    }
   ],
   "source": [
    "koffer.sort()\n",
    "koffer"
   ]
  },
  {
   "cell_type": "markdown",
   "metadata": {},
   "source": [
    "## Aufgabe!"
   ]
  },
  {
   "cell_type": "markdown",
   "metadata": {},
   "source": [
    "* Füge der Liste 'koffer' ein weiteres Element hinzu. \n",
    "* Lasse Dir dieses Element anzeigen. \n",
    "* Sorge dann dafür, dass die Liste wieder alphabetisch sortiert wird."
   ]
  },
  {
   "cell_type": "code",
   "execution_count": 30,
   "metadata": {
    "collapsed": false
   },
   "outputs": [
    {
     "data": {
      "text/plain": [
       "['Bikini', 'Handtuch', 'Zahnbürste', 'Zahnpasta', 'Zahnpasta', 'Zahnpasta']"
      ]
     },
     "execution_count": 30,
     "metadata": {},
     "output_type": "execute_result"
    }
   ],
   "source": [
    "koffer.append(\"Zahnpasta\")\n",
    "koffer"
   ]
  },
  {
   "cell_type": "code",
   "execution_count": 32,
   "metadata": {
    "collapsed": false
   },
   "outputs": [
    {
     "data": {
      "text/plain": [
       "['Bikini', 'Handtuch', 'Zahnbürste', 'Zahnpasta']"
      ]
     },
     "execution_count": 32,
     "metadata": {},
     "output_type": "execute_result"
    }
   ],
   "source": [
    "del(koffer[-1])\n",
    "koffer"
   ]
  },
  {
   "cell_type": "code",
   "execution_count": 33,
   "metadata": {
    "collapsed": false
   },
   "outputs": [
    {
     "data": {
      "text/plain": [
       "['Bikini', 'Handtuch', 'Zahnbürste', 'Zahnpasta']"
      ]
     },
     "execution_count": 33,
     "metadata": {},
     "output_type": "execute_result"
    }
   ],
   "source": [
    "koffer.sort()\n",
    "koffer"
   ]
  },
  {
   "cell_type": "markdown",
   "metadata": {},
   "source": [
    "### Dictionarys"
   ]
  },
  {
   "cell_type": "code",
<<<<<<< HEAD
   "execution_count": 66,
=======
<<<<<<< HEAD
   "execution_count": 34,
=======
   "execution_count": 27,
>>>>>>> 63188e9793c8003b44506d16322f5e3fafded4c9
>>>>>>> 4c5c52ec7fe6053063370d3170a67d336c1a746f
   "metadata": {
    "collapsed": false
   },
   "outputs": [
    {
     "data": {
      "text/plain": [
       "{'Lisa': 258789, 'Martha': '801920', 'Philipp': 6598489}"
      ]
     },
<<<<<<< HEAD
     "execution_count": 66,
=======
<<<<<<< HEAD
     "execution_count": 34,
=======
     "execution_count": 27,
>>>>>>> 63188e9793c8003b44506d16322f5e3fafded4c9
>>>>>>> 4c5c52ec7fe6053063370d3170a67d336c1a746f
     "metadata": {},
     "output_type": "execute_result"
    }
   ],
   "source": [
    "# Dictionarys bestehen aus Key und Value-Paaren, wie Telefonbücher oder Vokabelhefte.\n",
    "leeres_dict = {}\n",
    "telefonbuch = {'Philipp': 6598489, 'Martha': '801920', 'Lisa': 258789 }\n",
    "telefonbuch"
   ]
  },
  {
   "cell_type": "code",
<<<<<<< HEAD
   "execution_count": 67,
=======
<<<<<<< HEAD
   "execution_count": 35,
=======
   "execution_count": 28,
>>>>>>> 63188e9793c8003b44506d16322f5e3fafded4c9
>>>>>>> 4c5c52ec7fe6053063370d3170a67d336c1a746f
   "metadata": {
    "collapsed": false
   },
   "outputs": [
    {
     "data": {
      "text/plain": [
<<<<<<< HEAD
       "dict_keys(['Martha', 'Philipp', 'Lisa'])"
      ]
     },
     "execution_count": 67,
=======
<<<<<<< HEAD
       "dict_keys(['Martha', 'Lisa', 'Philipp'])"
      ]
     },
     "execution_count": 35,
=======
       "dict_keys(['Lisa', 'Philipp', 'Martha'])"
      ]
     },
     "execution_count": 28,
>>>>>>> 63188e9793c8003b44506d16322f5e3fafded4c9
>>>>>>> 4c5c52ec7fe6053063370d3170a67d336c1a746f
     "metadata": {},
     "output_type": "execute_result"
    }
   ],
   "source": [
    "telefonbuch.keys()"
   ]
  },
  {
   "cell_type": "code",
<<<<<<< HEAD
   "execution_count": 68,
=======
<<<<<<< HEAD
   "execution_count": 36,
=======
   "execution_count": 29,
>>>>>>> 63188e9793c8003b44506d16322f5e3fafded4c9
>>>>>>> 4c5c52ec7fe6053063370d3170a67d336c1a746f
   "metadata": {
    "collapsed": false
   },
   "outputs": [
    {
     "data": {
      "text/plain": [
<<<<<<< HEAD
       "dict_values(['801920', 6598489, 258789])"
      ]
     },
     "execution_count": 68,
=======
<<<<<<< HEAD
       "dict_values(['801920', 258789, 6598489])"
      ]
     },
     "execution_count": 36,
=======
       "dict_values([258789, 6598489, '801920'])"
      ]
     },
     "execution_count": 29,
>>>>>>> 63188e9793c8003b44506d16322f5e3fafded4c9
>>>>>>> 4c5c52ec7fe6053063370d3170a67d336c1a746f
     "metadata": {},
     "output_type": "execute_result"
    }
   ],
   "source": [
    "telefonbuch.values()"
   ]
  },
  {
   "cell_type": "code",
<<<<<<< HEAD
   "execution_count": 69,
=======
<<<<<<< HEAD
   "execution_count": 37,
=======
   "execution_count": 30,
>>>>>>> 63188e9793c8003b44506d16322f5e3fafded4c9
>>>>>>> 4c5c52ec7fe6053063370d3170a67d336c1a746f
   "metadata": {
    "collapsed": false
   },
   "outputs": [
    {
     "ename": "AttributeError",
     "evalue": "'dict' object has no attribute 'sort'",
     "output_type": "error",
     "traceback": [
      "\u001b[0;31m---------------------------------------------------------------------------\u001b[0m",
      "\u001b[0;31mAttributeError\u001b[0m                            Traceback (most recent call last)",
<<<<<<< HEAD
      "\u001b[0;32m<ipython-input-69-98a297bd1d03>\u001b[0m in \u001b[0;36m<module>\u001b[0;34m()\u001b[0m\n\u001b[1;32m      1\u001b[0m \u001b[0;31m# Dictionarys sind unsortiert, deshalb kann man sie nicht sortieren.\u001b[0m\u001b[0;34m\u001b[0m\u001b[0;34m\u001b[0m\u001b[0m\n\u001b[0;32m----> 2\u001b[0;31m \u001b[0mtelefonbuch\u001b[0m\u001b[0;34m.\u001b[0m\u001b[0msort\u001b[0m\u001b[0;34m(\u001b[0m\u001b[0;34m)\u001b[0m\u001b[0;34m\u001b[0m\u001b[0m\n\u001b[0m",
=======
<<<<<<< HEAD
      "\u001b[0;32m<ipython-input-37-98a297bd1d03>\u001b[0m in \u001b[0;36m<module>\u001b[0;34m()\u001b[0m\n\u001b[1;32m      1\u001b[0m \u001b[0;31m# Dictionarys sind unsortiert, deshalb kann man sie nicht sortieren.\u001b[0m\u001b[0;34m\u001b[0m\u001b[0;34m\u001b[0m\u001b[0m\n\u001b[0;32m----> 2\u001b[0;31m \u001b[0mtelefonbuch\u001b[0m\u001b[0;34m.\u001b[0m\u001b[0msort\u001b[0m\u001b[0;34m(\u001b[0m\u001b[0;34m)\u001b[0m\u001b[0;34m\u001b[0m\u001b[0m\n\u001b[0m",
=======
      "\u001b[0;32m<ipython-input-30-98a297bd1d03>\u001b[0m in \u001b[0;36m<module>\u001b[0;34m()\u001b[0m\n\u001b[1;32m      1\u001b[0m \u001b[0;31m# Dictionarys sind unsortiert, deshalb kann man sie nicht sortieren.\u001b[0m\u001b[0;34m\u001b[0m\u001b[0;34m\u001b[0m\u001b[0m\n\u001b[0;32m----> 2\u001b[0;31m \u001b[0mtelefonbuch\u001b[0m\u001b[0;34m.\u001b[0m\u001b[0msort\u001b[0m\u001b[0;34m(\u001b[0m\u001b[0;34m)\u001b[0m\u001b[0;34m\u001b[0m\u001b[0m\n\u001b[0m",
>>>>>>> 63188e9793c8003b44506d16322f5e3fafded4c9
>>>>>>> 4c5c52ec7fe6053063370d3170a67d336c1a746f
      "\u001b[0;31mAttributeError\u001b[0m: 'dict' object has no attribute 'sort'"
     ]
    }
   ],
   "source": [
    "# Dictionarys sind unsortiert, deshalb kann man sie nicht sortieren. \n",
    "telefonbuch.sort()"
   ]
  },
  {
   "cell_type": "markdown",
   "metadata": {},
   "source": [
    "## Aufgabe! \n",
    "\n",
    "Wenn Du den nächsten Codeblock ausführst, erhälst Du drei Buchstaben.  \n",
    "Erstelle ein Dictionary 'stadt_land_fluss', das für jeden Buchstaben eine Liste mit passenden Begriffen zu 'Stadt', 'Land', Fluss enthält."
   ]
  },
  {
   "cell_type": "code",
<<<<<<< HEAD
   "execution_count": 70,
=======
<<<<<<< HEAD
   "execution_count": 38,
=======
   "execution_count": 31,
>>>>>>> 63188e9793c8003b44506d16322f5e3fafded4c9
>>>>>>> 4c5c52ec7fe6053063370d3170a67d336c1a746f
   "metadata": {
    "collapsed": false
   },
   "outputs": [
    {
     "data": {
      "text/plain": [
<<<<<<< HEAD
       "('W', 'N', 'A')"
      ]
     },
     "execution_count": 70,
=======
<<<<<<< HEAD
       "('Y', 'U', 'H')"
      ]
     },
     "execution_count": 38,
=======
       "('Q', 'Q', 'V')"
      ]
     },
     "execution_count": 31,
>>>>>>> 63188e9793c8003b44506d16322f5e3fafded4c9
>>>>>>> 4c5c52ec7fe6053063370d3170a67d336c1a746f
     "metadata": {},
     "output_type": "execute_result"
    }
   ],
   "source": [
    "from string import ascii_letters\n",
    "from random import choice \n",
    "buchstaben = (ascii_letters).upper()\n",
    "meine_bstb = choice(buchstaben), choice(buchstaben), choice(buchstaben)\n",
    "meine_bstb"
   ]
  },
  {
   "cell_type": "code",
<<<<<<< HEAD
   "execution_count": 71,
=======
<<<<<<< HEAD
   "execution_count": 40,
=======
   "execution_count": 32,
>>>>>>> 63188e9793c8003b44506d16322f5e3fafded4c9
>>>>>>> 4c5c52ec7fe6053063370d3170a67d336c1a746f
   "metadata": {
    "collapsed": false
   },
   "outputs": [
    {
     "data": {
      "text/plain": [
<<<<<<< HEAD
       "{'Fluss': ['Weser', 'Nummerfluss', 'Ausfluss'],\n",
       " 'Land': ['wurzelland', 'Neuseeland', 'Australien'],\n",
       " 'Stadt': ['Wien', 'Nürnberg', 'Aachen']}"
      ]
     },
     "execution_count": 71,
=======
<<<<<<< HEAD
       "{'Fluss': ['Y', 'U', 'H'], 'Land': ['Y', 'U', 'H'], 'Stadt': ['Y', 'U', 'H']}"
      ]
     },
     "execution_count": 40,
=======
       "{'Fluss': ['', '', ''], 'Land': ['', '', ''], 'Stadt': ['', '', '']}"
      ]
     },
     "execution_count": 32,
>>>>>>> 63188e9793c8003b44506d16322f5e3fafded4c9
>>>>>>> 4c5c52ec7fe6053063370d3170a67d336c1a746f
     "metadata": {},
     "output_type": "execute_result"
    }
   ],
   "source": [
    "stadt_land_fluss = {\n",
<<<<<<< HEAD
    "    'Stadt': ['Wien','Nürnberg', 'Aachen' ], \n",
    "    'Land': ['wurzelland', 'Neuseeland', 'Australien'], \n",
    "    'Fluss': ['Weser', 'Nummerfluss', 'Ausfluss'] } \n",
=======
    "    'Stadt': ['Y','U', 'H' ], \n",
    "    'Land': ['Y', 'U', 'H'], \n",
    "    'Fluss': ['Y', 'U', 'H'] } \n",
>>>>>>> 4c5c52ec7fe6053063370d3170a67d336c1a746f
    "stadt_land_fluss "
   ]
  },
  {
   "cell_type": "code",
<<<<<<< HEAD
   "execution_count": 72,
=======
<<<<<<< HEAD
   "execution_count": 41,
=======
   "execution_count": 33,
>>>>>>> 63188e9793c8003b44506d16322f5e3fafded4c9
>>>>>>> 4c5c52ec7fe6053063370d3170a67d336c1a746f
   "metadata": {
    "collapsed": false
   },
   "outputs": [
    {
     "data": {
      "text/plain": [
<<<<<<< HEAD
       "dict_keys(['Stadt', 'Land', 'Fluss'])"
      ]
     },
     "execution_count": 72,
=======
       "dict_keys(['Fluss', 'Stadt', 'Land'])"
      ]
     },
<<<<<<< HEAD
     "execution_count": 41,
=======
     "execution_count": 33,
>>>>>>> 63188e9793c8003b44506d16322f5e3fafded4c9
>>>>>>> 4c5c52ec7fe6053063370d3170a67d336c1a746f
     "metadata": {},
     "output_type": "execute_result"
    }
   ],
   "source": [
    "stadt_land_fluss.keys()"
   ]
  },
  {
   "cell_type": "code",
<<<<<<< HEAD
   "execution_count": 73,
=======
<<<<<<< HEAD
   "execution_count": 42,
=======
   "execution_count": 34,
>>>>>>> 63188e9793c8003b44506d16322f5e3fafded4c9
>>>>>>> 4c5c52ec7fe6053063370d3170a67d336c1a746f
   "metadata": {
    "collapsed": false
   },
   "outputs": [
    {
     "data": {
      "text/plain": [
<<<<<<< HEAD
       "dict_values([['Wien', 'Nürnberg', 'Aachen'], ['wurzelland', 'Neuseeland', 'Australien'], ['Weser', 'Nummerfluss', 'Ausfluss']])"
      ]
     },
     "execution_count": 73,
=======
<<<<<<< HEAD
       "dict_values([['Y', 'U', 'H'], ['Y', 'U', 'H'], ['Y', 'U', 'H']])"
      ]
     },
     "execution_count": 42,
=======
       "dict_values([['', '', ''], ['', '', ''], ['', '', '']])"
      ]
     },
     "execution_count": 34,
>>>>>>> 63188e9793c8003b44506d16322f5e3fafded4c9
>>>>>>> 4c5c52ec7fe6053063370d3170a67d336c1a746f
     "metadata": {},
     "output_type": "execute_result"
    }
   ],
   "source": [
    "stadt_land_fluss.values()"
   ]
  },
  {
   "cell_type": "markdown",
   "metadata": {},
   "source": [
    "## Schleifen \n",
    "\n",
    "\n",
    "In Python kann man jedes Element einer Liste oder eines Dictionarys nacheinander ablaufen und etwas damit tun. Man sagt, Listen und Dictionarys sind iterierbar. "
   ]
  },
  {
   "cell_type": "code",
<<<<<<< HEAD
   "execution_count": 74,
=======
<<<<<<< HEAD
   "execution_count": 43,
=======
   "execution_count": 35,
>>>>>>> 63188e9793c8003b44506d16322f5e3fafded4c9
>>>>>>> 4c5c52ec7fe6053063370d3170a67d336c1a746f
   "metadata": {
    "collapsed": false
   },
   "outputs": [
    {
     "name": "stdout",
     "output_type": "stream",
     "text": [
<<<<<<< HEAD
      "{'Stadt': ['Wien', 'Nürnberg', 'Aachen'], 'Land': ['wurzelland', 'Neuseeland', 'Australien'], 'Fluss': ['Weser', 'Nummerfluss', 'Ausfluss']}\n",
      "{'Stadt': ['Wien', 'Nürnberg', 'Aachen'], 'Land': ['wurzelland', 'Neuseeland', 'Australien'], 'Fluss': ['Weser', 'Nummerfluss', 'Ausfluss']}\n",
      "{'Stadt': ['Wien', 'Nürnberg', 'Aachen'], 'Land': ['wurzelland', 'Neuseeland', 'Australien'], 'Fluss': ['Weser', 'Nummerfluss', 'Ausfluss']}\n"
=======
<<<<<<< HEAD
      "{'Fluss': ['Y', 'U', 'H'], 'Stadt': ['Y', 'U', 'H'], 'Land': ['Y', 'U', 'H']}\n",
      "{'Fluss': ['Y', 'U', 'H'], 'Stadt': ['Y', 'U', 'H'], 'Land': ['Y', 'U', 'H']}\n",
      "{'Fluss': ['Y', 'U', 'H'], 'Stadt': ['Y', 'U', 'H'], 'Land': ['Y', 'U', 'H']}\n"
=======
      "{'Fluss': ['', '', ''], 'Stadt': ['', '', ''], 'Land': ['', '', '']}\n",
      "{'Fluss': ['', '', ''], 'Stadt': ['', '', ''], 'Land': ['', '', '']}\n",
      "{'Fluss': ['', '', ''], 'Stadt': ['', '', ''], 'Land': ['', '', '']}\n"
>>>>>>> 63188e9793c8003b44506d16322f5e3fafded4c9
>>>>>>> 4c5c52ec7fe6053063370d3170a67d336c1a746f
     ]
    }
   ],
   "source": [
    "import pprint    # pprint steht für 'pretty-print'. Lädt ein Paket, das hübsche Prints macht \n",
    "\n",
    "for element in stadt_land_fluss:\n",
    "    print(stadt_land_fluss)"
   ]
  },
  {
   "cell_type": "code",
<<<<<<< HEAD
   "execution_count": 75,
=======
<<<<<<< HEAD
   "execution_count": 45,
=======
   "execution_count": 36,
>>>>>>> 63188e9793c8003b44506d16322f5e3fafded4c9
>>>>>>> 4c5c52ec7fe6053063370d3170a67d336c1a746f
   "metadata": {
    "collapsed": false
   },
   "outputs": [
    {
     "name": "stdout",
     "output_type": "stream",
     "text": [
<<<<<<< HEAD
      "Wien\n",
      "wurzelland\n",
      "Weser\n"
=======
<<<<<<< HEAD
      "U\n",
      "U\n",
      "U\n"
=======
      "\n",
      "\n",
      "\n"
>>>>>>> 63188e9793c8003b44506d16322f5e3fafded4c9
>>>>>>> 4c5c52ec7fe6053063370d3170a67d336c1a746f
     ]
    }
   ],
   "source": [
    "for i in stadt_land_fluss: \n",
    "    print(stadt_land_fluss[i][1])"
   ]
  },
  {
   "cell_type": "markdown",
   "metadata": {},
   "source": [
    "## Aufgabe!"
   ]
  },
  {
   "cell_type": "markdown",
   "metadata": {},
   "source": [
    "Schreibe ein Programm, das nacheinander alle Teilnehmerinnen von Code4Girls begrüßt. Tipp: Du brauchst eine Liste der Teilnehmerinnen und eine Schleife. "
   ]
  },
  {
   "cell_type": "code",
<<<<<<< HEAD
   "execution_count": 77,
   "metadata": {
    "collapsed": false
   },
   "outputs": [],
   "source": [
    "Teilnehmer = ['Hannah', 'Anastasia', 'Nola', 'Cara']"
   ]
  },
  {
   "cell_type": "code",
   "execution_count": 78,
   "metadata": {
    "collapsed": false
   },
   "outputs": [
    {
     "data": {
      "text/plain": [
       "['Hannah', 'Anastasia', 'Nola', 'Cara']"
      ]
     },
     "execution_count": 78,
=======
<<<<<<< HEAD
   "execution_count": 47,
=======
   "execution_count": 38,
>>>>>>> 63188e9793c8003b44506d16322f5e3fafded4c9
   "metadata": {
    "collapsed": false
   },
   "outputs": [
    {
<<<<<<< HEAD
     "data": {
      "text/plain": [
       "['Hannah', 'Cara', 'Anastasia', 'Nola']"
      ]
     },
     "execution_count": 47,
>>>>>>> 4c5c52ec7fe6053063370d3170a67d336c1a746f
     "metadata": {},
     "output_type": "execute_result"
    }
   ],
   "source": [
<<<<<<< HEAD
    "Teilnehmer"
   ]
  },
  {
   "cell_type": "code",
   "execution_count": 85,
   "metadata": {
    "collapsed": false
   },
   "outputs": [
    {
     "name": "stdout",
     "output_type": "stream",
     "text": [
      "Hallo Hannah!\n",
      "Hallo Anastasia!\n",
      "Hallo Nola!\n",
      "Hallo Cara!\n"
=======
    "Teilnehmer = [\"Hannah\" , \"Cara\" , \"Anastasia\" , \"Nola\"]\n",
    "Teilnehmer"
=======
     "name": "stdout",
     "output_type": "stream",
     "text": [
      "Ciao!\n"
>>>>>>> 4c5c52ec7fe6053063370d3170a67d336c1a746f
     ]
    }
   ],
   "source": [
<<<<<<< HEAD
    "for Teilnehmerin in Teilnehmer:\n",
    "    print('Hallo' + ' ' + Teilnehmerin + '!')"
=======
    "name='Ciao!'\n",
    "print(name)"
>>>>>>> 63188e9793c8003b44506d16322f5e3fafded4c9
>>>>>>> 4c5c52ec7fe6053063370d3170a67d336c1a746f
   ]
  },
  {
   "cell_type": "code",
   "execution_count": 59,
   "metadata": {
    "collapsed": false
   },
   "outputs": [
    {
     "name": "stdout",
     "output_type": "stream",
     "text": [
      "Hallo Hannah !\n",
      "Hallo Cara !\n",
      "Hallo Anastasia !\n",
      "Hallo Nola !\n"
     ]
    }
   ],
   "source": [
    "for element in Teilnehmer:\n",
    "    print( \"Hallo\" ,element, \"!\")"
   ]
  },
  {
   "cell_type": "markdown",
   "metadata": {},
   "source": [
    "## Beispiel für eine Python-Funktion"
   ]
  },
  {
   "cell_type": "markdown",
   "metadata": {},
   "source": [
    "Schritt 1: Definiert eine Funktion, die 'name' als Argument nutzt: \n",
    "'Länge' wird auf die Anzahl der Buchstaben von 'name' gesetzt.  \n",
    "Dann wird laenge ausgegeben."
   ]
  },
  {
   "cell_type": "code",
<<<<<<< HEAD
   "execution_count": 90,
   "metadata": {
    "collapsed": false
   },
   "outputs": [
    {
     "data": {
      "text/plain": [
       "2"
      ]
     },
     "execution_count": 90,
     "metadata": {},
     "output_type": "execute_result"
    }
   ],
   "source": [
    "len('Pa')"
   ]
  },
  {
   "cell_type": "code",
   "execution_count": 91,
=======
<<<<<<< HEAD
   "execution_count": 61,
=======
   "execution_count": 39,
>>>>>>> 63188e9793c8003b44506d16322f5e3fafded4c9
>>>>>>> 4c5c52ec7fe6053063370d3170a67d336c1a746f
   "metadata": {
    "collapsed": false
   },
   "outputs": [],
   "source": [
    "def buchstaben_zaehlen(name):\n",
    "    laenge = len(name)\n",
    "    print(laenge)"
   ]
  },
  {
   "cell_type": "markdown",
   "metadata": {},
   "source": [
    "Schritt 2: Die Funktion wird aufgerufen. "
   ]
  },
  {
   "cell_type": "code",
<<<<<<< HEAD
   "execution_count": 92,
=======
<<<<<<< HEAD
   "execution_count": 62,
=======
   "execution_count": 40,
>>>>>>> 63188e9793c8003b44506d16322f5e3fafded4c9
>>>>>>> 4c5c52ec7fe6053063370d3170a67d336c1a746f
   "metadata": {
    "collapsed": false
   },
   "outputs": [
    {
     "name": "stdout",
     "output_type": "stream",
     "text": [
      "5\n"
     ]
    }
   ],
   "source": [
    "buchstaben_zaehlen('Simon')"
   ]
  },
  {
   "cell_type": "markdown",
   "metadata": {},
   "source": [
    "Andere Möglichkeit: Fragt nach dem Namen des Benutzers und speichert ihn in der Variable 'name'."
   ]
  },
  {
   "cell_type": "code",
<<<<<<< HEAD
   "execution_count": 99,
=======
<<<<<<< HEAD
   "execution_count": 67,
=======
   "execution_count": 64,
>>>>>>> 63188e9793c8003b44506d16322f5e3fafded4c9
>>>>>>> 4c5c52ec7fe6053063370d3170a67d336c1a746f
   "metadata": {
    "collapsed": false
   },
   "outputs": [
    {
     "name": "stdout",
     "output_type": "stream",
     "text": [
<<<<<<< HEAD
      "Bitte gib deinen Namen ein: \n",
      "Tensing\n"
=======
<<<<<<< HEAD
      "Anastasia: \n",
      "9\n"
=======
      "Bitte gib deinen Namen ein: \n",
      "Karen\n"
>>>>>>> 63188e9793c8003b44506d16322f5e3fafded4c9
>>>>>>> 4c5c52ec7fe6053063370d3170a67d336c1a746f
     ]
    }
   ],
   "source": [
    "name = input('Anastasia: \\n')"
   ]
  },
  {
   "cell_type": "code",
<<<<<<< HEAD
   "execution_count": 94,
=======
<<<<<<< HEAD
   "execution_count": 68,
=======
   "execution_count": 65,
>>>>>>> 63188e9793c8003b44506d16322f5e3fafded4c9
>>>>>>> 4c5c52ec7fe6053063370d3170a67d336c1a746f
   "metadata": {
    "collapsed": false
   },
   "outputs": [
    {
     "name": "stdout",
     "output_type": "stream",
     "text": [
<<<<<<< HEAD
      "4\n"
=======
<<<<<<< HEAD
      "1\n"
=======
      "5\n"
>>>>>>> 63188e9793c8003b44506d16322f5e3fafded4c9
>>>>>>> 4c5c52ec7fe6053063370d3170a67d336c1a746f
     ]
    }
   ],
   "source": [
    "buchstaben_zaehlen(name)"
   ]
  },
  {
   "cell_type": "code",
<<<<<<< HEAD
   "execution_count": 70,
=======
   "execution_count": 66,
>>>>>>> 63188e9793c8003b44506d16322f5e3fafded4c9
   "metadata": {
    "collapsed": false
   },
   "outputs": [
    {
     "data": {
      "text/plain": [
       "False"
      ]
     },
<<<<<<< HEAD
     "execution_count": 70,
=======
     "execution_count": 66,
>>>>>>> 63188e9793c8003b44506d16322f5e3fafded4c9
     "metadata": {},
     "output_type": "execute_result"
    }
   ],
   "source": [
    "# Wahrheit prüfen \n",
    "len(name) == 8"
   ]
  },
  {
   "cell_type": "markdown",
   "metadata": {},
   "source": [
    "## Bedingungen: Wenn, dann ... "
   ]
  },
  {
   "cell_type": "code",
<<<<<<< HEAD
   "execution_count": 100,
=======
<<<<<<< HEAD
   "execution_count": 71,
=======
   "execution_count": 67,
>>>>>>> 63188e9793c8003b44506d16322f5e3fafded4c9
>>>>>>> 4c5c52ec7fe6053063370d3170a67d336c1a746f
   "metadata": {
    "collapsed": false
   },
   "outputs": [
    {
     "name": "stdout",
     "output_type": "stream",
     "text": [
<<<<<<< HEAD
      "Mittel\n"
=======
<<<<<<< HEAD
      "Kurz\n"
=======
      "Mittel\n"
>>>>>>> 63188e9793c8003b44506d16322f5e3fafded4c9
>>>>>>> 4c5c52ec7fe6053063370d3170a67d336c1a746f
     ]
    }
   ],
   "source": [
    "if len(name) >= 8: \n",
    "    print('Lang!')\n",
    "if len(name) <= 4:\n",
    "    print('Kurz')\n",
    "if len(name) <8 and len(name) >4:\n",
    "    print('Mittel')"
   ]
  },
  {
   "cell_type": "code",
   "execution_count": null,
   "metadata": {
    "collapsed": true
   },
   "outputs": [],
   "source": []
  },
  {
   "cell_type": "markdown",
   "metadata": {
    "collapsed": false
   },
   "source": [
    "## Steuern berechnen\n"
   ]
  },
  {
   "cell_type": "code",
<<<<<<< HEAD
   "execution_count": 108,
=======
<<<<<<< HEAD
   "execution_count": 73,
=======
   "execution_count": 45,
>>>>>>> 63188e9793c8003b44506d16322f5e3fafded4c9
>>>>>>> 4c5c52ec7fe6053063370d3170a67d336c1a746f
   "metadata": {
    "collapsed": true
   },
   "outputs": [],
   "source": [
    "def berechneSteuern(preis, steuer_satz):\n",
    "    \"\"\"Berechnet die Mehwertsteuer für einen Preis\n",
    "\n",
    "    usage:\n",
    "        >>> berechneSteuern(\"7,19\")\n",
    "        8.33\n",
    "    \"\"\"\n",
    "    gesamt = preis + (preis * steuer_satz/100)\n",
    "    return gesamt"
   ]
  },
  {
   "cell_type": "code",
<<<<<<< HEAD
   "execution_count": 109,
   "metadata": {
    "collapsed": false,
    "scrolled": true
=======
<<<<<<< HEAD
   "execution_count": 74,
=======
   "execution_count": 46,
>>>>>>> 63188e9793c8003b44506d16322f5e3fafded4c9
   "metadata": {
    "collapsed": false
>>>>>>> 4c5c52ec7fe6053063370d3170a67d336c1a746f
   },
   "outputs": [
    {
     "name": "stdout",
     "output_type": "stream",
     "text": [
      "Help on function berechneSteuern in module __main__:\n",
      "\n",
      "berechneSteuern(preis, steuer_satz)\n",
      "    Berechnet die Mehwertsteuer für einen Preis\n",
      "    \n",
      "    usage:\n",
      "        >>> berechneSteuern(\"7,19\")\n",
      "        8.33\n",
      "\n"
     ]
    }
   ],
   "source": [
    "help(berechneSteuern)"
   ]
  },
  {
   "cell_type": "code",
<<<<<<< HEAD
   "execution_count": 110,
=======
<<<<<<< HEAD
   "execution_count": 75,
=======
   "execution_count": 47,
>>>>>>> 63188e9793c8003b44506d16322f5e3fafded4c9
>>>>>>> 4c5c52ec7fe6053063370d3170a67d336c1a746f
   "metadata": {
    "collapsed": false
   },
   "outputs": [
    {
     "data": {
      "text/plain": [
       "8.33"
      ]
     },
<<<<<<< HEAD
     "execution_count": 110,
=======
<<<<<<< HEAD
     "execution_count": 75,
=======
     "execution_count": 47,
>>>>>>> 63188e9793c8003b44506d16322f5e3fafded4c9
>>>>>>> 4c5c52ec7fe6053063370d3170a67d336c1a746f
     "metadata": {},
     "output_type": "execute_result"
    }
   ],
   "source": [
    "# And here's the function in action!\n",
    "berechneSteuern(7,19)"
   ]
  },
  {
   "cell_type": "markdown",
   "metadata": {},
   "source": [
    "## Temperatur umrechnen"
   ]
  },
  {
   "cell_type": "code",
<<<<<<< HEAD
   "execution_count": 111,
=======
<<<<<<< HEAD
   "execution_count": 76,
=======
   "execution_count": 48,
>>>>>>> 63188e9793c8003b44506d16322f5e3fafded4c9
>>>>>>> 4c5c52ec7fe6053063370d3170a67d336c1a746f
   "metadata": {
    "collapsed": true
   },
   "outputs": [],
   "source": [
    "def fahrenheit_in_celsius(fahr):\n",
    "    cel = 5/9*(fahr-32)\n",
    "    return cel"
   ]
  },
  {
   "cell_type": "code",
<<<<<<< HEAD
   "execution_count": 113,
=======
<<<<<<< HEAD
   "execution_count": 77,
=======
   "execution_count": 49,
>>>>>>> 63188e9793c8003b44506d16322f5e3fafded4c9
>>>>>>> 4c5c52ec7fe6053063370d3170a67d336c1a746f
   "metadata": {
    "collapsed": false
   },
   "outputs": [
    {
     "data": {
      "text/plain": [
<<<<<<< HEAD
       "15.555555555555557"
      ]
     },
     "execution_count": 113,
=======
       "32.22222222222222"
      ]
     },
<<<<<<< HEAD
     "execution_count": 77,
=======
     "execution_count": 49,
>>>>>>> 63188e9793c8003b44506d16322f5e3fafded4c9
>>>>>>> 4c5c52ec7fe6053063370d3170a67d336c1a746f
     "metadata": {},
     "output_type": "execute_result"
    }
   ],
   "source": [
    "fahrenheit_in_celsius(60)"
   ]
  },
  {
   "cell_type": "markdown",
   "metadata": {},
   "source": [
    "## Aufgabe\n",
    "Bitte lass Python noch mal alle Teilnehmerinnen begrüßen, schreibe aber diesmal eine Funktion dafür."
   ]
  },
  {
   "cell_type": "code",
<<<<<<< HEAD
   "execution_count": 124,
=======
   "execution_count": 81,
>>>>>>> 4c5c52ec7fe6053063370d3170a67d336c1a746f
   "metadata": {
    "collapsed": false
   },
   "outputs": [],
   "source": [
<<<<<<< HEAD
    "def begrüßen(foo):\n",
    "    for element in foo:\n",
    "        print('Hallo' + ' ' + element + '!')"
=======
    "def teilnehmer_begrüßen(Hallo, element):\n",
    "    gesamt = Hallo + element\n",
    "    return gesamt"
>>>>>>> 4c5c52ec7fe6053063370d3170a67d336c1a746f
   ]
  },
  {
   "cell_type": "code",
<<<<<<< HEAD
   "execution_count": 127,
=======
   "execution_count": 84,
>>>>>>> 4c5c52ec7fe6053063370d3170a67d336c1a746f
   "metadata": {
    "collapsed": false
   },
   "outputs": [
    {
<<<<<<< HEAD
     "name": "stdout",
     "output_type": "stream",
     "text": [
      "Hallo S!\n",
      "Hallo t!\n"
=======
     "ename": "NameError",
     "evalue": "name 'Hallo' is not defined",
     "output_type": "error",
     "traceback": [
      "\u001b[0;31m---------------------------------------------------------------------------\u001b[0m",
      "\u001b[0;31mNameError\u001b[0m                                 Traceback (most recent call last)",
      "\u001b[0;32m<ipython-input-84-aa404ab118ef>\u001b[0m in \u001b[0;36m<module>\u001b[0;34m()\u001b[0m\n\u001b[0;32m----> 1\u001b[0;31m \u001b[0mteilnehmer_begrüßen\u001b[0m\u001b[0;34m(\u001b[0m\u001b[0mHallo\u001b[0m\u001b[0;34m,\u001b[0m \u001b[0melement\u001b[0m\u001b[0;34m)\u001b[0m\u001b[0;34m\u001b[0m\u001b[0m\n\u001b[0m",
      "\u001b[0;31mNameError\u001b[0m: name 'Hallo' is not defined"
>>>>>>> 4c5c52ec7fe6053063370d3170a67d336c1a746f
     ]
    }
   ],
   "source": [
<<<<<<< HEAD
    "neue_liste = ['S', 't'] \n",
    "begrüßen(neue_liste)"
=======
    "teilnehmer_begrüßen(Hallo, element)"
>>>>>>> 4c5c52ec7fe6053063370d3170a67d336c1a746f
   ]
  },
  {
   "cell_type": "markdown",
   "metadata": {},
   "source": [
    "## Textaufgabe \n",
    "Anna trägt Zeitungen aus. Sie bekommt pro Zeitung 50 Cent. Schreibe eine Funktion, die Anna ausrechnet, wie viel sie verdient.     "
   ]
  },
  {
   "cell_type": "code",
   "execution_count": null,
   "metadata": {
    "collapsed": false
   },
   "outputs": [],
   "source": []
  },
  {
   "cell_type": "markdown",
   "metadata": {},
   "source": [
    "## ERRORS"
   ]
  },
  {
   "cell_type": "code",
   "execution_count": null,
   "metadata": {
    "collapsed": false
   },
   "outputs": [],
   "source": [
    "ERRORS "
   ]
  },
  {
   "cell_type": "markdown",
   "metadata": {},
   "source": [
    "Nicht von Fehlern abschrecken lassen, Fehler sind in Python nützliche kleine Helfer "
   ]
  },
  {
   "cell_type": "code",
   "execution_count": 50,
   "metadata": {
    "collapsed": false
   },
   "outputs": [
    {
     "data": {
      "text/html": [
       "<img src=\"static/minions.jpg\"/>"
      ],
      "text/plain": [
       "<IPython.core.display.Image object>"
      ]
     },
     "metadata": {},
     "output_type": "display_data"
    }
   ],
   "source": [
    "display(Image(url='static/minions.jpg'))"
   ]
  },
  {
   "cell_type": "markdown",
   "metadata": {},
   "source": [
    "__*Survival-Checkliste für Fehlermeldungen:*__\n",
    "1. KEINE PANIK \n",
    "2. Von hinten lesen (letzte Zeile zuerst)\n",
    "3. Was sagt der Fehler?\n",
    "4. In welcher Datei, welcher Zeile ist der Fehler?\n",
    "5. Fehler googeln (letzte Zeile kopieren und in Google einfügen) "
   ]
  },
  {
   "cell_type": "markdown",
   "metadata": {},
   "source": [
    "## Hilfe holen \n",
    "\n",
    "Praktisch an Jupyter ist, dass es eine eingebaute Hilfe und eine Auto-Vervollständigungs-Funktion hat."
   ]
  },
  {
   "cell_type": "code",
   "execution_count": 51,
   "metadata": {
    "collapsed": false
   },
   "outputs": [
    {
     "name": "stdout",
     "output_type": "stream",
     "text": [
      "Help on class str in module builtins:\n",
      "\n",
      "class str(object)\n",
      " |  str(object='') -> str\n",
      " |  str(bytes_or_buffer[, encoding[, errors]]) -> str\n",
      " |  \n",
      " |  Create a new string object from the given object. If encoding or\n",
      " |  errors is specified, then the object must expose a data buffer\n",
      " |  that will be decoded using the given encoding and error handler.\n",
      " |  Otherwise, returns the result of object.__str__() (if defined)\n",
      " |  or repr(object).\n",
      " |  encoding defaults to sys.getdefaultencoding().\n",
      " |  errors defaults to 'strict'.\n",
      " |  \n",
      " |  Methods defined here:\n",
      " |  \n",
      " |  __add__(self, value, /)\n",
      " |      Return self+value.\n",
      " |  \n",
      " |  __contains__(self, key, /)\n",
      " |      Return key in self.\n",
      " |  \n",
      " |  __eq__(self, value, /)\n",
      " |      Return self==value.\n",
      " |  \n",
      " |  __format__(...)\n",
      " |      S.__format__(format_spec) -> str\n",
      " |      \n",
      " |      Return a formatted version of S as described by format_spec.\n",
      " |  \n",
      " |  __ge__(self, value, /)\n",
      " |      Return self>=value.\n",
      " |  \n",
      " |  __getattribute__(self, name, /)\n",
      " |      Return getattr(self, name).\n",
      " |  \n",
      " |  __getitem__(self, key, /)\n",
      " |      Return self[key].\n",
      " |  \n",
      " |  __getnewargs__(...)\n",
      " |  \n",
      " |  __gt__(self, value, /)\n",
      " |      Return self>value.\n",
      " |  \n",
      " |  __hash__(self, /)\n",
      " |      Return hash(self).\n",
      " |  \n",
      " |  __iter__(self, /)\n",
      " |      Implement iter(self).\n",
      " |  \n",
      " |  __le__(self, value, /)\n",
      " |      Return self<=value.\n",
      " |  \n",
      " |  __len__(self, /)\n",
      " |      Return len(self).\n",
      " |  \n",
      " |  __lt__(self, value, /)\n",
      " |      Return self<value.\n",
      " |  \n",
      " |  __mod__(self, value, /)\n",
      " |      Return self%value.\n",
      " |  \n",
      " |  __mul__(self, value, /)\n",
      " |      Return self*value.n\n",
      " |  \n",
      " |  __ne__(self, value, /)\n",
      " |      Return self!=value.\n",
      " |  \n",
      " |  __new__(*args, **kwargs) from builtins.type\n",
      " |      Create and return a new object.  See help(type) for accurate signature.\n",
      " |  \n",
      " |  __repr__(self, /)\n",
      " |      Return repr(self).\n",
      " |  \n",
      " |  __rmod__(self, value, /)\n",
      " |      Return value%self.\n",
      " |  \n",
      " |  __rmul__(self, value, /)\n",
      " |      Return self*value.\n",
      " |  \n",
      " |  __sizeof__(...)\n",
      " |      S.__sizeof__() -> size of S in memory, in bytes\n",
      " |  \n",
      " |  __str__(self, /)\n",
      " |      Return str(self).\n",
      " |  \n",
      " |  capitalize(...)\n",
      " |      S.capitalize() -> str\n",
      " |      \n",
      " |      Return a capitalized version of S, i.e. make the first character\n",
      " |      have upper case and the rest lower case.\n",
      " |  \n",
      " |  casefold(...)\n",
      " |      S.casefold() -> str\n",
      " |      \n",
      " |      Return a version of S suitable for caseless comparisons.\n",
      " |  \n",
      " |  center(...)\n",
      " |      S.center(width[, fillchar]) -> str\n",
      " |      \n",
      " |      Return S centered in a string of length width. Padding is\n",
      " |      done using the specified fill character (default is a space)\n",
      " |  \n",
      " |  count(...)\n",
      " |      S.count(sub[, start[, end]]) -> int\n",
      " |      \n",
      " |      Return the number of non-overlapping occurrences of substring sub in\n",
      " |      string S[start:end].  Optional arguments start and end are\n",
      " |      interpreted as in slice notation.\n",
      " |  \n",
      " |  encode(...)\n",
      " |      S.encode(encoding='utf-8', errors='strict') -> bytes\n",
      " |      \n",
      " |      Encode S using the codec registered for encoding. Default encoding\n",
      " |      is 'utf-8'. errors may be given to set a different error\n",
      " |      handling scheme. Default is 'strict' meaning that encoding errors raise\n",
      " |      a UnicodeEncodeError. Other possible values are 'ignore', 'replace' and\n",
      " |      'xmlcharrefreplace' as well as any other name registered with\n",
      " |      codecs.register_error that can handle UnicodeEncodeErrors.\n",
      " |  \n",
      " |  endswith(...)\n",
      " |      S.endswith(suffix[, start[, end]]) -> bool\n",
      " |      \n",
      " |      Return True if S ends with the specified suffix, False otherwise.\n",
      " |      With optional start, test S beginning at that position.\n",
      " |      With optional end, stop comparing S at that position.\n",
      " |      suffix can also be a tuple of strings to try.\n",
      " |  \n",
      " |  expandtabs(...)\n",
      " |      S.expandtabs(tabsize=8) -> str\n",
      " |      \n",
      " |      Return a copy of S where all tab characters are expanded using spaces.\n",
      " |      If tabsize is not given, a tab size of 8 characters is assumed.\n",
      " |  \n",
      " |  find(...)\n",
      " |      S.find(sub[, start[, end]]) -> int\n",
      " |      \n",
      " |      Return the lowest index in S where substring sub is found,\n",
      " |      such that sub is contained within S[start:end].  Optional\n",
      " |      arguments start and end are interpreted as in slice notation.\n",
      " |      \n",
      " |      Return -1 on failure.\n",
      " |  \n",
      " |  format(...)\n",
      " |      S.format(*args, **kwargs) -> str\n",
      " |      \n",
      " |      Return a formatted version of S, using substitutions from args and kwargs.\n",
      " |      The substitutions are identified by braces ('{' and '}').\n",
      " |  \n",
      " |  format_map(...)\n",
      " |      S.format_map(mapping) -> str\n",
      " |      \n",
      " |      Return a formatted version of S, using substitutions from mapping.\n",
      " |      The substitutions are identified by braces ('{' and '}').\n",
      " |  \n",
      " |  index(...)\n",
      " |      S.index(sub[, start[, end]]) -> int\n",
      " |      \n",
      " |      Like S.find() but raise ValueError when the substring is not found.\n",
      " |  \n",
      " |  isalnum(...)\n",
      " |      S.isalnum() -> bool\n",
      " |      \n",
      " |      Return True if all characters in S are alphanumeric\n",
      " |      and there is at least one character in S, False otherwise.\n",
      " |  \n",
      " |  isalpha(...)\n",
      " |      S.isalpha() -> bool\n",
      " |      \n",
      " |      Return True if all characters in S are alphabetic\n",
      " |      and there is at least one character in S, False otherwise.\n",
      " |  \n",
      " |  isdecimal(...)\n",
      " |      S.isdecimal() -> bool\n",
      " |      \n",
      " |      Return True if there are only decimal characters in S,\n",
      " |      False otherwise.\n",
      " |  \n",
      " |  isdigit(...)\n",
      " |      S.isdigit() -> bool\n",
      " |      \n",
      " |      Return True if all characters in S are digits\n",
      " |      and there is at least one character in S, False otherwise.\n",
      " |  \n",
      " |  isidentifier(...)\n",
      " |      S.isidentifier() -> bool\n",
      " |      \n",
      " |      Return True if S is a valid identifier according\n",
      " |      to the language definition.\n",
      " |      \n",
      " |      Use keyword.iskeyword() to test for reserved identifiers\n",
      " |      such as \"def\" and \"class\".\n",
      " |  \n",
      " |  islower(...)\n",
      " |      S.islower() -> bool\n",
      " |      \n",
      " |      Return True if all cased characters in S are lowercase and there is\n",
      " |      at least one cased character in S, False otherwise.\n",
      " |  \n",
      " |  isnumeric(...)\n",
      " |      S.isnumeric() -> bool\n",
      " |      \n",
      " |      Return True if there are only numeric characters in S,\n",
      " |      False otherwise.\n",
      " |  \n",
      " |  isprintable(...)\n",
      " |      S.isprintable() -> bool\n",
      " |      \n",
      " |      Return True if all characters in S are considered\n",
      " |      printable in repr() or S is empty, False otherwise.\n",
      " |  \n",
      " |  isspace(...)\n",
      " |      S.isspace() -> bool\n",
      " |      \n",
      " |      Return True if all characters in S are whitespace\n",
      " |      and there is at least one character in S, False otherwise.\n",
      " |  \n",
      " |  istitle(...)\n",
      " |      S.istitle() -> bool\n",
      " |      \n",
      " |      Return True if S is a titlecased string and there is at least one\n",
      " |      character in S, i.e. upper- and titlecase characters may only\n",
      " |      follow uncased characters and lowercase characters only cased ones.\n",
      " |      Return False otherwise.\n",
      " |  \n",
      " |  isupper(...)\n",
      " |      S.isupper() -> bool\n",
      " |      \n",
      " |      Return True if all cased characters in S are uppercase and there is\n",
      " |      at least one cased character in S, False otherwise.\n",
      " |  \n",
      " |  join(...)\n",
      " |      S.join(iterable) -> str\n",
      " |      \n",
      " |      Return a string which is the concatenation of the strings in the\n",
      " |      iterable.  The separator between elements is S.\n",
      " |  \n",
      " |  ljust(...)\n",
      " |      S.ljust(width[, fillchar]) -> str\n",
      " |      \n",
      " |      Return S left-justified in a Unicode string of length width. Padding is\n",
      " |      done using the specified fill character (default is a space).\n",
      " |  \n",
      " |  lower(...)\n",
      " |      S.lower() -> str\n",
      " |      \n",
      " |      Return a copy of the string S converted to lowercase.\n",
      " |  \n",
      " |  lstrip(...)\n",
      " |      S.lstrip([chars]) -> str\n",
      " |      \n",
      " |      Return a copy of the string S with leading whitespace removed.\n",
      " |      If chars is given and not None, remove characters in chars instead.\n",
      " |  \n",
      " |  partition(...)\n",
      " |      S.partition(sep) -> (head, sep, tail)\n",
      " |      \n",
      " |      Search for the separator sep in S, and return the part before it,\n",
      " |      the separator itself, and the part after it.  If the separator is not\n",
      " |      found, return S and two empty strings.\n",
      " |  \n",
      " |  replace(...)\n",
      " |      S.replace(old, new[, count]) -> str\n",
      " |      \n",
      " |      Return a copy of S with all occurrences of substring\n",
      " |      old replaced by new.  If the optional argument count is\n",
      " |      given, only the first count occurrences are replaced.\n",
      " |  \n",
      " |  rfind(...)\n",
      " |      S.rfind(sub[, start[, end]]) -> int\n",
      " |      \n",
      " |      Return the highest index in S where substring sub is found,\n",
      " |      such that sub is contained within S[start:end].  Optional\n",
      " |      arguments start and end are interpreted as in slice notation.\n",
      " |      \n",
      " |      Return -1 on failure.\n",
      " |  \n",
      " |  rindex(...)\n",
      " |      S.rindex(sub[, start[, end]]) -> int\n",
      " |      \n",
      " |      Like S.rfind() but raise ValueError when the substring is not found.\n",
      " |  \n",
      " |  rjust(...)\n",
      " |      S.rjust(width[, fillchar]) -> str\n",
      " |      \n",
      " |      Return S right-justified in a string of length width. Padding is\n",
      " |      done using the specified fill character (default is a space).\n",
      " |  \n",
      " |  rpartition(...)\n",
      " |      S.rpartition(sep) -> (head, sep, tail)\n",
      " |      \n",
      " |      Search for the separator sep in S, starting at the end of S, and return\n",
      " |      the part before it, the separator itself, and the part after it.  If the\n",
      " |      separator is not found, return two empty strings and S.\n",
      " |  \n",
      " |  rsplit(...)\n",
      " |      S.rsplit(sep=None, maxsplit=-1) -> list of strings\n",
      " |      \n",
      " |      Return a list of the words in S, using sep as the\n",
      " |      delimiter string, starting at the end of the string and\n",
      " |      working to the front.  If maxsplit is given, at most maxsplit\n",
      " |      splits are done. If sep is not specified, any whitespace string\n",
      " |      is a separator.\n",
      " |  \n",
      " |  rstrip(...)\n",
      " |      S.rstrip([chars]) -> str\n",
      " |      \n",
      " |      Return a copy of the string S with trailing whitespace removed.\n",
      " |      If chars is given and not None, remove characters in chars instead.\n",
      " |  \n",
      " |  split(...)\n",
      " |      S.split(sep=None, maxsplit=-1) -> list of strings\n",
      " |      \n",
      " |      Return a list of the words in S, using sep as the\n",
      " |      delimiter string.  If maxsplit is given, at most maxsplit\n",
      " |      splits are done. If sep is not specified or is None, any\n",
      " |      whitespace string is a separator and empty strings are\n",
      " |      removed from the result.\n",
      " |  \n",
      " |  splitlines(...)\n",
      " |      S.splitlines([keepends]) -> list of strings\n",
      " |      \n",
      " |      Return a list of the lines in S, breaking at line boundaries.\n",
      " |      Line breaks are not included in the resulting list unless keepends\n",
      " |      is given and true.\n",
      " |  \n",
      " |  startswith(...)\n",
      " |      S.startswith(prefix[, start[, end]]) -> bool\n",
      " |      \n",
      " |      Return True if S starts with the specified prefix, False otherwise.\n",
      " |      With optional start, test S beginning at that position.\n",
      " |      With optional end, stop comparing S at that position.\n",
      " |      prefix can also be a tuple of strings to try.\n",
      " |  \n",
      " |  strip(...)\n",
      " |      S.strip([chars]) -> str\n",
      " |      \n",
      " |      Return a copy of the string S with leading and trailing\n",
      " |      whitespace removed.\n",
      " |      If chars is given and not None, remove characters in chars instead.\n",
      " |  \n",
      " |  swapcase(...)\n",
      " |      S.swapcase() -> str\n",
      " |      \n",
      " |      Return a copy of S with uppercase characters converted to lowercase\n",
      " |      and vice versa.\n",
      " |  \n",
      " |  title(...)\n",
      " |      S.title() -> str\n",
      " |      \n",
      " |      Return a titlecased version of S, i.e. words start with title case\n",
      " |      characters, all remaining cased characters have lower case.\n",
      " |  \n",
      " |  translate(...)\n",
      " |      S.translate(table) -> str\n",
      " |      \n",
      " |      Return a copy of the string S, where all characters have been mapped\n",
      " |      through the given translation table, which must be a mapping of\n",
      " |      Unicode ordinals to Unicode ordinals, strings, or None.\n",
      " |      Unmapped characters are left untouched. Characters mapped to None\n",
      " |      are deleted.\n",
      " |  \n",
      " |  upper(...)\n",
      " |      S.upper() -> str\n",
      " |      \n",
      " |      Return a copy of S converted to uppercase.\n",
      " |  \n",
      " |  zfill(...)\n",
      " |      S.zfill(width) -> str\n",
      " |      \n",
      " |      Pad a numeric string S with zeros on the left, to fill a field\n",
      " |      of the specified width. The string S is never truncated.\n",
      " |  \n",
      " |  ----------------------------------------------------------------------\n",
      " |  Static methods defined here:\n",
      " |  \n",
      " |  maketrans(x, y=None, z=None, /)\n",
      " |      Return a translation table usable for str.translate().\n",
      " |      \n",
      " |      If there is only one argument, it must be a dictionary mapping Unicode\n",
      " |      ordinals (integers) or characters to Unicode ordinals, strings or None.\n",
      " |      Character keys will be then converted to ordinals.\n",
      " |      If there are two arguments, they must be strings of equal length, and\n",
      " |      in the resulting dictionary, each character in x will be mapped to the\n",
      " |      character at the same position in y. If there is a third argument, it\n",
      " |      must be a string, whose characters will be mapped to None in the result.\n",
      "\n"
     ]
    }
   ],
   "source": [
    "# Mit help() zeigst Du die eingebaute Hilfe an, zum Beispiel help(str) zeigt alle String-Funktionen an. \n",
    "help(str)"
   ]
  },
  {
   "cell_type": "markdown",
   "metadata": {},
   "source": [
    "## Spaß mit Strings"
   ]
  },
  {
   "cell_type": "code",
   "execution_count": 52,
   "metadata": {
    "collapsed": true
   },
   "outputs": [],
   "source": [
    "zungenbrecher = 'Fischers Fritze fischt frische Fische'"
   ]
  },
  {
   "cell_type": "code",
   "execution_count": 53,
   "metadata": {
    "collapsed": false
   },
   "outputs": [
    {
     "data": {
      "text/plain": [
       "'FISCHERS FRITZE FISCHT FRISCHE FISCHE'"
      ]
     },
     "execution_count": 53,
     "metadata": {},
     "output_type": "execute_result"
    }
   ],
   "source": [
    "# Möchte man mit den Zungenbrecher etwas machen, kann man 'zungenbrecher.' tippen und dann [tab]. \n",
    "zungenbrecher.upper()"
   ]
  },
  {
   "cell_type": "code",
   "execution_count": 54,
   "metadata": {
    "collapsed": false
   },
   "outputs": [
    {
     "data": {
      "text/plain": [
       "1"
      ]
     },
     "execution_count": 54,
     "metadata": {},
     "output_type": "execute_result"
    }
   ],
   "source": [
    "# Möchte man zählen, wie oft die Buchstabenfolge 'fisch' im Zungenbrecher vorkommt, dann kann man \n",
    "zungenbrecher.count('fisch')"
   ]
  },
  {
   "cell_type": "code",
   "execution_count": 55,
   "metadata": {
    "collapsed": false
   },
   "outputs": [
    {
     "data": {
      "text/plain": [
       "3"
      ]
     },
     "execution_count": 55,
     "metadata": {},
     "output_type": "execute_result"
    }
   ],
   "source": [
    "# Man kann auch erst alles klein schreiben und dann nach 'fisch' suchen. \n",
    "zungenbrecher.lower().count('fisch')"
   ]
  },
  {
   "cell_type": "code",
   "execution_count": 56,
   "metadata": {
    "collapsed": false
   },
   "outputs": [
    {
     "data": {
      "text/plain": [
       "False"
      ]
     },
     "execution_count": 56,
     "metadata": {},
     "output_type": "execute_result"
    }
   ],
   "source": [
    "'cat' in zungenbrecher"
   ]
  },
  {
   "cell_type": "code",
   "execution_count": 57,
   "metadata": {
    "collapsed": false
   },
   "outputs": [
    {
     "data": {
      "text/plain": [
       "True"
      ]
     },
     "execution_count": 57,
     "metadata": {},
     "output_type": "execute_result"
    }
   ],
   "source": [
    "'Fritz' in zungenbrecher"
   ]
  },
  {
   "cell_type": "code",
   "execution_count": 58,
   "metadata": {
    "collapsed": false
   },
   "outputs": [
    {
     "data": {
      "text/plain": [
       "9"
      ]
     },
     "execution_count": 58,
     "metadata": {},
     "output_type": "execute_result"
    }
   ],
   "source": [
    "zungenbrecher.find('Fritze')"
   ]
  },
  {
   "cell_type": "code",
   "execution_count": 59,
   "metadata": {
    "collapsed": false
   },
   "outputs": [
    {
     "data": {
      "text/plain": [
       "'Fischers '"
      ]
     },
     "execution_count": 59,
     "metadata": {},
     "output_type": "execute_result"
    }
   ],
   "source": [
    "index = zungenbrecher.find('Fritze')\n",
    "zungenbrecher[:index]"
   ]
  },
  {
   "cell_type": "code",
   "execution_count": 60,
   "metadata": {
    "collapsed": false
   },
   "outputs": [
    {
     "data": {
      "text/plain": [
       "'Fritze fischt frische Fische'"
      ]
     },
     "execution_count": 60,
     "metadata": {},
     "output_type": "execute_result"
    }
   ],
   "source": [
    "zungenbrecher[index:]"
   ]
  },
  {
   "cell_type": "markdown",
   "metadata": {},
   "source": [
    "## Lasset die Spiele beginnen!"
   ]
  },
  {
   "cell_type": "code",
   "execution_count": 61,
   "metadata": {
    "collapsed": false
   },
   "outputs": [
    {
     "data": {
      "text/html": [
       "<img src=\"./static/anna.gif\"/>"
      ],
      "text/plain": [
       "<IPython.core.display.Image object>"
      ]
     },
     "metadata": {},
     "output_type": "display_data"
    }
   ],
   "source": [
    "from IPython.display import Image\n",
    "from IPython.display import display\n",
    "display(Image(url='./static/anna.gif'))"
   ]
  },
  {
   "cell_type": "code",
   "execution_count": 68,
   "metadata": {
    "collapsed": false
   },
   "outputs": [
    {
     "name": "stdout",
     "output_type": "stream",
     "text": [
      "Hallo\n"
     ]
    }
   ],
   "source": [
    "name='Hallo'\n",
    "print(name)"
   ]
  },
  {
   "cell_type": "code",
   "execution_count": 70,
   "metadata": {
    "collapsed": false
   },
   "outputs": [
    {
     "name": "stdout",
     "output_type": "stream",
     "text": [
      "5\n"
     ]
    },
    {
     "ename": "NameError",
     "evalue": "name 'Maria' is not defined",
     "output_type": "error",
     "traceback": [
      "\u001b[0;31m---------------------------------------------------------------------------\u001b[0m",
      "\u001b[0;31mNameError\u001b[0m                                 Traceback (most recent call last)",
      "\u001b[0;32m<ipython-input-70-d382859965d5>\u001b[0m in \u001b[0;36m<module>\u001b[0;34m()\u001b[0m\n\u001b[1;32m      1\u001b[0m \u001b[0mbuchstaben_zaehlen\u001b[0m \u001b[0;34m(\u001b[0m\u001b[0mname\u001b[0m\u001b[0;34m)\u001b[0m\u001b[0;34m\u001b[0m\u001b[0m\n\u001b[0;32m----> 2\u001b[0;31m \u001b[0mname\u001b[0m\u001b[0;34m=\u001b[0m\u001b[0mMaria\u001b[0m\u001b[0;34m\u001b[0m\u001b[0m\n\u001b[0m",
      "\u001b[0;31mNameError\u001b[0m: name 'Maria' is not defined"
     ]
    }
   ],
   "source": [
    "buchstaben_zaehlen (name)\n",
    "name=Maria"
   ]
  },
  {
   "cell_type": "code",
   "execution_count": null,
   "metadata": {
    "collapsed": true
   },
   "outputs": [],
   "source": []
  }
 ],
 "metadata": {
  "kernelspec": {
   "display_name": "Python 3",
   "language": "python",
   "name": "python3"
  },
  "language_info": {
   "codemirror_mode": {
    "name": "ipython",
    "version": 3
   },
   "file_extension": ".py",
   "mimetype": "text/x-python",
   "name": "python",
   "nbconvert_exporter": "python",
   "pygments_lexer": "ipython3",
   "version": "3.4.2"
  }
 },
 "nbformat": 4,
 "nbformat_minor": 0
}
