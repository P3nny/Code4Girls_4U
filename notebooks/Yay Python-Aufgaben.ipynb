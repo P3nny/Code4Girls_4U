{
 "cells": [
  {
   "cell_type": "markdown",
   "metadata": {},
   "source": [
    "# Introduction to Python\n",
    "\n",
    "Quelle: []"
   ]
  },
  {
   "cell_type": "code",
   "execution_count": null,
   "metadata": {
    "collapsed": false
   },
   "outputs": [],
   "source": [
    "# display this image\n",
    "from IPython.display import Image\n",
    "from IPython.display import display\n",
    "display(Image(url='static/glitter.gif'), width=50)"
   ]
  },
  {
   "cell_type": "code",
   "execution_count": null,
   "metadata": {
    "collapsed": false
   },
   "outputs": [],
   "source": [
    "## Zuweisungen \n",
    "\n",
    "name = '' # Gib zwischen den '' deinen Namen ein!   \n",
    "print(name)"
   ]
  },
  {
   "cell_type": "code",
   "execution_count": null,
   "metadata": {
    "collapsed": false
   },
   "outputs": [],
   "source": [
    "print('Ich heiße', name)"
   ]
  },
  {
   "cell_type": "code",
   "execution_count": null,
   "metadata": {
    "collapsed": false
   },
   "outputs": [],
   "source": [
    "a = 'Hello'\n",
    "b='World'\n",
    "print(a,b)"
   ]
  },
  {
   "cell_type": "markdown",
   "metadata": {},
   "source": [
    "Solche Zuweisungen nennt man auch Variablen. Die Variable 'name' wird auf den Wert 'Hallo' gesetzt. Das kann man sich so vorstellen, also würde man einen Namensaufkleber auf etwas kleben. Den kann man auch wieder abziehen und auf etwas Anderes kleben. "
   ]
  },
  {
   "cell_type": "code",
   "execution_count": null,
   "metadata": {
    "collapsed": false
   },
   "outputs": [],
   "source": [
    "print(a)"
   ]
  },
  {
   "cell_type": "code",
   "execution_count": null,
   "metadata": {
    "collapsed": true
   },
   "outputs": [],
   "source": [
    "a= 5"
   ]
  },
  {
   "cell_type": "code",
   "execution_count": null,
   "metadata": {
    "collapsed": false
   },
   "outputs": [],
   "source": [
    "print(a)"
   ]
  },
  {
   "cell_type": "markdown",
   "metadata": {},
   "source": [
    "## Datentypen"
   ]
  },
  {
   "cell_type": "code",
   "execution_count": null,
   "metadata": {
    "collapsed": false
   },
   "outputs": [],
   "source": [
    "# Datentypen \n",
    "mein_str = 'Code4Girls' # Irgendwas mit Buchstaben, immer in Anführungszeichen, '' oder \"\" ist egal, nur einheitlich.\n",
    "mein_int = 4 # Ganze Zahl\n",
    "mein_float = 5.0 # Komma-Zahl, im englischen aber mit Punkt geschrieben"
   ]
  },
  {
   "cell_type": "code",
   "execution_count": null,
   "metadata": {
    "collapsed": false
   },
   "outputs": [],
   "source": [
    "type(mein_str)"
   ]
  },
  {
   "cell_type": "code",
   "execution_count": null,
   "metadata": {
    "collapsed": false
   },
   "outputs": [],
   "source": [
    "print('Hallo' * 20)"
   ]
  },
  {
   "cell_type": "markdown",
   "metadata": {
    "collapsed": true
   },
   "source": [
    "### Aufgabe!"
   ]
  },
  {
   "cell_type": "markdown",
   "metadata": {
    "collapsed": true
   },
   "source": [
    "Denk Dir einen Hund aus: \n",
    "- Schreibe eine Variable name und weise ihr einen Namen zu. Denk an die Anführungszeichen bei Strings. \n",
    "- Schreibe eine Variable rasse und weise ihr zu, zu welcher Rasse der Hund gehört. \n",
    "- Schreibe eine Variable futter und weise ihr ein Futter zu. \n",
    "- Schreibe eine Variable alter und weise ihr eine Zahl zu."
   ]
  },
  {
   "cell_type": "markdown",
   "metadata": {
    "collapsed": true
   },
   "source": [
    "## Mehr Datentypen"
   ]
  },
  {
   "cell_type": "markdown",
   "metadata": {},
   "source": [
    "### Listen"
   ]
  },
  {
   "cell_type": "code",
   "execution_count": null,
   "metadata": {
    "collapsed": true
   },
   "outputs": [],
   "source": [
    "# Listen \n",
    "leere_liste = []"
   ]
  },
  {
   "cell_type": "code",
   "execution_count": null,
   "metadata": {
    "collapsed": false
   },
   "outputs": [],
   "source": [
    "# Eine Besonderheit im Jupyter Notebook ist, dass man sich 'print()' sparen kann. Um eine Variable anzuzeigen reicht:\n",
    "leere_liste"
   ]
  },
  {
   "cell_type": "code",
   "execution_count": null,
   "metadata": {
    "collapsed": false
   },
   "outputs": [],
   "source": [
    "# Eine Liste kann verschiedene Datenytypen enthalten, auch andere Listen. \n",
    "gemischte_liste = [1, [4,5.0], 'Buchstaben']\n",
    "gemischte_liste"
   ]
  },
  {
   "cell_type": "code",
   "execution_count": null,
   "metadata": {
    "collapsed": false
   },
   "outputs": [],
   "source": [
    "koffer = ['Zahnbürste', 'Handtuch', 'Bikini']\n",
    "koffer"
   ]
  },
  {
   "cell_type": "code",
   "execution_count": null,
   "metadata": {
    "collapsed": false
   },
   "outputs": [],
   "source": [
    "# Element aus Liste herausziehen. Was glaubst Du, welches Ding im Koffer wird angezeigt?\n",
    "koffer[1]"
   ]
  },
  {
   "cell_type": "code",
   "execution_count": null,
   "metadata": {
    "collapsed": false
   },
   "outputs": [],
   "source": [
    "# Programmierer fangen bei 0 an zu zählen. Das erste Element der Liste gibst Du deshalb so aus:  \n",
    "koffer[0]"
   ]
  },
  {
   "cell_type": "code",
   "execution_count": null,
   "metadata": {
    "collapsed": false
   },
   "outputs": [],
   "source": [
    "# Letztes Element aus Liste \n",
    "koffer[-1]"
   ]
  },
  {
   "cell_type": "code",
   "execution_count": null,
   "metadata": {
    "collapsed": false
   },
   "outputs": [],
   "source": [
    "# Füge ein weiteres Element zur Liste hinzu. \n",
    "koffer.append('Hut')\n",
    "koffer"
   ]
  },
  {
   "cell_type": "code",
   "execution_count": null,
   "metadata": {
    "collapsed": false
   },
   "outputs": [],
   "source": [
    "# Und wieder entfernen - mit 'del' für delete\n",
    "del(koffer[-1])\n",
    "koffer "
   ]
  },
  {
   "cell_type": "code",
   "execution_count": null,
   "metadata": {
    "collapsed": false
   },
   "outputs": [],
   "source": [
    "# Und jetzt bitte aufräumen: \n",
    "koffer.sort()\n",
    "koffer\n",
    "# Ist jetzt sortiert von A-Z"
   ]
  },
  {
   "cell_type": "markdown",
   "metadata": {},
   "source": [
    "## Aufgabe!"
   ]
  },
  {
   "cell_type": "markdown",
   "metadata": {},
   "source": [
    "* Füge der Liste 'koffer' ein weiteres Element hinzu. \n",
    "* Lasse Dir dieses Element anzeigen. \n",
    "* Sorge dann dafür, dass die Liste wieder alphabetisch sortiert wird."
   ]
  },
  {
   "cell_type": "markdown",
   "metadata": {},
   "source": [
    "### Dictionarys"
   ]
  },
  {
   "cell_type": "code",
   "execution_count": null,
   "metadata": {
    "collapsed": false
   },
   "outputs": [],
   "source": [
    "# Dictionarys bestehen aus Key und Value-Paaren, wie Telefonbücher oder Vokabelhefte.\n",
    "leeres_dict = {}\n",
    "telefonbuch = {'Philipp': 6598489, 'Martha': '801920', 'Lisa': 258789 }\n",
    "telefonbuch"
   ]
  },
  {
   "cell_type": "code",
   "execution_count": null,
   "metadata": {
    "collapsed": false
   },
   "outputs": [],
   "source": [
    "telefonbuch.keys()"
   ]
  },
  {
   "cell_type": "code",
   "execution_count": null,
   "metadata": {
    "collapsed": false
   },
   "outputs": [],
   "source": [
    "telefonbuch.values()"
   ]
  },
  {
   "cell_type": "code",
   "execution_count": null,
   "metadata": {
    "collapsed": false
   },
   "outputs": [],
   "source": [
    "# Dictionarys sind unsortiert, deshalb kann man sie nicht sortieren. \n",
    "telefonbuch.sort()"
   ]
  },
  {
   "cell_type": "markdown",
   "metadata": {},
   "source": [
    "## Aufgabe! \n",
    "\n",
    "Wenn Du den nächsten Codeblock ausführst, erhälst Du drei Buchstaben.  \n",
    "Erstelle ein Dictionary 'stadt_land_fluss', das für jeden Buchstaben eine Liste mit passenden Begriffen zu 'Stadt', 'Land', Fluss enthält."
   ]
  },
  {
   "cell_type": "code",
   "execution_count": null,
   "metadata": {
    "collapsed": false
   },
   "outputs": [],
   "source": [
    "from string import ascii_letters\n",
    "from random import choice \n",
    "buchstaben = (ascii_letters).upper()\n",
    "meine_bstb = choice(buchstaben), choice(buchstaben), choice(buchstaben)\n",
    "meine_bstb"
   ]
  },
  {
   "cell_type": "code",
   "execution_count": null,
   "metadata": {
    "collapsed": false
   },
   "outputs": [],
   "source": [
    "stadt_land_fluss = {\n",
    "    'Stadt': ['','', '' ], \n",
    "    'Land': ['', '', ''], \n",
    "    'Fluss': ['', '', ''] } \n",
    "stadt_land_fluss "
   ]
  },
  {
   "cell_type": "code",
   "execution_count": null,
   "metadata": {
    "collapsed": false
   },
   "outputs": [],
   "source": [
    "stadt_land_fluss.keys()"
   ]
  },
  {
   "cell_type": "code",
   "execution_count": null,
   "metadata": {
    "collapsed": false
   },
   "outputs": [],
   "source": [
    "stadt_land_fluss.values()"
   ]
  },
  {
   "cell_type": "markdown",
   "metadata": {},
   "source": [
    "## Schleifen \n",
    "\n",
    "\n",
    "In Python kann man jedes Element einer Liste oder eines Dictionarys nacheinander ablaufen und etwas damit tun. Man sagt, Listen und Dictionarys sind iterierbar. "
   ]
  },
  {
   "cell_type": "code",
   "execution_count": null,
   "metadata": {
    "collapsed": false
   },
   "outputs": [],
   "source": [
    "import pprint    # pprint steht für 'pretty-print'. Lädt ein Paket, das hübsche Prints macht \n",
    "\n",
    "for element in stadt_land_fluss:\n",
    "    print(stadt_land_fluss)"
   ]
  },
  {
   "cell_type": "code",
   "execution_count": null,
   "metadata": {
    "collapsed": false
   },
   "outputs": [],
   "source": [
    "for i in stadt_land_fluss: \n",
    "    print(stadt_land_fluss[i][0])"
   ]
  },
  {
   "cell_type": "markdown",
   "metadata": {},
   "source": [
    "## Beispiel für eine Python-Funktion"
   ]
  },
  {
   "cell_type": "markdown",
   "metadata": {},
   "source": [
    "Schritt 1: Definiert eine Funktion, die 'name' als Argument nutzt: \n",
    "'Laenge' wird auf die Anzahl der Buchstaben von 'name' gesetzt.  \n",
    "Dann wird laenge ausgegeben."
   ]
  },
  {
   "cell_type": "code",
   "execution_count": null,
   "metadata": {
    "collapsed": false
   },
   "outputs": [],
   "source": [
    "def buchstaben_zaehlen(name):\n",
    "    laenge = len(name)\n",
    "    print(laenge)"
   ]
  },
  {
   "cell_type": "markdown",
   "metadata": {},
   "source": [
    "Schritt 2: Die Funktion wird aufgerufen. "
   ]
  },
  {
   "cell_type": "code",
   "execution_count": null,
   "metadata": {
    "collapsed": false
   },
   "outputs": [],
   "source": [
    "buchstaben_zaehlen('Simon')"
   ]
  },
  {
   "cell_type": "markdown",
   "metadata": {},
   "source": [
    "Andere Möglichkeit: Fragt nach dem Namen des Benutzers und speichert ihn in der Variable 'name'."
   ]
  },
  {
   "cell_type": "code",
   "execution_count": null,
   "metadata": {
    "collapsed": false
   },
   "outputs": [],
   "source": [
    "name = input('Bitte gib deinen Namen ein: \\n')"
   ]
  },
  {
   "cell_type": "code",
   "execution_count": null,
   "metadata": {
    "collapsed": false
   },
   "outputs": [],
   "source": [
    "buchstaben_zaehlen(name)"
   ]
  },
  {
   "cell_type": "code",
   "execution_count": null,
   "metadata": {
    "collapsed": false
   },
   "outputs": [],
   "source": [
    "# Wahrheit prüfen \n",
    "len(name) == 8"
   ]
  },
  {
   "cell_type": "markdown",
   "metadata": {},
   "source": [
    "## Bedingungen: Wenn, dann ... "
   ]
  },
  {
   "cell_type": "code",
   "execution_count": null,
   "metadata": {
    "collapsed": false
   },
   "outputs": [],
   "source": [
    "if len(name) >= 8: \n",
    "    print('Lang!')\n",
    "if len(name) <= 4:\n",
    "    print('Kurz')\n",
    "if len(name) <8 and len(name) >4:\n",
    "    print('Mittel')"
   ]
  },
  {
   "cell_type": "markdown",
   "metadata": {
    "collapsed": false
   },
   "source": [
    "## Noch eine Funktion\n",
    "\n",
    "Bitte kopiere das und setze es in die nächste Zelle: \n",
    "\n",
    "def greet_person(person):\n",
    "    \"\"\"Greet the named person.\n",
    "\n",
    "    usage:\n",
    "        >>> greet_person(\"world\")\n",
    "        hello world\n",
    "    \"\"\"\n",
    "    print('hello', person)"
   ]
  },
  {
   "cell_type": "code",
   "execution_count": null,
   "metadata": {
    "collapsed": true
   },
   "outputs": [],
   "source": [
    "def greet_person(person):\n",
    "    \"\"\"Greet the named person.\n",
    "\n",
    "    usage:\n",
    "        >>> greet_person(\"world\")\n",
    "        hello world\n",
    "    \"\"\"\n",
    "    print('hello', person)"
   ]
  },
  {
   "cell_type": "code",
   "execution_count": null,
   "metadata": {
    "collapsed": false
   },
   "outputs": [],
   "source": [
    "help(greet_person)"
   ]
  },
  {
   "cell_type": "code",
   "execution_count": null,
   "metadata": {
    "collapsed": false
   },
   "outputs": [],
   "source": [
    "# And here's the function in action!\n",
    "greet_person(\"world\")"
   ]
  },
  {
   "cell_type": "markdown",
   "metadata": {},
   "source": [
    "## Aufgabe\n",
    "Schreibe noch eine Funktion 'greet_people', die eine Liste von Menschen grüßt. "
   ]
  },
  {
   "cell_type": "code",
   "execution_count": null,
   "metadata": {
    "collapsed": false
   },
   "outputs": [],
   "source": [
    "# your function\n",
    "def greet_people(list_of_people):\n",
    "    for person in list_of_people:\n",
    "            print('Hello', person)\n",
    "\n",
    "list = ['Tom', 'Moni']\n",
    "greet_people(list)"
   ]
  },
  {
   "cell_type": "markdown",
   "metadata": {},
   "source": [
    "## ERRORS"
   ]
  },
  {
   "cell_type": "code",
   "execution_count": null,
   "metadata": {
    "collapsed": false
   },
   "outputs": [],
   "source": [
    "ERRORS "
   ]
  },
  {
   "cell_type": "markdown",
   "metadata": {},
   "source": [
    "Nicht von Fehlern abschrecken lassen, Fehler sind in Python nützliche kleine Helfer "
   ]
  },
  {
   "cell_type": "code",
   "execution_count": null,
   "metadata": {
    "collapsed": false
   },
   "outputs": [],
   "source": [
    "display(Image(url='static/minions.jpg'))"
   ]
  },
  {
   "cell_type": "markdown",
   "metadata": {},
   "source": [
    "__*Survival-Checkliste für Fehlermeldungen:*__\n",
    "1. KEINE PANIK \n",
    "2. Von hinten lesen (letzte Zeile zuerst)\n",
    "3. Was sagt der Fehler?\n",
    "4. In welcher Datei, welcher Zeile ist der Fehler?\n",
    "5. Fehler googeln (letzte Zeile kopieren und in Google einfügen) "
   ]
  },
  {
   "cell_type": "markdown",
   "metadata": {},
   "source": [
    "## Hilfe holen \n",
    "\n",
    "Praktisch an Jupyter ist, dass es eine eingebaute Hilfe und eine Auto-Vervollständigungs-Funktion hat."
   ]
  },
  {
   "cell_type": "code",
   "execution_count": null,
   "metadata": {
    "collapsed": false
   },
   "outputs": [],
   "source": [
    "# Mit help() zeigst Du die eingebaute Hilfe an, zum Beispiel help(str) zeigt alle String-Funktionen an. \n",
    "help(str)"
   ]
  },
  {
   "cell_type": "code",
   "execution_count": null,
   "metadata": {
    "collapsed": false
   },
   "outputs": [],
   "source": [
    "zungenbrecher = 'Fischers Fritze fischt frische Fische'\n",
    "\n",
    "# Möchte man mit den Zungenbrecher etwas machen, kann man 'zungenbrecher.' tippen und dann [tab]. \n",
    "zungenbrecher.upper()"
   ]
  },
  {
   "cell_type": "code",
   "execution_count": null,
   "metadata": {
    "collapsed": false
   },
   "outputs": [],
   "source": [
    "# Möchte man zählen, wie oft die Buchstabenfolge 'fisch' im Zungenbrecher vorkommt, dann kann man \n",
    "zungenbrecher.count('fisch')"
   ]
  },
  {
   "cell_type": "code",
   "execution_count": null,
   "metadata": {
    "collapsed": false
   },
   "outputs": [],
   "source": [
    "# Man kann auch erst alles klein schreiben und dann nach 'fisch' suchen. \n",
    "zungenbrecher.lower().count('fisch')"
   ]
  },
  {
   "cell_type": "code",
   "execution_count": null,
   "metadata": {
    "collapsed": false
   },
   "outputs": [],
   "source": [
    "'cat' in zungenbrecher"
   ]
  },
  {
   "cell_type": "code",
   "execution_count": null,
   "metadata": {
    "collapsed": false
   },
   "outputs": [],
   "source": [
    "'Fritz' in zungenbrecher"
   ]
  },
  {
   "cell_type": "code",
   "execution_count": null,
   "metadata": {
    "collapsed": false
   },
   "outputs": [],
   "source": [
    "zungenbrecher.find('Fritze')"
   ]
  },
  {
   "cell_type": "code",
   "execution_count": null,
   "metadata": {
    "collapsed": false
   },
   "outputs": [],
   "source": [
    "index = zungenbrecher.find('Fritze')\n",
    "zungenbrecher[:index]"
   ]
  },
  {
   "cell_type": "code",
   "execution_count": null,
   "metadata": {
    "collapsed": false
   },
   "outputs": [],
   "source": [
    "zungenbrecher[index:]"
   ]
  },
  {
   "cell_type": "markdown",
   "metadata": {},
   "source": [
    "## Lasset die Spiele beginnen!"
   ]
  },
  {
   "cell_type": "code",
   "execution_count": null,
   "metadata": {
    "collapsed": false
   },
   "outputs": [],
   "source": [
    "from random import randint  # Lädt ein extra Python-Paket, das Zufallszahlen ausgibt. \n",
    "\n",
    "geistertuer = randint(1, 3) # Die Tür wird auf eine zufällige Zahl zwischen 1 und 3 gesetzt\n",
    "\n",
    "# Hier kommt die Geschichte: \n",
    "print('Vor Dir sind drei Tueren.')\n",
    "print('Hinter einer ist ein Geist.')\n",
    "print('Welche Tuer oeffnest Du?\\n')\n",
    "\n",
    "# Nutzer wird aufgefordert, etwas einzugeben (input):\n",
    "tuer = input('1, 2 oder 3?\\n')\n",
    "tuer_nummer = int(tuer)      # Wandelt die Eingabe in eine Zahl (Int) um \n",
    "\n",
    "# Wenn - dann - Vergleiche: \n",
    "if tuer_nummer == geistertuer:\n",
    "    print('\\n GEIST!')\n",
    "else:\n",
    "    print('Kein Geist')"
   ]
  },
  {
   "cell_type": "code",
   "execution_count": null,
   "metadata": {
    "collapsed": false
   },
   "outputs": [],
   "source": [
    "# Hier eine etwas ausgefeiltere Version des Geisterspiels:\n",
    "\n",
    "print('Geisterspiel\\n')\n",
    "du_bist_mutig = True      # Definiert etwas, das wahr ist, um gleich sagen zu können, solange das so ist, dann ...\n",
    "score = 0                 # Bereitet einen Punktezähler vor \n",
    "\n",
    "while du_bist_mutig:        \n",
    "    geistertuer = randint(1, 3)\n",
    "    print('Vor Dir sind drei Tueren.')\n",
    "    print('Hinter einer ist ein Geist.')\n",
    "    print('Welche Tuer oeffnest Du?\\n')\n",
    "    tuer = input('1, 2 oder 3?\\n')\n",
    "    tuer_nummer = int(tuer)\n",
    "    if tuer_nummer == geistertuer:\n",
    "        print('\\n GEIST!')\n",
    "        du_bist_mutig = False           # Schleife bricht ab, es geht weiter mit 'Schnell weg'.\n",
    "    else:\n",
    "        print('\\n Kein Geist! \\n')\n",
    "        print('Du bist ein Zimmer weiter.')\n",
    "        score = score +1                    # Schleife läuft noch einmal, Punktestand wird um 1 erhöht\n",
    "print('\\n Schnell weg!')\n",
    "print('\\n Spiel vorbei. Deine Punkte:', score, '\\n')  # Punkte ausgeben"
   ]
  },
  {
   "cell_type": "code",
   "execution_count": null,
   "metadata": {
    "collapsed": false
   },
   "outputs": [],
   "source": [
    "from IPython.display import Image\n",
    "from IPython.display import display\n",
    "display(Image(url='./static/anna.gif'))"
   ]
  }
 ],
 "metadata": {
  "kernelspec": {
   "display_name": "Python 3",
   "language": "python",
   "name": "python3"
  },
  "language_info": {
   "codemirror_mode": {
    "name": "ipython",
    "version": 3
   },
   "file_extension": ".py",
   "mimetype": "text/x-python",
   "name": "python",
   "nbconvert_exporter": "python",
   "pygments_lexer": "ipython3",
   "version": "3.4.2"
  }
 },
 "nbformat": 4,
 "nbformat_minor": 0
}
