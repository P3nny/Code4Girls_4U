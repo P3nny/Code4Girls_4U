{
 "cells": [
  {
   "cell_type": "markdown",
   "metadata": {},
   "source": [
    "# Code4Girls - Command Line \n",
    "\n",
    "Quellen: [http://tutorial.djangogirls.org/en/intro_to_command_line/]"
   ]
  },
  {
   "cell_type": "markdown",
   "metadata": {},
   "source": [
    "** Hi, schön, dass Du lernen willst, wie Du Deinen Rechner über die Kommandazeile steuerst. **\n",
    "\n",
    "### ** 1. Kommandozeile öffnen**\n",
    "\n",
    "Auf deinem Linux-Rechner öffnest Du die Kommando-Zeile, indem Du in der linken oberen Ecke auf Aktivitäten klickst. Dann wählst Du das zweite Icon aus - das schwarze Fenster, bei dem Terminal steht, wenn Du mit der Maus drüber fährst.\n",
    "Wenn Du darauf klickst, öffnet sich ein schwarzes Fenster: \n",
    "```user@debian:~$ ```\n",
    "\n",
    "Nach dem $ Zeichen, kannst Du Deine Befehle eintippen.\n",
    "\n"
   ]
  },
  {
   "cell_type": "markdown",
   "metadata": {},
   "source": [
    "### ** 2. Wo bin ich? ** \n",
    "\n",
    "Top, jetzt kannst Du loslegen.\n",
    "Am besten gucken wir mal, in welchem Ordner auf dem Rechner wir gerade sind. Das machst du mit ```pwd``` - das steht für 'print working directory'"
   ]
  },
  {
   "cell_type": "code",
   "execution_count": 1,
   "metadata": {
    "collapsed": false
   },
   "outputs": [
    {
     "name": "stdout",
     "output_type": "stream",
     "text": [
      "/home/user\r\n"
     ]
    }
   ],
   "source": [
    "pwd"
   ]
  },
  {
   "cell_type": "markdown",
   "metadata": {},
   "source": [
    "### **3. Was ist drin?**\n",
    "\n",
    "Jetzt lass Dir mal eine Liste (ls) anzeigen, was in diesem Ordner alles drin ist.  "
   ]
  },
  {
   "cell_type": "code",
   "execution_count": 2,
   "metadata": {
    "collapsed": false
   },
   "outputs": [
    {
     "name": "stdout",
     "output_type": "stream",
     "text": [
      "Aufnahmen\t\t\t Desktop     R\r\n",
      "Bilder\t\t\t\t Dokumente   Schreibtisch\r\n",
      "C:\\nppdf32Log\\debuglog.txt\t Downloads   Scratch\r\n",
      "Code4Girls_4U\t\t\t Musik\t     Videos\r\n",
      "Code4Girls - Command Line.ipynb  Öffentlich  Vorlagen\r\n"
     ]
    }
   ],
   "source": [
    "ls"
   ]
  },
  {
   "cell_type": "markdown",
   "metadata": {},
   "source": [
    "### ** 4. Verzeichnis wechseln**\n",
    "\n",
    "Wenn Du in einen dieser Ordner wechseln willst, dann gibst du 'cd' für 'change directory' ein und tippst die ersten Buchstaben, des Ordners, in den Du willst. \n",
    "\n",
    "Trick: Nach den ersten Buchstaben kann der Rechner deine Eingabe vervollständigen, drücke dafür die Tab -> Taste.\n"
   ]
  },
  {
   "cell_type": "code",
   "execution_count": 3,
   "metadata": {
    "collapsed": false
   },
   "outputs": [
    {
     "name": "stdout",
     "output_type": "stream",
     "text": []
    }
   ],
   "source": [
    "cd Bilder"
   ]
  },
  {
   "cell_type": "markdown",
   "metadata": {},
   "source": [
    "Dass Du in einem neuen Ornder bist, siehts Du an dem, was vor dem $ steht. \n",
    "\n",
    "user@debian:~/Bilder$\n",
    "\n",
    "Du kannst Dir aber natürlich auch ausgeben lassen, wo Du bist: "
   ]
  },
  {
   "cell_type": "code",
   "execution_count": 4,
   "metadata": {
    "collapsed": false
   },
   "outputs": [
    {
     "name": "stdout",
     "output_type": "stream",
     "text": [
      "/home/user/Bilder\r\n"
     ]
    }
   ],
   "source": [
    "pwd"
   ]
  },
  {
   "cell_type": "markdown",
   "metadata": {},
   "source": [
    "Hier kannst Du Dir wieder mit 'ls' den Inhalt anzeigen lassen "
   ]
  },
  {
   "cell_type": "code",
   "execution_count": 5,
   "metadata": {
    "collapsed": false
   },
   "outputs": [
    {
     "name": "stdout",
     "output_type": "stream",
     "text": [
      "Cute-Black-and-White-Panda-colors-34704878-2560-1600.jpg\r\n",
      "digikam4.db\r\n",
      "einstieg_python.png\r\n",
      "Fotodokumentation_Code4Girls_Osterferien2016.pdf\r\n",
      "minions-despicable-me-minions-38653050-1280-720.jpg\r\n",
      "thumbnails-digikam.db\r\n"
     ]
    }
   ],
   "source": [
    "ls"
   ]
  },
  {
   "cell_type": "markdown",
   "metadata": {
    "collapsed": true
   },
   "source": [
    "### ** 5. Wieder raus ** \n",
    "\n",
    "Wenn Du wieder zurück in den nächsthöheren Ordner willst, gibst Du 'cd ..' ein.  \n"
   ]
  },
  {
   "cell_type": "code",
   "execution_count": 6,
   "metadata": {
    "collapsed": false
   },
   "outputs": [
    {
     "name": "stdout",
     "output_type": "stream",
     "text": []
    }
   ],
   "source": [
    "cd .."
   ]
  },
  {
   "cell_type": "code",
   "execution_count": 7,
   "metadata": {
    "collapsed": false
   },
   "outputs": [
    {
     "name": "stdout",
     "output_type": "stream",
     "text": [
      "/home/user\r\n"
     ]
    }
   ],
   "source": [
    "pwd"
   ]
  },
  {
   "cell_type": "markdown",
   "metadata": {},
   "source": [
    "** 6. Mach Dein eigenes Verzeichnis ** \n",
    "\n",
    "Ein neues verzeichnis mit dem Namen 'dein_name' erstellst Du mit 'mkdir dein_name':"
   ]
  },
  {
   "cell_type": "code",
   "execution_count": 8,
   "metadata": {
    "collapsed": false
   },
   "outputs": [
    {
     "name": "stdout",
     "output_type": "stream",
     "text": []
    }
   ],
   "source": [
    "mkdir patricia"
   ]
  },
  {
   "cell_type": "markdown",
   "metadata": {},
   "source": [
    "Hat das geklappt? Lass es Dir mit 'ls' anzeigen. Du kannst auch gerne oben links über 'Orte' Dir die Verzeichnisse in einer gewohnten grafischen Oberfläche ansehen. "
   ]
  },
  {
   "cell_type": "code",
   "execution_count": 9,
   "metadata": {
    "collapsed": false
   },
   "outputs": [
    {
     "name": "stdout",
     "output_type": "stream",
     "text": [
      "Aufnahmen\t\t\t Dokumente   Schreibtisch\r\n",
      "Bilder\t\t\t\t Downloads   Scratch\r\n",
      "C:\\nppdf32Log\\debuglog.txt\t Musik\t     Videos\r\n",
      "Code4Girls_4U\t\t\t Öffentlich  Vorlagen\r\n",
      "Code4Girls - Command Line.ipynb  patricia\r\n",
      "Desktop\t\t\t\t R\r\n"
     ]
    }
   ],
   "source": [
    "ls"
   ]
  },
  {
   "cell_type": "markdown",
   "metadata": {},
   "source": [
    "Nun wechsele bitte in das neue Verzeichnis."
   ]
  },
  {
   "cell_type": "code",
   "execution_count": 10,
   "metadata": {
    "collapsed": false
   },
   "outputs": [
    {
     "name": "stdout",
     "output_type": "stream",
     "text": []
    }
   ],
   "source": [
    "cd patricia"
   ]
  },
  {
   "cell_type": "markdown",
   "metadata": {},
   "source": [
    "** 7. Eine Datei erstellen **\n",
    "\n",
    "Du kannst über die Kommandazeile auch Dateien anlegen und etwas hinein schreiben. "
   ]
  },
  {
   "cell_type": "code",
   "execution_count": 3,
   "metadata": {
    "collapsed": false
   },
   "outputs": [
    {
     "name": "stdout",
     "output_type": "stream",
     "text": []
    }
   ],
   "source": [
    "echo 'test' > test.txt"
   ]
  },
  {
   "cell_type": "code",
   "execution_count": 4,
   "metadata": {
    "collapsed": false
   },
   "outputs": [
    {
     "name": "stdout",
     "output_type": "stream",
     "text": [
      "\u001b[0m\u001b[01;34mc4gl\u001b[0m                             Python 101.ipynb\r\n",
      "Code4Girls - Command Line.ipynb  Python+und+Jupyter+.html\r\n",
      "CommandLine.html                 Python und Jupyter .ipynb\r\n",
      "git.html                         \u001b[01;34mstatic\u001b[0m\r\n",
      "git.ipynb                        test.txt\r\n",
      "index.html                       Yay+Python-Aufgaben.html\r\n",
      "notebooks.html                   Yay Python-Aufgaben.ipynb\r\n"
     ]
    }
   ],
   "source": [
    "ls"
   ]
  },
  {
   "cell_type": "markdown",
   "metadata": {},
   "source": [
    "Ein anderer Weg, das zu tun, ist das Textprogramm 'gedit' zu benutzen.\n",
    "Dafür gibst du 'gedit' ein und dann den Namen, den Du der neuen Datei geben willst. "
   ]
  },
  {
   "cell_type": "code",
   "execution_count": null,
   "metadata": {
    "collapsed": false
   },
   "outputs": [],
   "source": [
    "gedit test2.txt"
   ]
  },
  {
   "cell_type": "markdown",
   "metadata": {},
   "source": [
    "Das Textprogramm Gedit öffnet sich. Jetzt kannst Du etwas schreiben. Dann speichern (strg+s) und über x schließen. \n",
    "Dann bist Du zurück in Deiner Kommandazeile."
   ]
  },
  {
   "cell_type": "markdown",
   "metadata": {},
   "source": [
    "** 8. Inhalt der Datei ausgeben lassen **\n",
    "\n",
    "Wenn Du willst, dass Dir die Kommandozeile anzeigt, was in einer Datei ist, dann kannst Du 'cat' benutzen. "
   ]
  },
  {
   "cell_type": "code",
   "execution_count": 13,
   "metadata": {
    "collapsed": false
   },
   "outputs": [
    {
     "name": "stdout",
     "output_type": "stream",
     "text": [
      "Hallo Code4Girls!\r\n"
     ]
    }
   ],
   "source": [
    "cat test.txt"
   ]
  },
  {
   "cell_type": "markdown",
   "metadata": {},
   "source": [
    "** 9. Eine Datei löschen ** \n",
    "\n",
    "Mit 'rm' für 'remove' kannst Dateien auch wieder löschen."
   ]
  },
  {
   "cell_type": "code",
   "execution_count": 14,
   "metadata": {
    "collapsed": false
   },
   "outputs": [
    {
     "name": "stdout",
     "output_type": "stream",
     "text": []
    }
   ],
   "source": [
    "rm test.txt"
   ]
  },
  {
   "cell_type": "markdown",
   "metadata": {},
   "source": [
    "Hat das gklappt? Lasse Dir den Inhalt deines Verzeichnisses anzeigen."
   ]
  },
  {
   "cell_type": "code",
   "execution_count": 15,
   "metadata": {
    "collapsed": false
   },
   "outputs": [
    {
     "name": "stdout",
     "output_type": "stream",
     "text": []
    }
   ],
   "source": [
    "ls"
   ]
  },
  {
   "cell_type": "markdown",
   "metadata": {},
   "source": [
    "Nix mehr drin :) "
   ]
  },
  {
   "cell_type": "markdown",
   "metadata": {},
   "source": [
    "** 10. Ein Verzeichnis löschen ** \n",
    "\n",
    "Um ein Verzeichnis zu entfernen, wechselst Du wieder in den nächsthöheren Ordner. \n",
    "Wenn Du ein Verzeichnis entfernen willst, dann klappt rm nicht. "
   ]
  },
  {
   "cell_type": "code",
   "execution_count": 16,
   "metadata": {
    "collapsed": false
   },
   "outputs": [
    {
     "name": "stdout",
     "output_type": "stream",
     "text": []
    }
   ],
   "source": [
    "cd .."
   ]
  },
  {
   "cell_type": "code",
   "execution_count": 17,
   "metadata": {
    "collapsed": false
   },
   "outputs": [
    {
     "name": "stdout",
     "output_type": "stream",
     "text": [
      "Aufnahmen\t\t\t Dokumente   Schreibtisch\r\n",
      "Bilder\t\t\t\t Downloads   Scratch\r\n",
      "C:\\nppdf32Log\\debuglog.txt\t Musik\t     Videos\r\n",
      "Code4Girls_4U\t\t\t Öffentlich  Vorlagen\r\n",
      "Code4Girls - Command Line.ipynb  patricia\r\n",
      "Desktop\t\t\t\t R\r\n"
     ]
    }
   ],
   "source": [
    "ls"
   ]
  },
  {
   "cell_type": "code",
   "execution_count": 18,
   "metadata": {
    "collapsed": false
   },
   "outputs": [
    {
     "name": "stdout",
     "output_type": "stream",
     "text": [
      "rm: das Entfernen von „patricia“ ist nicht möglich: Ist ein Verzeichnis\r\n"
     ]
    }
   ],
   "source": [
    "rm patricia"
   ]
  },
  {
   "cell_type": "markdown",
   "metadata": {},
   "source": [
    "Fehlermeldungen sind beim Programmieren ganz normal. Oft liefert Dir der Fehler einen Hinweis, was nicht geklappt hat.\n",
    "In diesem Fall kann ein Verzeichnis nur mit einem zusätzlichen befehl gelöscht werden: Du musst 'remove -r' für 'repository' (Verzeichnis) eingeben.  "
   ]
  },
  {
   "cell_type": "code",
   "execution_count": 19,
   "metadata": {
    "collapsed": false
   },
   "outputs": [
    {
     "name": "stdout",
     "output_type": "stream",
     "text": []
    }
   ],
   "source": [
    "rm -r patricia"
   ]
  },
  {
   "cell_type": "code",
   "execution_count": 20,
   "metadata": {
    "collapsed": false
   },
   "outputs": [
    {
     "name": "stdout",
     "output_type": "stream",
     "text": [
      "Aufnahmen\t\t\t Desktop     R\r\n",
      "Bilder\t\t\t\t Dokumente   Schreibtisch\r\n",
      "C:\\nppdf32Log\\debuglog.txt\t Downloads   Scratch\r\n",
      "Code4Girls_4U\t\t\t Musik\t     Videos\r\n",
      "Code4Girls - Command Line.ipynb  Öffentlich  Vorlagen\r\n"
     ]
    }
   ],
   "source": [
    "ls"
   ]
  },
  {
   "cell_type": "markdown",
   "metadata": {},
   "source": [
    "** 11. Und tschüs!**\n",
    "\n",
    "Das Terminal kannst Du auch auf die Hacker-Art wieder schließen. "
   ]
  },
  {
   "cell_type": "code",
   "execution_count": 22,
   "metadata": {
    "collapsed": false
   },
   "outputs": [
    {
     "name": "stdout",
     "output_type": "stream",
     "text": [
      "exit\r\n",
      "Restarting Bash"
     ]
    }
   ],
   "source": [
    "exit"
   ]
  },
  {
   "cell_type": "code",
   "execution_count": null,
   "metadata": {
    "collapsed": true
   },
   "outputs": [],
   "source": []
  },
  {
   "cell_type": "markdown",
   "metadata": {},
   "source": [
    "### Und jetzt mal was Cooles!"
   ]
  },
  {
   "cell_type": "markdown",
   "metadata": {},
   "source": [
    "- Starte deine Kommandozeile wieder. \n",
    "- Mache ein neues Verzeichnis mit dem Namen 'code4girls'. \n",
    "- Wechsele in das neue Verzeichnis.\n",
    "\n",
    "Ich möchte, dass Ihr jetzt ein Verzeichnis herunterladet, das ich für Euch auf der Programmierer-Plattform 'github' erstellt habe. \n",
    "Git ist ein Programm, das auf Eurem Linux-Rechner bereits installiert ist. Man kann damit beim Programmieren zwischendurch abpseichern, was man gerade gemacht hat. Wenn etwas schief gelaufen ist, kann man zu einem früheren Stand zurück kehren. Git ist eine sehr praktische Idee des Linux-Erfinders Linus Torvalds. \n",
    "Um mit anderen zusammenzuarbeiten stellen viele Entwickler Ihren Code auf der Internetseite 'Github' zur Verfügung. Er kann dann frei herunterladen, verbessert, verändert und wieder geteilt werden. \n",
    "\n",
    "Um ein Verzeichnis von Github herunterzuladen gebt ihr ein: "
   ]
  },
  {
   "cell_type": "code",
   "execution_count": 24,
   "metadata": {
    "collapsed": false
   },
   "outputs": [
    {
     "name": "stdout",
     "output_type": "stream",
     "text": [
      "Klone nach 'marie'...\r\n",
      "remote: Counting objects: 26, done.\u001b[K\r\n",
      "Entpacke Objekte:   3% (1/26)   \r",
      "Entpacke Objekte:   7% (2/26)   \r",
      "Entpacke Objekte:  11% (3/26)   \r",
      "Entpacke Objekte:  15% (4/26)   \r",
      "Entpacke Objekte:  19% (5/26)   \r",
      "Entpacke Objekte:  23% (6/26)   \r",
      "Entpacke Objekte:  26% (7/26)   \r",
      "Entpacke Objekte:  30% (8/26)   \r",
      "Entpacke Objekte:  34% (9/26)   \r",
      "Entpacke Objekte:  38% (10/26)   \r",
      "Entpacke Objekte:  42% (11/26)   \r",
      "Entpacke Objekte:  46% (12/26)   \r",
      "Entpacke Objekte:  50% (13/26)   \r",
      "Entpacke Objekte:  53% (14/26)   \r",
      "Entpacke Objekte:  57% (15/26)   \r",
      "Entpacke Objekte:  61% (16/26)   \r",
      "Entpacke Objekte:  65% (17/26)   \r",
      "Entpacke Objekte:  69% (18/26)   \r",
      "remote: Total 26 (delta 0), reused 0 (delta 0), pack-reused 26\u001b[K\r\n",
      "Entpacke Objekte:  73% (19/26)   \r",
      "Entpacke Objekte:  76% (20/26)   \r",
      "Entpacke Objekte:  80% (21/26)   \r",
      "Entpacke Objekte:  84% (22/26)   \r",
      "Entpacke Objekte:  88% (23/26)   \r",
      "Entpacke Objekte:  92% (24/26)   \r",
      "Entpacke Objekte:  96% (25/26)   \r",
      "Entpacke Objekte: 100% (26/26)   \r",
      "Entpacke Objekte: 100% (26/26), Fertig.\r\n",
      "Prüfe Konnektivität... Fertig.\r\n"
     ]
    }
   ],
   "source": [
    "git clone https://github.com/code4girls/marie.git"
   ]
  },
  {
   "cell_type": "markdown",
   "metadata": {},
   "source": [
    "Geklappt? "
   ]
  },
  {
   "cell_type": "code",
   "execution_count": 26,
   "metadata": {
    "collapsed": false
   },
   "outputs": [
    {
     "name": "stdout",
     "output_type": "stream",
     "text": [
      "Aufnahmen\t\t\t Dokumente   Schreibtisch\r\n",
      "Bilder\t\t\t\t Downloads   Scratch\r\n",
      "C:\\nppdf32Log\\debuglog.txt\t marie\t     Videos\r\n",
      "Code4Girls_4U\t\t\t Musik\t     Vorlagen\r\n",
      "Code4Girls - Command Line.ipynb  Öffentlich\r\n",
      "Desktop\t\t\t\t R\r\n"
     ]
    }
   ],
   "source": [
    "ls"
   ]
  },
  {
   "cell_type": "code",
   "execution_count": 27,
   "metadata": {
    "collapsed": false
   },
   "outputs": [
    {
     "name": "stdout",
     "output_type": "stream",
     "text": []
    }
   ],
   "source": [
    "cd marie"
   ]
  },
  {
   "cell_type": "markdown",
   "metadata": {},
   "source": [
    "** Aufgabe: **\n",
    "\n",
    "Was ist im Ordner Marie drin? Benutze einen Terminal-Befehl. "
   ]
  },
  {
   "cell_type": "markdown",
   "metadata": {},
   "source": [
    "Um einen einzelnen Inhalt anzuzeigen, gibst Du folgenden Befehl ein:  "
   ]
  },
  {
   "cell_type": "code",
   "execution_count": 32,
   "metadata": {
    "collapsed": false
   },
   "outputs": [
    {
     "name": "stdout",
     "output_type": "stream",
     "text": [
      "\r\n"
     ]
    }
   ],
   "source": [
    "display marie_0.png"
   ]
  },
  {
   "cell_type": "markdown",
   "metadata": {},
   "source": [
    "** Image-Magick **\n",
    "\n",
    "Ich möchte zeigen, wie mächtig, die Kommandozeile sein kann. Wir benutzen ein Kommandozeilen-Programm, das 'Image Magick' heißt. Schau Dir an, was passiert, wenn Du folgende Codezeile eingibst: "
   ]
  },
  {
   "cell_type": "code",
   "execution_count": 33,
   "metadata": {
    "collapsed": false
   },
   "outputs": [
    {
     "name": "stdout",
     "output_type": "stream",
     "text": []
    }
   ],
   "source": [
    "convert -delay 60 -loop 0 *.png mariechen.gif"
   ]
  },
  {
   "cell_type": "markdown",
   "metadata": {},
   "source": [
    "Was hat sich verändert?"
   ]
  },
  {
   "cell_type": "code",
   "execution_count": 34,
   "metadata": {
    "collapsed": false
   },
   "outputs": [
    {
     "name": "stdout",
     "output_type": "stream",
     "text": [
      "marie_0.png   marie_14.png  marie_19.png  marie_23.png\tmarie_6.png\r\n",
      "marie_10.png  marie_15.png  marie_1.png   marie_2.png\tmarie_7.png\r\n",
      "marie_11.png  marie_16.png  marie_20.png  marie_3.png\tmarie_8.png\r\n",
      "marie_12.png  marie_17.png  marie_21.png  marie_4.png\tmarie_9.png\r\n",
      "marie_13.png  marie_18.png  marie_22.png  marie_5.png\tmariechen.gif\r\n"
     ]
    }
   ],
   "source": [
    "ls"
   ]
  },
  {
   "cell_type": "markdown",
   "metadata": {},
   "source": [
    "Lass Dir die neue Datei anzeigen:"
   ]
  },
  {
   "cell_type": "code",
   "execution_count": 2,
   "metadata": {
    "collapsed": false
   },
   "outputs": [
    {
     "name": "stdout",
     "output_type": "stream",
     "text": []
    }
   ],
   "source": [
    "iceweasel mariechen.gif"
   ]
  },
  {
   "cell_type": "markdown",
   "metadata": {},
   "source": [
    "## YAY!"
   ]
  },
  {
   "cell_type": "code",
   "execution_count": 1,
   "metadata": {
    "collapsed": false
   },
   "outputs": [
    {
     "name": "stdout",
     "output_type": "stream",
     "text": [
      "Willst: command not found\r\n",
      "Hier: command not found\r\n",
      "bash: [http://ss64.com/]: Datei oder Verzeichnis nicht gefunden\r\n"
     ]
    }
   ],
   "source": [
    "Willst Du mehr? \n",
    "Hier findest Du eine komplette Referenz für die Command Line in Windows, Linux und Mac-Systemen. \n",
    "[http://ss64.com/]"
   ]
  },
  {
   "cell_type": "code",
   "execution_count": null,
   "metadata": {
    "collapsed": true
   },
   "outputs": [],
   "source": []
  }
 ],
 "metadata": {
  "kernelspec": {
   "display_name": "Bash",
   "language": "bash",
   "name": "bash"
  },
  "language_info": {
   "codemirror_mode": "shell",
   "file_extension": ".sh",
   "mimetype": "text/x-sh",
   "name": "bash"
  }
 },
 "nbformat": 4,
 "nbformat_minor": 0
}
