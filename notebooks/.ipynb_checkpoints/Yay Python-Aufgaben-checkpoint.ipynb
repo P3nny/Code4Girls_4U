{
 "cells": [
  {
   "cell_type": "markdown",
   "metadata": {},
   "source": [
    "# Introduction to Python\n",
    "\n",
    "Quelle: []"
   ]
  },
  {
   "cell_type": "code",
   "execution_count": 72,
   "metadata": {
    "collapsed": false
   },
   "outputs": [
    {
     "data": {
      "text/html": [
       "<img src=\"./static/glitter.gif\"/>"
      ],
      "text/plain": [
       "<IPython.core.display.Image object>"
      ]
     },
     "metadata": {},
     "output_type": "display_data"
    }
   ],
   "source": [
    "# display this image\n",
    "from IPython.display import Image\n",
    "from IPython.display import display\n",
    "display(Image(url='./static/glitter.gif'), width=50)"
   ]
  },
  {
   "cell_type": "code",
   "execution_count": 73,
   "metadata": {
    "collapsed": false
   },
   "outputs": [
    {
     "name": "stdout",
     "output_type": "stream",
     "text": [
      "Hannah\n"
     ]
    }
   ],
   "source": [
    "## Zuweisungen \n",
    "\n",
    "name = 'Hannah' # Gib zwischen den '' deinen Namen ein!   \n",
    "print(name)"
   ]
  },
  {
   "cell_type": "code",
   "execution_count": 74,
   "metadata": {
    "collapsed": false
   },
   "outputs": [
    {
     "name": "stdout",
     "output_type": "stream",
     "text": [
      "Ich heiße Hannah\n"
     ]
    }
   ],
   "source": [
    "print('Ich heiße', name)"
   ]
  },
  {
   "cell_type": "code",
   "execution_count": 75,
   "metadata": {
    "collapsed": false
   },
   "outputs": [
    {
     "name": "stdout",
     "output_type": "stream",
     "text": [
      "Hello World\n"
     ]
    }
   ],
   "source": [
    "a = 'Hello'\n",
    "b='World'\n",
    "print(a,b)"
   ]
  },
  {
   "cell_type": "markdown",
   "metadata": {},
   "source": [
    "Solche Zuweisungen nennt man auch Variablen. Die Variable 'name' wird auf den Wert 'Hallo' gesetzt. Das kann man sich so vorstellen, also würde man einen Namensaufkleber auf etwas kleben. Den kann man auch wieder abziehen und auf etwas Anderes kleben. "
   ]
  },
  {
   "cell_type": "code",
   "execution_count": 76,
   "metadata": {
    "collapsed": false
   },
   "outputs": [
    {
     "name": "stdout",
     "output_type": "stream",
     "text": [
      "Hello\n"
     ]
    }
   ],
   "source": [
    "print(a)"
   ]
  },
  {
   "cell_type": "code",
   "execution_count": 77,
   "metadata": {
    "collapsed": true
   },
   "outputs": [],
   "source": [
    "a= 5"
   ]
  },
  {
   "cell_type": "code",
   "execution_count": 78,
   "metadata": {
    "collapsed": false
   },
   "outputs": [
    {
     "name": "stdout",
     "output_type": "stream",
     "text": [
      "5\n"
     ]
    }
   ],
   "source": [
    "print(a)"
   ]
  },
  {
   "cell_type": "markdown",
   "metadata": {},
   "source": [
    "## Datentypen"
   ]
  },
  {
   "cell_type": "code",
   "execution_count": 79,
   "metadata": {
    "collapsed": false
   },
   "outputs": [],
   "source": [
    "# Datentypen \n",
    "mein_str = 'Code4Girls' # Irgendwas mit Buchstaben, immer in Anführungszeichen, '' oder \"\" ist egal, nur einheitlich.\n",
    "mein_int = 4 # Ganze Zahl\n",
    "mein_float = 5.0 # Komma-Zahl, im englischen aber mit Punkt geschrieben"
   ]
  },
  {
   "cell_type": "code",
   "execution_count": 80,
   "metadata": {
    "collapsed": false
   },
   "outputs": [
    {
     "data": {
      "text/plain": [
       "str"
      ]
     },
     "execution_count": 80,
     "metadata": {},
     "output_type": "execute_result"
    }
   ],
   "source": [
    "type(mein_str)"
   ]
  },
  {
   "cell_type": "code",
   "execution_count": 81,
   "metadata": {
    "collapsed": false
   },
   "outputs": [
    {
     "name": "stdout",
     "output_type": "stream",
     "text": [
      "HalloHalloHalloHalloHalloHalloHalloHalloHalloHalloHalloHalloHalloHalloHalloHalloHalloHalloHalloHallo\n"
     ]
    }
   ],
   "source": [
    "print('Hallo' * 20)"
   ]
  },
  {
   "cell_type": "markdown",
   "metadata": {
    "collapsed": true
   },
   "source": [
    "### Aufgabe!"
   ]
  },
  {
   "cell_type": "markdown",
   "metadata": {
    "collapsed": true
   },
   "source": [
    "Denk Dir einen Hund aus: \n",
    "- Schreibe eine Variable name und weise ihr einen Namen zu. Denk an die Anführungszeichen bei Strings. \n",
    "- Schreibe eine Variable rasse und weise ihr zu, zu welcher Rasse der Hund gehört. \n",
    "- Schreibe eine Variable futter und weise ihr ein Futter zu. \n",
    "- Schreibe eine Variable alter und weise ihr eine Zahl zu."
   ]
  },
  {
   "cell_type": "code",
   "execution_count": 82,
   "metadata": {
    "collapsed": true
   },
   "outputs": [],
   "source": [
    "name='anno' \n",
    "rasse='Mischling'\n",
    "futter='Käse'\n",
    "alter=5"
   ]
  },
  {
   "cell_type": "code",
   "execution_count": 83,
   "metadata": {
    "collapsed": false
   },
   "outputs": [
    {
     "name": "stdout",
     "output_type": "stream",
     "text": [
      "Mein Hund heißt anno ist ein Mischling frisst gerne Käse und ist 5 Jahre alt.\n"
     ]
    }
   ],
   "source": [
    "print('Mein Hund heißt', name,'ist ein', rasse,'frisst gerne', futter,'und ist', alter,'Jahre alt.' )"
   ]
  },
  {
   "cell_type": "markdown",
   "metadata": {
    "collapsed": true
   },
   "source": [
    "## Mehr Datentypen"
   ]
  },
  {
   "cell_type": "markdown",
   "metadata": {},
   "source": [
    "### Listen"
   ]
  },
  {
   "cell_type": "code",
   "execution_count": 84,
   "metadata": {
    "collapsed": true
   },
   "outputs": [],
   "source": [
    "# Listen \n",
    "leere_liste = []"
   ]
  },
  {
   "cell_type": "code",
   "execution_count": 85,
   "metadata": {
    "collapsed": false
   },
   "outputs": [
    {
     "data": {
      "text/plain": [
       "[]"
      ]
     },
     "execution_count": 85,
     "metadata": {},
     "output_type": "execute_result"
    }
   ],
   "source": [
    "# Eine Besonderheit im Jupyter Notebook ist, dass man sich 'print()' sparen kann. Um eine Variable anzuzeigen reicht:\n",
    "leere_liste"
   ]
  },
  {
   "cell_type": "code",
   "execution_count": 86,
   "metadata": {
    "collapsed": false
   },
   "outputs": [
    {
     "data": {
      "text/plain": [
       "[1, [4, 5.0], 'Buchstaben']"
      ]
     },
     "execution_count": 86,
     "metadata": {},
     "output_type": "execute_result"
    }
   ],
   "source": [
    "# Eine Liste kann verschiedene Datenytypen enthalten, auch andere Listen. \n",
    "gemischte_liste = [1, [4,5.0], 'Buchstaben']\n",
    "gemischte_liste"
   ]
  },
  {
   "cell_type": "code",
   "execution_count": 87,
   "metadata": {
    "collapsed": false
   },
   "outputs": [
    {
     "data": {
      "text/plain": [
       "['Zahnbürste', 'Handtuch', 'Bikini']"
      ]
     },
     "execution_count": 87,
     "metadata": {},
     "output_type": "execute_result"
    }
   ],
   "source": [
    "koffer = ['Zahnbürste', 'Handtuch', 'Bikini']\n",
    "koffer"
   ]
  },
  {
   "cell_type": "code",
   "execution_count": 88,
   "metadata": {
    "collapsed": false
   },
   "outputs": [
    {
     "data": {
      "text/plain": [
       "'Handtuch'"
      ]
     },
     "execution_count": 88,
     "metadata": {},
     "output_type": "execute_result"
    }
   ],
   "source": [
    "# Element aus Liste herausziehen. Was glaubst Du, welches Ding im Koffer wird angezeigt?\n",
    "koffer[1]"
   ]
  },
  {
   "cell_type": "code",
   "execution_count": 89,
   "metadata": {
    "collapsed": false
   },
   "outputs": [
    {
     "data": {
      "text/plain": [
       "'Zahnbürste'"
      ]
     },
     "execution_count": 89,
     "metadata": {},
     "output_type": "execute_result"
    }
   ],
   "source": [
    "# Programmierer fangen bei 0 an zu zählen. Das erste Element der Liste gibst Du deshalb so aus:  \n",
    "koffer[0]"
   ]
  },
  {
   "cell_type": "code",
   "execution_count": 90,
   "metadata": {
    "collapsed": false
   },
   "outputs": [
    {
     "data": {
      "text/plain": [
       "'Bikini'"
      ]
     },
     "execution_count": 90,
     "metadata": {},
     "output_type": "execute_result"
    }
   ],
   "source": [
    "# Letztes Element aus Liste \n",
    "koffer[-1]"
   ]
  },
  {
   "cell_type": "code",
   "execution_count": 91,
   "metadata": {
    "collapsed": false
   },
   "outputs": [
    {
     "data": {
      "text/plain": [
       "['Zahnbürste', 'Handtuch', 'Bikini', 'Hut']"
      ]
     },
     "execution_count": 91,
     "metadata": {},
     "output_type": "execute_result"
    }
   ],
   "source": [
    "# Füge ein weiteres Element zur Liste hinzu. \n",
    "koffer.append('Hut')\n",
    "koffer"
   ]
  },
  {
   "cell_type": "code",
   "execution_count": 92,
   "metadata": {
    "collapsed": false
   },
   "outputs": [
    {
     "data": {
      "text/plain": [
       "['Zahnbürste', 'Handtuch', 'Bikini']"
      ]
     },
     "execution_count": 92,
     "metadata": {},
     "output_type": "execute_result"
    }
   ],
   "source": [
    "# Und wieder entfernen - mit 'del' für delete\n",
    "del(koffer[-1])\n",
    "koffer "
   ]
  },
  {
   "cell_type": "code",
   "execution_count": 94,
   "metadata": {
    "collapsed": false
   },
   "outputs": [
    {
     "data": {
      "text/plain": [
       "['Bikini', 'Zahnbürste', 'Hut']"
      ]
     },
     "execution_count": 94,
     "metadata": {},
     "output_type": "execute_result"
    }
   ],
   "source": [
    "# Und jetzt bitte aufräumen: \n",
    "koffer.sort()\n",
    "koffer\n",
    "# Ist jetzt sortiert von A-Z\n",
    "koffer.append('sonnencreme')\n",
    "koffer\n",
    "del(koffer[-3])\n",
    "koffer\n",
    "del(koffer[-1])\n",
    "koffer\n",
    "koffer.append('Hut')\n",
    "koffer"
   ]
  },
  {
   "cell_type": "markdown",
   "metadata": {},
   "source": [
    "## Aufgabe!"
   ]
  },
  {
   "cell_type": "markdown",
   "metadata": {},
   "source": [
    "* Füge der Liste 'koffer' ein weiteres Element hinzu. \n",
    "* Lasse Dir dieses Element anzeigen. \n",
    "* Sorge dann dafür, dass die Liste wieder alphabetisch sortiert wird."
   ]
  },
  {
   "cell_type": "markdown",
   "metadata": {},
   "source": [
    "### Dictionarys"
   ]
  },
  {
   "cell_type": "code",
   "execution_count": 97,
   "metadata": {
    "collapsed": false
   },
   "outputs": [
    {
     "data": {
      "text/plain": [
       "{'Lisa': 258789, 'Martha': '801920', 'Philipp': 6598489}"
      ]
     },
     "execution_count": 97,
     "metadata": {},
     "output_type": "execute_result"
    }
   ],
   "source": [
    "# Dictionarys bestehen aus Key und Value-Paaren, wie Telefonbücher oder Vokabelhefte.\n",
    "leeres_dict = {}\n",
    "telefonbuch = {'Philipp': 6598489, 'Martha': '801920', 'Lisa': 258789 }\n",
    "telefonbuch"
   ]
  },
  {
   "cell_type": "code",
   "execution_count": 96,
   "metadata": {
    "collapsed": false
   },
   "outputs": [
    {
     "data": {
      "text/plain": [
       "{}"
      ]
     },
     "execution_count": 96,
     "metadata": {},
     "output_type": "execute_result"
    }
   ],
   "source": [
    "leeres_dict"
   ]
  },
  {
   "cell_type": "code",
   "execution_count": 98,
   "metadata": {
    "collapsed": false
   },
   "outputs": [
    {
     "data": {
      "text/plain": [
       "dict_keys(['Lisa', 'Philipp', 'Martha'])"
      ]
     },
     "execution_count": 98,
     "metadata": {},
     "output_type": "execute_result"
    }
   ],
   "source": [
    "telefonbuch.keys()"
   ]
  },
  {
   "cell_type": "code",
   "execution_count": 99,
   "metadata": {
    "collapsed": false
   },
   "outputs": [
    {
     "data": {
      "text/plain": [
       "dict_values([258789, 6598489, '801920'])"
      ]
     },
     "execution_count": 99,
     "metadata": {},
     "output_type": "execute_result"
    }
   ],
   "source": [
    "telefonbuch.values()"
   ]
  },
  {
   "cell_type": "code",
   "execution_count": 100,
   "metadata": {
    "collapsed": false
   },
   "outputs": [
    {
     "ename": "AttributeError",
     "evalue": "'dict' object has no attribute 'sort'",
     "output_type": "error",
     "traceback": [
      "\u001b[0;31m---------------------------------------------------------------------------\u001b[0m",
      "\u001b[0;31mAttributeError\u001b[0m                            Traceback (most recent call last)",
      "\u001b[0;32m<ipython-input-100-98a297bd1d03>\u001b[0m in \u001b[0;36m<module>\u001b[0;34m()\u001b[0m\n\u001b[1;32m      1\u001b[0m \u001b[0;31m# Dictionarys sind unsortiert, deshalb kann man sie nicht sortieren.\u001b[0m\u001b[0;34m\u001b[0m\u001b[0;34m\u001b[0m\u001b[0m\n\u001b[0;32m----> 2\u001b[0;31m \u001b[0mtelefonbuch\u001b[0m\u001b[0;34m.\u001b[0m\u001b[0msort\u001b[0m\u001b[0;34m(\u001b[0m\u001b[0;34m)\u001b[0m\u001b[0;34m\u001b[0m\u001b[0m\n\u001b[0m",
      "\u001b[0;31mAttributeError\u001b[0m: 'dict' object has no attribute 'sort'"
     ]
    }
   ],
   "source": [
    "# Dictionarys sind unsortiert, deshalb kann man sie nicht sortieren. \n",
    "telefonbuch.sort()"
   ]
  },
  {
   "cell_type": "markdown",
   "metadata": {},
   "source": [
    "## Aufgabe! \n",
    "\n",
    "Wenn Du den nächsten Codeblock ausführst, erhälst Du drei Buchstaben.  \n",
    "Erstelle ein Dictionary 'stadt_land_fluss', das für jeden Buchstaben eine Liste mit passenden Begriffen zu 'Stadt', 'Land', Fluss enthält."
   ]
  },
  {
   "cell_type": "code",
   "execution_count": 101,
   "metadata": {
    "collapsed": false
   },
   "outputs": [
    {
     "data": {
      "text/plain": [
       "('J', 'C', 'H')"
      ]
     },
     "execution_count": 101,
     "metadata": {},
     "output_type": "execute_result"
    }
   ],
   "source": [
    "from string import ascii_letters\n",
    "from random import choice \n",
    "buchstaben = (ascii_letters).upper()\n",
    "meine_bstb = choice(buchstaben), choice(buchstaben), choice(buchstaben)\n",
    "meine_bstb"
   ]
  },
  {
   "cell_type": "code",
   "execution_count": 103,
   "metadata": {
    "collapsed": false
   },
   "outputs": [
    {
     "data": {
      "text/plain": [
       "{'Fluss': ['jojo', 'cret', 'heines'],\n",
       " 'Land': ['jordanien', 'colura', 'holaa'],\n",
       " 'Stadt': ['johannisburg', 'cecilienstadt', 'hamburg']}"
      ]
     },
     "execution_count": 103,
     "metadata": {},
     "output_type": "execute_result"
    }
   ],
   "source": [
    "stadt_land_fluss = {\n",
    "    'Stadt': ['johannisburg','cecilienstadt', 'hamburg' ], \n",
    "    'Land': ['jordanien', 'colura', 'holaa'], \n",
    "    'Fluss': ['jojo', 'cret', 'heines'] } \n",
    "stadt_land_fluss "
   ]
  },
  {
   "cell_type": "code",
   "execution_count": 104,
   "metadata": {
    "collapsed": false
   },
   "outputs": [
    {
     "data": {
      "text/plain": [
       "dict_keys(['Fluss', 'Stadt', 'Land'])"
      ]
     },
     "execution_count": 104,
     "metadata": {},
     "output_type": "execute_result"
    }
   ],
   "source": [
    "stadt_land_fluss.keys()"
   ]
  },
  {
   "cell_type": "code",
   "execution_count": 105,
   "metadata": {
    "collapsed": false
   },
   "outputs": [
    {
     "data": {
      "text/plain": [
       "dict_values([['jojo', 'cret', 'heines'], ['johannisburg', 'cecilienstadt', 'hamburg'], ['jordanien', 'colura', 'holaa']])"
      ]
     },
     "execution_count": 105,
     "metadata": {},
     "output_type": "execute_result"
    }
   ],
   "source": [
    "stadt_land_fluss.values()"
   ]
  },
  {
   "cell_type": "markdown",
   "metadata": {},
   "source": [
    "## Schleifen \n",
    "\n",
    "\n",
    "In Python kann man jedes Element einer Liste oder eines Dictionarys nacheinander ablaufen und etwas damit tun. Man sagt, Listen und Dictionarys sind iterierbar. "
   ]
  },
  {
   "cell_type": "code",
   "execution_count": 108,
   "metadata": {
    "collapsed": false
   },
   "outputs": [
    {
     "name": "stdout",
     "output_type": "stream",
     "text": [
      "{'Fluss': ['jojo', 'cret', 'heines'], 'Stadt': ['johannisburg', 'cecilienstadt', 'hamburg'], 'Land': ['jordanien', 'colura', 'holaa']}\n",
      "{'Fluss': ['jojo', 'cret', 'heines'], 'Stadt': ['johannisburg', 'cecilienstadt', 'hamburg'], 'Land': ['jordanien', 'colura', 'holaa']}\n",
      "{'Fluss': ['jojo', 'cret', 'heines'], 'Stadt': ['johannisburg', 'cecilienstadt', 'hamburg'], 'Land': ['jordanien', 'colura', 'holaa']}\n"
     ]
    }
   ],
   "source": [
    "import pprint    # pprint steht für 'pretty-print'. Lädt ein Paket, das hübsche Prints macht \n",
    "\n",
    "for element in stadt_land_fluss:\n",
    "    print(stadt_land_fluss)"
   ]
  },
  {
   "cell_type": "code",
   "execution_count": 109,
   "metadata": {
    "collapsed": false
   },
   "outputs": [
    {
     "name": "stdout",
     "output_type": "stream",
     "text": [
      "jojo\n",
      "johannisburg\n",
      "jordanien\n"
     ]
    }
   ],
   "source": [
    "for i in stadt_land_fluss: \n",
    "    print(stadt_land_fluss[i][0])"
   ]
  },
  {
   "cell_type": "markdown",
   "metadata": {},
   "source": [
    "## Aufgabe!"
   ]
  },
  {
   "cell_type": "markdown",
   "metadata": {},
   "source": [
    "Schreibe ein Programm, das nacheinander alle Teilnehmerinnen von Code4Girls begrüßt. Tipp: Du brauchst eine Liste der Teilnehmerinnen und eine Schleife. "
   ]
  },
  {
   "cell_type": "code",
   "execution_count": 113,
   "metadata": {
    "collapsed": true
   },
   "outputs": [],
   "source": [
    "teilnehmerinnen=['Nola', 'Cara', 'Anastasia', 'Hannah']"
   ]
  },
  {
   "cell_type": "code",
   "execution_count": 114,
   "metadata": {
    "collapsed": false
   },
   "outputs": [
    {
     "data": {
      "text/plain": [
       "['Nola', 'Cara', 'Anastasia', 'Hannah']"
      ]
     },
     "execution_count": 114,
     "metadata": {},
     "output_type": "execute_result"
    }
   ],
   "source": [
    "teilnehmerinnen"
   ]
  },
  {
   "cell_type": "code",
   "execution_count": 115,
   "metadata": {
    "collapsed": false
   },
   "outputs": [
    {
     "name": "stdout",
     "output_type": "stream",
     "text": [
      "Nola\n",
      "Cara\n",
      "Anastasia\n",
      "Hannah\n"
     ]
    }
   ],
   "source": [
    "for girl in teilnehmerinnen: \n",
    "    print(girl)"
   ]
  },
  {
   "cell_type": "code",
   "execution_count": 125,
   "metadata": {
    "collapsed": false
   },
   "outputs": [
    {
     "name": "stdout",
     "output_type": "stream",
     "text": [
      "hallo Nola !\n",
      "hallo Cara !\n",
      "hallo Anastasia !\n",
      "hallo Hannah !\n"
     ]
    }
   ],
   "source": [
    "for girl in teilnehmerinnen: \n",
    "    print('hallo' , girl , '!')"
   ]
  },
  {
   "cell_type": "markdown",
   "metadata": {},
   "source": [
    "## Beispiel für eine Python-Funktion"
   ]
  },
  {
   "cell_type": "markdown",
   "metadata": {},
   "source": [
    "Schritt 1: Definiert eine Funktion, die 'name' als Argument nutzt: \n",
    "'Laenge' wird auf die Anzahl der Buchstaben von 'name' gesetzt.  \n",
    "Dann wird laenge ausgegeben."
   ]
  },
  {
   "cell_type": "code",
   "execution_count": 135,
   "metadata": {
    "collapsed": false
   },
   "outputs": [],
   "source": [
    "def buchstaben_zaehlen(name):\n",
    "    laenge = len(name)\n",
    "    print(laenge)"
   ]
  },
  {
   "cell_type": "markdown",
   "metadata": {},
   "source": [
    "Schritt 2: Die Funktion wird aufgerufen. "
   ]
  },
  {
   "cell_type": "code",
   "execution_count": 136,
   "metadata": {
    "collapsed": false
   },
   "outputs": [
    {
     "name": "stdout",
     "output_type": "stream",
     "text": [
      "5\n"
     ]
    }
   ],
   "source": [
    "buchstaben_zaehlen('Simon')"
   ]
  },
  {
   "cell_type": "code",
   "execution_count": 137,
   "metadata": {
    "collapsed": true
   },
   "outputs": [],
   "source": [
    "name='Patricia'"
   ]
  },
  {
   "cell_type": "code",
   "execution_count": 138,
   "metadata": {
    "collapsed": false
   },
   "outputs": [
    {
     "name": "stdout",
     "output_type": "stream",
     "text": [
      "8\n"
     ]
    }
   ],
   "source": [
    "buchstaben_zaehlen(name)"
   ]
  },
  {
   "cell_type": "markdown",
   "metadata": {},
   "source": [
    "Andere Möglichkeit: Fragt nach dem Namen des Benutzers und speichert ihn in der Variable 'name'."
   ]
  },
  {
   "cell_type": "code",
   "execution_count": 144,
   "metadata": {
    "collapsed": false
   },
   "outputs": [
    {
     "name": "stdout",
     "output_type": "stream",
     "text": [
      "Bitte gib deinen Namen ein: \n",
      "katharina\n"
     ]
    }
   ],
   "source": [
    "name = input('Bitte gib deinen Namen ein: \\n')"
   ]
  },
  {
   "cell_type": "code",
   "execution_count": 145,
   "metadata": {
    "collapsed": false
   },
   "outputs": [
    {
     "name": "stdout",
     "output_type": "stream",
     "text": [
      "9\n"
     ]
    }
   ],
   "source": [
    "buchstaben_zaehlen(name)"
   ]
  },
  {
   "cell_type": "code",
   "execution_count": 146,
   "metadata": {
    "collapsed": false
   },
   "outputs": [
    {
     "data": {
      "text/plain": [
       "False"
      ]
     },
     "execution_count": 146,
     "metadata": {},
     "output_type": "execute_result"
    }
   ],
   "source": [
    "# Wahrheit prüfen \n",
    "len(name) == 8"
   ]
  },
  {
   "cell_type": "markdown",
   "metadata": {},
   "source": [
    "## Bedingungen: Wenn, dann ... "
   ]
  },
  {
   "cell_type": "code",
   "execution_count": 147,
   "metadata": {
    "collapsed": false
   },
   "outputs": [
    {
     "name": "stdout",
     "output_type": "stream",
     "text": [
      "Lang!\n"
     ]
    }
   ],
   "source": [
    "if len(name) >= 8: \n",
    "    print('Lang!')\n",
    "if len(name) <= 4:\n",
    "    print('Kurz')\n",
    "if len(name) <8 and len(name) >4:\n",
    "    print('Mittel')"
   ]
  },
  {
   "cell_type": "markdown",
   "metadata": {
    "collapsed": false
   },
   "source": [
    "## Steuern berechnen\n"
   ]
  },
  {
   "cell_type": "code",
   "execution_count": 153,
   "metadata": {
    "collapsed": true
   },
   "outputs": [],
   "source": [
    "def berechneSteuern(preis, steuer_satz):\n",
    "    \"\"\"Berechnet die Mehwertsteuer für einen Preis\n",
    "\n",
    "    usage:\n",
    "        >>> berechneSteuern(\"7,19\")\n",
    "        8.33\n",
    "    \"\"\"\n",
    "    gesamt = preis + (preis * steuer_satz/100)\n",
    "    return gesamt"
   ]
  },
  {
   "cell_type": "code",
   "execution_count": 154,
   "metadata": {
    "collapsed": false
   },
   "outputs": [
    {
     "name": "stdout",
     "output_type": "stream",
     "text": [
      "Help on function berechneSteuern in module __main__:\n",
      "\n",
      "berechneSteuern(preis, steuer_satz)\n",
      "    Berechnet die Mehwertsteuer für einen Preis\n",
      "    \n",
      "    usage:\n",
      "        >>> berechneSteuern(\"7,19\")\n",
      "        8.33\n",
      "\n"
     ]
    }
   ],
   "source": [
    "help(berechneSteuern)"
   ]
  },
  {
   "cell_type": "code",
   "execution_count": 155,
   "metadata": {
    "collapsed": false
   },
   "outputs": [
    {
     "data": {
      "text/plain": [
       "8.33"
      ]
     },
     "execution_count": 155,
     "metadata": {},
     "output_type": "execute_result"
    }
   ],
   "source": [
    "# And here's the function in action!\n",
    "berechneSteuern(7,19)"
   ]
  },
  {
   "cell_type": "code",
   "execution_count": 156,
   "metadata": {
    "collapsed": false
   },
   "outputs": [
    {
     "data": {
      "text/plain": [
       "6700000.0"
      ]
     },
     "execution_count": 156,
     "metadata": {},
     "output_type": "execute_result"
    }
   ],
   "source": [
    "berechneSteuern(5000000,34)"
   ]
  },
  {
   "cell_type": "markdown",
   "metadata": {},
   "source": [
    "## Temperatur umrechnen"
   ]
  },
  {
   "cell_type": "code",
   "execution_count": 149,
   "metadata": {
    "collapsed": true
   },
   "outputs": [],
   "source": [
    "def fahrenheit_in_celsius(fahr):\n",
    "    cel = 5/9*(fahr-32)\n",
    "    return cel"
   ]
  },
  {
   "cell_type": "code",
   "execution_count": 150,
   "metadata": {
    "collapsed": false
   },
   "outputs": [
    {
     "data": {
      "text/plain": [
       "32.22222222222222"
      ]
     },
     "execution_count": 150,
     "metadata": {},
     "output_type": "execute_result"
    }
   ],
   "source": [
    "fahrenheit_in_celsius(90)"
   ]
  },
  {
   "cell_type": "markdown",
   "metadata": {},
   "source": [
    "## Aufgabe\n",
    "Bitte lass Python noch mal alle Teilnehmerinnen begrüßen, schreibe aber diesmal eine Funktion dafür."
   ]
  },
  {
   "cell_type": "code",
   "execution_count": 158,
   "metadata": {
    "collapsed": false
   },
   "outputs": [],
   "source": [
    "def teilnehmerinnen_begrüßen():\n",
    "    for girl in teilnehmerinnen: \n",
    "        print('hallo' , girl , '!')"
   ]
  },
  {
   "cell_type": "code",
   "execution_count": 159,
   "metadata": {
    "collapsed": false
   },
   "outputs": [
    {
     "name": "stdout",
     "output_type": "stream",
     "text": [
      "hallo Nola !\n",
      "hallo Cara !\n",
      "hallo Anastasia !\n",
      "hallo Hannah !\n"
     ]
    }
   ],
   "source": [
    "teilnehmerinnen_begrüßen()"
   ]
  },
  {
   "cell_type": "markdown",
   "metadata": {},
   "source": [
    "## Textaufgabe \n",
    "Anna trägt Zeitungen aus. Sie bekommt pro Zeitung 50 Cent. Schreibe eine Funktion, die Anna ausrechnet, wie viel sie verdient.     "
   ]
  },
  {
   "cell_type": "code",
   "execution_count": null,
   "metadata": {
    "collapsed": false
   },
   "outputs": [],
   "source": []
  },
  {
   "cell_type": "markdown",
   "metadata": {},
   "source": [
    "## ERRORS"
   ]
  },
  {
   "cell_type": "code",
   "execution_count": null,
   "metadata": {
    "collapsed": false
   },
   "outputs": [],
   "source": [
    "ERRORS "
   ]
  },
  {
   "cell_type": "markdown",
   "metadata": {},
   "source": [
    "Nicht von Fehlern abschrecken lassen, Fehler sind in Python nützliche kleine Helfer "
   ]
  },
  {
   "cell_type": "code",
   "execution_count": null,
   "metadata": {
    "collapsed": false
   },
   "outputs": [],
   "source": [
    "display(Image(url='static/minions.jpg'))"
   ]
  },
  {
   "cell_type": "markdown",
   "metadata": {},
   "source": [
    "__*Survival-Checkliste für Fehlermeldungen:*__\n",
    "1. KEINE PANIK \n",
    "2. Von hinten lesen (letzte Zeile zuerst)\n",
    "3. Was sagt der Fehler?\n",
    "4. In welcher Datei, welcher Zeile ist der Fehler?\n",
    "5. Fehler googeln (letzte Zeile kopieren und in Google einfügen) "
   ]
  },
  {
   "cell_type": "markdown",
   "metadata": {},
   "source": [
    "## Hilfe holen \n",
    "\n",
    "Praktisch an Jupyter ist, dass es eine eingebaute Hilfe und eine Auto-Vervollständigungs-Funktion hat."
   ]
  },
  {
   "cell_type": "code",
   "execution_count": null,
   "metadata": {
    "collapsed": false
   },
   "outputs": [],
   "source": [
    "# Mit help() zeigst Du die eingebaute Hilfe an, zum Beispiel help(str) zeigt alle String-Funktionen an. \n",
    "help(str)"
   ]
  },
  {
   "cell_type": "markdown",
   "metadata": {},
   "source": [
    "## Spaß mit Strings"
   ]
  },
  {
   "cell_type": "code",
   "execution_count": null,
   "metadata": {
    "collapsed": true
   },
   "outputs": [],
   "source": [
    "zungenbrecher = 'Fischers Fritze fischt frische Fische'"
   ]
  },
  {
   "cell_type": "code",
   "execution_count": null,
   "metadata": {
    "collapsed": false
   },
   "outputs": [],
   "source": [
    "# Möchte man mit den Zungenbrecher etwas machen, kann man 'zungenbrecher.' tippen und dann [tab]. \n",
    "zungenbrecher.upper()"
   ]
  },
  {
   "cell_type": "code",
   "execution_count": null,
   "metadata": {
    "collapsed": false
   },
   "outputs": [],
   "source": [
    "# Möchte man zählen, wie oft die Buchstabenfolge 'fisch' im Zungenbrecher vorkommt, dann kann man \n",
    "zungenbrecher.count('fisch')"
   ]
  },
  {
   "cell_type": "code",
   "execution_count": null,
   "metadata": {
    "collapsed": false
   },
   "outputs": [],
   "source": [
    "# Man kann auch erst alles klein schreiben und dann nach 'fisch' suchen. \n",
    "zungenbrecher.lower().count('fisch')"
   ]
  },
  {
   "cell_type": "code",
   "execution_count": null,
   "metadata": {
    "collapsed": false
   },
   "outputs": [],
   "source": [
    "'cat' in zungenbrecher"
   ]
  },
  {
   "cell_type": "code",
   "execution_count": null,
   "metadata": {
    "collapsed": false
   },
   "outputs": [],
   "source": [
    "'Fritz' in zungenbrecher"
   ]
  },
  {
   "cell_type": "code",
   "execution_count": null,
   "metadata": {
    "collapsed": false
   },
   "outputs": [],
   "source": [
    "zungenbrecher.find('Fritze')"
   ]
  },
  {
   "cell_type": "code",
   "execution_count": null,
   "metadata": {
    "collapsed": false
   },
   "outputs": [],
   "source": [
    "index = zungenbrecher.find('Fritze')\n",
    "zungenbrecher[:index]"
   ]
  },
  {
   "cell_type": "code",
   "execution_count": null,
   "metadata": {
    "collapsed": false
   },
   "outputs": [],
   "source": [
    "zungenbrecher[index:]"
   ]
  },
  {
   "cell_type": "markdown",
   "metadata": {},
   "source": [
    "## Lasset die Spiele beginnen!"
   ]
  },
  {
   "cell_type": "code",
   "execution_count": null,
   "metadata": {
    "collapsed": false
   },
   "outputs": [],
   "source": [
    "from IPython.display import Image\n",
    "from IPython.display import display\n",
    "display(Image(url='./static/anna.gif'))"
   ]
  }
 ],
 "metadata": {
  "kernelspec": {
   "display_name": "Python 3",
   "language": "python",
   "name": "python3"
  },
  "language_info": {
   "codemirror_mode": {
    "name": "ipython",
    "version": 3
   },
   "file_extension": ".py",
   "mimetype": "text/x-python",
   "name": "python",
   "nbconvert_exporter": "python",
   "pygments_lexer": "ipython3",
   "version": "3.4.2"
  }
 },
 "nbformat": 4,
 "nbformat_minor": 0
}
