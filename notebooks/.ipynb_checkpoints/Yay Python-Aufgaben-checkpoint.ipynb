{
 "cells": [
  {
   "cell_type": "markdown",
   "metadata": {},
   "source": [
    "# Introduction to Python\n",
    "\n",
    "Quelle: []"
   ]
  },
  {
   "cell_type": "code",
<<<<<<< HEAD
   "execution_count": 37,
=======
   "execution_count": 1,
>>>>>>> 4c5c52ec7fe6053063370d3170a67d336c1a746f
   "metadata": {
    "collapsed": false
   },
   "outputs": [
    {
     "data": {
      "text/html": [
       "<img src=\"./static/glitter.gif\"/>"
      ],
      "text/plain": [
       "<IPython.core.display.Image object>"
      ]
     },
     "metadata": {},
     "output_type": "display_data"
    }
   ],
   "source": [
    "# display this image\n",
    "from IPython.display import Image\n",
    "from IPython.display import display\n",
    "display(Image(url='./static/glitter.gif'), width=50)"
   ]
  },
  {
   "cell_type": "code",
<<<<<<< HEAD
   "execution_count": 38,
=======
   "execution_count": 3,
>>>>>>> 4c5c52ec7fe6053063370d3170a67d336c1a746f
   "metadata": {
    "collapsed": false
   },
   "outputs": [
    {
     "name": "stdout",
     "output_type": "stream",
     "text": [
<<<<<<< HEAD
      "Cara\n"
=======
      "Anastasia\n"
>>>>>>> 4c5c52ec7fe6053063370d3170a67d336c1a746f
     ]
    }
   ],
   "source": [
    "## Zuweisungen \n",
    "\n",
<<<<<<< HEAD
    "name = 'Cara' # Gib zwischen den '' deinen Namen ein!   \n",
=======
    "name = 'Anastasia' # Gib zwischen den '' deinen Namen ein!   \n",
>>>>>>> 4c5c52ec7fe6053063370d3170a67d336c1a746f
    "print(name)"
   ]
  },
  {
   "cell_type": "code",
<<<<<<< HEAD
   "execution_count": 39,
=======
   "execution_count": 4,
>>>>>>> 4c5c52ec7fe6053063370d3170a67d336c1a746f
   "metadata": {
    "collapsed": false
   },
   "outputs": [
    {
     "name": "stdout",
     "output_type": "stream",
     "text": [
<<<<<<< HEAD
      "Ich heiße  Cara\n"
=======
      "Ich heiße Anastasia\n"
>>>>>>> 4c5c52ec7fe6053063370d3170a67d336c1a746f
     ]
    }
   ],
   "source": [
    "print('Ich heiße ', name)"
   ]
  },
  {
   "cell_type": "code",
<<<<<<< HEAD
   "execution_count": 40,
=======
   "execution_count": 5,
>>>>>>> 4c5c52ec7fe6053063370d3170a67d336c1a746f
   "metadata": {
    "collapsed": false
   },
   "outputs": [
    {
     "name": "stdout",
     "output_type": "stream",
     "text": [
      "Hello World\n"
     ]
    }
   ],
   "source": [
    "a = 'Hello'\n",
    "b='World'\n",
    "print(a,b)"
   ]
  },
  {
   "cell_type": "markdown",
   "metadata": {},
   "source": [
    "Solche Zuweisungen nennt man auch Variablen. Die Variable 'name' wird auf den Wert 'Hallo' gesetzt. Das kann man sich so vorstellen, also würde man einen Namensaufkleber auf etwas kleben. Den kann man auch wieder abziehen und auf etwas Anderes kleben. "
   ]
  },
  {
   "cell_type": "code",
<<<<<<< HEAD
   "execution_count": 41,
=======
   "execution_count": 6,
>>>>>>> 4c5c52ec7fe6053063370d3170a67d336c1a746f
   "metadata": {
    "collapsed": false
   },
   "outputs": [
    {
     "name": "stdout",
     "output_type": "stream",
     "text": [
      "Hello\n"
     ]
    }
   ],
   "source": [
    "print(a)"
   ]
  },
  {
   "cell_type": "code",
<<<<<<< HEAD
   "execution_count": 42,
=======
   "execution_count": 7,
>>>>>>> 4c5c52ec7fe6053063370d3170a67d336c1a746f
   "metadata": {
    "collapsed": true
   },
   "outputs": [],
   "source": [
    "a= 5"
   ]
  },
  {
   "cell_type": "code",
<<<<<<< HEAD
   "execution_count": 43,
=======
   "execution_count": 8,
>>>>>>> 4c5c52ec7fe6053063370d3170a67d336c1a746f
   "metadata": {
    "collapsed": false
   },
   "outputs": [
    {
     "name": "stdout",
     "output_type": "stream",
     "text": [
      "5\n"
     ]
    }
   ],
   "source": [
    "print(a)"
   ]
  },
  {
   "cell_type": "markdown",
   "metadata": {},
   "source": [
    "## Datentypen"
   ]
  },
  {
   "cell_type": "code",
<<<<<<< HEAD
   "execution_count": 44,
=======
   "execution_count": 10,
>>>>>>> 4c5c52ec7fe6053063370d3170a67d336c1a746f
   "metadata": {
    "collapsed": false
   },
   "outputs": [],
   "source": [
    "# Datentypen \n",
    "mein_str = 'Code4Girls' # Irgendwas mit Buchstaben, immer in Anführungszeichen, '' oder \"\" ist egal, nur einheitlich.\n",
    "mein_int = 4 # Ganze Zahl\n",
    "mein_float = 5.0 # Komma-Zahl, im englischen aber mit Punkt geschrieben"
   ]
  },
  {
   "cell_type": "code",
<<<<<<< HEAD
   "execution_count": 45,
=======
   "execution_count": 12,
>>>>>>> 4c5c52ec7fe6053063370d3170a67d336c1a746f
   "metadata": {
    "collapsed": false
   },
   "outputs": [
    {
     "data": {
      "text/plain": [
<<<<<<< HEAD
       "str"
      ]
     },
     "execution_count": 45,
=======
       "int"
      ]
     },
     "execution_count": 12,
>>>>>>> 4c5c52ec7fe6053063370d3170a67d336c1a746f
     "metadata": {},
     "output_type": "execute_result"
    }
   ],
   "source": [
    "type(mein_int)"
   ]
  },
  {
   "cell_type": "code",
<<<<<<< HEAD
   "execution_count": 46,
=======
   "execution_count": 13,
>>>>>>> 4c5c52ec7fe6053063370d3170a67d336c1a746f
   "metadata": {
    "collapsed": false
   },
   "outputs": [
    {
     "name": "stdout",
     "output_type": "stream",
     "text": [
<<<<<<< HEAD
      "HalloHalloHalloHalloHalloHalloHalloHalloHalloHalloHalloHalloHalloHalloHalloHalloHalloHalloHalloHalloHalloHalloHalloHalloHalloHalloHalloHalloHalloHalloHalloHalloHalloHalloHalloHalloHalloHalloHalloHalloHalloHalloHalloHalloHalloHalloHalloHalloHalloHalloHalloHalloHalloHalloHalloHalloHalloHalloHalloHalloHalloHalloHalloHalloHalloHalloHalloHalloHalloHalloHalloHalloHalloHalloHalloHalloHalloHalloHalloHalloHalloHalloHalloHalloHalloHalloHalloHalloHalloHalloHalloHalloHalloHalloHalloHalloHalloHalloHalloHalloHalloHalloHalloHalloHalloHalloHalloHalloHalloHalloHalloHalloHalloHalloHalloHalloHalloHalloHalloHalloHalloHalloHalloHalloHalloHalloHalloHalloHalloHalloHalloHalloHalloHalloHalloHalloHalloHalloHalloHalloHalloHalloHalloHalloHalloHalloHalloHalloHalloHalloHalloHalloHalloHalloHalloHalloHalloHalloHalloHalloHalloHalloHalloHalloHalloHalloHalloHalloHalloHalloHalloHalloHalloHalloHalloHalloHalloHalloHalloHalloHalloHalloHalloHalloHalloHalloHalloHalloHalloHalloHalloHalloHalloHalloHalloHalloHalloHalloHalloHallo\n"
=======
      "HalloHalloHalloHalloHalloHalloHalloHalloHalloHalloHalloHalloHalloHalloHalloHalloHalloHalloHalloHallo\n"
>>>>>>> 4c5c52ec7fe6053063370d3170a67d336c1a746f
     ]
    }
   ],
   "source": [
    "print('Hallo' * 200)"
   ]
  },
  {
   "cell_type": "markdown",
   "metadata": {
    "collapsed": true
   },
   "source": [
    "### Aufgabe!"
   ]
  },
  {
   "cell_type": "markdown",
   "metadata": {
    "collapsed": true
   },
   "source": [
    "Denk Dir einen Hund aus: \n",
    "- Schreibe eine Variable name und weise ihr einen Namen zu. Denk an die Anführungszeichen bei Strings. \n",
    "- Schreibe eine Variable rasse und weise ihr zu, zu welcher Rasse der Hund gehört. \n",
    "- Schreibe eine Variable futter und weise ihr ein Futter zu. \n",
    "- Schreibe eine Variable alter und weise ihr eine Zahl zu."
   ]
  },
  {
   "cell_type": "code",
<<<<<<< HEAD
   "execution_count": 47,
=======
   "execution_count": 16,
>>>>>>> 4c5c52ec7fe6053063370d3170a67d336c1a746f
   "metadata": {
    "collapsed": true
   },
   "outputs": [],
   "source": [
<<<<<<< HEAD
    "name = 'Chloe'\n",
    "rasse = 'Australien Shepperd'\n",
    "futter = 'Hühnchen'\n",
    "alter = 2"
=======
    "name = \"Pluto\"\n",
    "rasse = \"Greyhound\"\n",
    "futter = \"Knochen\"\n",
    "alter = \"2\""
>>>>>>> 4c5c52ec7fe6053063370d3170a67d336c1a746f
   ]
  },
  {
   "cell_type": "code",
<<<<<<< HEAD
   "execution_count": 48,
=======
   "execution_count": 17,
>>>>>>> 4c5c52ec7fe6053063370d3170a67d336c1a746f
   "metadata": {
    "collapsed": false
   },
   "outputs": [
    {
     "name": "stdout",
     "output_type": "stream",
     "text": [
<<<<<<< HEAD
      "Mein Hund heißt Chloe , ist ein Australien Shepperd , frisst gerne Hühnchen und ist 2 Jahre alt.\n"
=======
      "Mein Hund heißt Pluto , ist ein Greyhound , frisst gerne Knochen und ist 2 Jahre alt.\n"
>>>>>>> 4c5c52ec7fe6053063370d3170a67d336c1a746f
     ]
    }
   ],
   "source": [
    "print('Mein Hund heißt', name, ', ist ein', rasse, ', frisst gerne', futter, 'und ist', alter, 'Jahre alt.' )"
   ]
  },
  {
   "cell_type": "markdown",
   "metadata": {
    "collapsed": true
   },
   "source": [
    "## Mehr Datentypen"
   ]
  },
  {
   "cell_type": "markdown",
   "metadata": {},
   "source": [
    "### Listen"
   ]
  },
  {
   "cell_type": "code",
<<<<<<< HEAD
   "execution_count": 49,
=======
   "execution_count": 18,
>>>>>>> 4c5c52ec7fe6053063370d3170a67d336c1a746f
   "metadata": {
    "collapsed": true
   },
   "outputs": [],
   "source": [
    "# Listen \n",
    "leere_liste = []"
   ]
  },
  {
   "cell_type": "code",
<<<<<<< HEAD
   "execution_count": 50,
=======
   "execution_count": 19,
>>>>>>> 4c5c52ec7fe6053063370d3170a67d336c1a746f
   "metadata": {
    "collapsed": false
   },
   "outputs": [
    {
     "data": {
      "text/plain": [
       "[]"
      ]
     },
<<<<<<< HEAD
     "execution_count": 50,
=======
     "execution_count": 19,
>>>>>>> 4c5c52ec7fe6053063370d3170a67d336c1a746f
     "metadata": {},
     "output_type": "execute_result"
    }
   ],
   "source": [
    "# Eine Besonderheit im Jupyter Notebook ist, dass man sich 'print()' sparen kann. Um eine Variable anzuzeigen reicht:\n",
    "leere_liste"
   ]
  },
  {
   "cell_type": "code",
<<<<<<< HEAD
   "execution_count": 51,
=======
   "execution_count": 20,
>>>>>>> 4c5c52ec7fe6053063370d3170a67d336c1a746f
   "metadata": {
    "collapsed": false
   },
   "outputs": [
    {
     "data": {
      "text/plain": [
       "[1, [4, 5.0], 'Buchstaben']"
      ]
     },
<<<<<<< HEAD
     "execution_count": 51,
=======
     "execution_count": 20,
>>>>>>> 4c5c52ec7fe6053063370d3170a67d336c1a746f
     "metadata": {},
     "output_type": "execute_result"
    }
   ],
   "source": [
    "# Eine Liste kann verschiedene Datenytypen enthalten, auch andere Listen. \n",
    "gemischte_liste = [1, [4,5.0], 'Buchstaben']\n",
    "gemischte_liste"
   ]
  },
  {
   "cell_type": "code",
<<<<<<< HEAD
   "execution_count": 52,
=======
   "execution_count": 21,
>>>>>>> 4c5c52ec7fe6053063370d3170a67d336c1a746f
   "metadata": {
    "collapsed": false
   },
   "outputs": [
    {
     "data": {
      "text/plain": [
       "['Zahnbürste', 'Handtuch', 'Bikini']"
      ]
     },
<<<<<<< HEAD
     "execution_count": 52,
=======
     "execution_count": 21,
>>>>>>> 4c5c52ec7fe6053063370d3170a67d336c1a746f
     "metadata": {},
     "output_type": "execute_result"
    }
   ],
   "source": [
    "koffer = ['Zahnbürste', 'Handtuch', 'Bikini']\n",
    "koffer"
   ]
  },
  {
   "cell_type": "code",
<<<<<<< HEAD
   "execution_count": 53,
=======
   "execution_count": 22,
>>>>>>> 4c5c52ec7fe6053063370d3170a67d336c1a746f
   "metadata": {
    "collapsed": false
   },
   "outputs": [
    {
     "data": {
      "text/plain": [
       "'Handtuch'"
      ]
     },
<<<<<<< HEAD
     "execution_count": 53,
=======
     "execution_count": 22,
>>>>>>> 4c5c52ec7fe6053063370d3170a67d336c1a746f
     "metadata": {},
     "output_type": "execute_result"
    }
   ],
   "source": [
    "# Element aus Liste herausziehen. Was glaubst Du, welches Ding im Koffer wird angezeigt?\n",
    "koffer[1]"
   ]
  },
  {
   "cell_type": "code",
<<<<<<< HEAD
   "execution_count": 54,
=======
   "execution_count": 23,
>>>>>>> 4c5c52ec7fe6053063370d3170a67d336c1a746f
   "metadata": {
    "collapsed": false
   },
   "outputs": [
    {
     "data": {
      "text/plain": [
       "'Zahnbürste'"
      ]
     },
<<<<<<< HEAD
     "execution_count": 54,
=======
     "execution_count": 23,
>>>>>>> 4c5c52ec7fe6053063370d3170a67d336c1a746f
     "metadata": {},
     "output_type": "execute_result"
    }
   ],
   "source": [
    "# Programmierer fangen bei 0 an zu zählen. Das erste Element der Liste gibst Du deshalb so aus:  \n",
    "koffer[0]"
   ]
  },
  {
   "cell_type": "code",
<<<<<<< HEAD
   "execution_count": 55,
=======
   "execution_count": 24,
>>>>>>> 4c5c52ec7fe6053063370d3170a67d336c1a746f
   "metadata": {
    "collapsed": false
   },
   "outputs": [
    {
     "data": {
      "text/plain": [
       "'Bikini'"
      ]
     },
<<<<<<< HEAD
     "execution_count": 55,
=======
     "execution_count": 24,
>>>>>>> 4c5c52ec7fe6053063370d3170a67d336c1a746f
     "metadata": {},
     "output_type": "execute_result"
    }
   ],
   "source": [
    "# Letztes Element aus Liste \n",
    "koffer[-1]"
   ]
  },
  {
   "cell_type": "code",
<<<<<<< HEAD
   "execution_count": 56,
=======
   "execution_count": 25,
>>>>>>> 4c5c52ec7fe6053063370d3170a67d336c1a746f
   "metadata": {
    "collapsed": false
   },
   "outputs": [
    {
     "data": {
      "text/plain": [
       "['Zahnbürste', 'Handtuch', 'Bikini', 'Hut']"
      ]
     },
<<<<<<< HEAD
     "execution_count": 56,
=======
     "execution_count": 25,
>>>>>>> 4c5c52ec7fe6053063370d3170a67d336c1a746f
     "metadata": {},
     "output_type": "execute_result"
    }
   ],
   "source": [
    "# Füge ein weiteres Element zur Liste hinzu. \n",
    "koffer.append('Hut')\n",
    "koffer"
   ]
  },
  {
   "cell_type": "code",
<<<<<<< HEAD
   "execution_count": 57,
=======
   "execution_count": 26,
>>>>>>> 4c5c52ec7fe6053063370d3170a67d336c1a746f
   "metadata": {
    "collapsed": false
   },
   "outputs": [
    {
     "data": {
      "text/plain": [
       "['Zahnbürste', 'Handtuch', 'Bikini']"
      ]
     },
<<<<<<< HEAD
     "execution_count": 57,
=======
     "execution_count": 26,
>>>>>>> 4c5c52ec7fe6053063370d3170a67d336c1a746f
     "metadata": {},
     "output_type": "execute_result"
    }
   ],
   "source": [
    "# Und wieder entfernen - mit 'del' für delete\n",
    "del(koffer[-1])\n",
    "koffer "
   ]
  },
  {
   "cell_type": "code",
<<<<<<< HEAD
   "execution_count": 58,
=======
   "execution_count": 27,
>>>>>>> 4c5c52ec7fe6053063370d3170a67d336c1a746f
   "metadata": {
    "collapsed": false
   },
   "outputs": [
    {
     "data": {
      "text/plain": [
       "['Bikini', 'Handtuch', 'Zahnbürste']"
      ]
     },
<<<<<<< HEAD
     "execution_count": 58,
=======
     "execution_count": 27,
>>>>>>> 4c5c52ec7fe6053063370d3170a67d336c1a746f
     "metadata": {},
     "output_type": "execute_result"
    }
   ],
   "source": [
    "# Und jetzt bitte aufräumen: \n",
    "koffer.sort()\n",
    "koffer\n",
    "# Ist jetzt sortiert von A-Z"
   ]
  },
  {
   "cell_type": "code",
   "execution_count": 60,
   "metadata": {
    "collapsed": false
   },
   "outputs": [],
   "source": [
    "koffer.append('Gitarre')"
   ]
  },
  {
   "cell_type": "code",
   "execution_count": 61,
   "metadata": {
    "collapsed": false
   },
   "outputs": [
    {
     "data": {
      "text/plain": [
       "['Bikini', 'Handtuch', 'Zahnbürste', 'Gitarre']"
      ]
     },
     "execution_count": 61,
     "metadata": {},
     "output_type": "execute_result"
    }
   ],
   "source": [
    "koffer"
   ]
  },
  {
   "cell_type": "code",
   "execution_count": 65,
   "metadata": {
    "collapsed": false
   },
   "outputs": [
    {
     "data": {
      "text/plain": [
       "['Bikini', 'Gitarre', 'Handtuch', 'Zahnbürste']"
      ]
     },
     "execution_count": 65,
     "metadata": {},
     "output_type": "execute_result"
    }
   ],
   "source": [
    "koffer.sort()\n",
    "koffer"
   ]
  },
  {
   "cell_type": "markdown",
   "metadata": {},
   "source": [
    "## Aufgabe!"
   ]
  },
  {
   "cell_type": "markdown",
   "metadata": {},
   "source": [
    "* Füge der Liste 'koffer' ein weiteres Element hinzu. \n",
    "* Lasse Dir dieses Element anzeigen. \n",
    "* Sorge dann dafür, dass die Liste wieder alphabetisch sortiert wird."
   ]
  },
  {
   "cell_type": "code",
   "execution_count": 30,
   "metadata": {
    "collapsed": false
   },
   "outputs": [
    {
     "data": {
      "text/plain": [
       "['Bikini', 'Handtuch', 'Zahnbürste', 'Zahnpasta', 'Zahnpasta', 'Zahnpasta']"
      ]
     },
     "execution_count": 30,
     "metadata": {},
     "output_type": "execute_result"
    }
   ],
   "source": [
    "koffer.append(\"Zahnpasta\")\n",
    "koffer"
   ]
  },
  {
   "cell_type": "code",
   "execution_count": 32,
   "metadata": {
    "collapsed": false
   },
   "outputs": [
    {
     "data": {
      "text/plain": [
       "['Bikini', 'Handtuch', 'Zahnbürste', 'Zahnpasta']"
      ]
     },
     "execution_count": 32,
     "metadata": {},
     "output_type": "execute_result"
    }
   ],
   "source": [
    "del(koffer[-1])\n",
    "koffer"
   ]
  },
  {
   "cell_type": "code",
   "execution_count": 33,
   "metadata": {
    "collapsed": false
   },
   "outputs": [
    {
     "data": {
      "text/plain": [
       "['Bikini', 'Handtuch', 'Zahnbürste', 'Zahnpasta']"
      ]
     },
     "execution_count": 33,
     "metadata": {},
     "output_type": "execute_result"
    }
   ],
   "source": [
    "koffer.sort()\n",
    "koffer"
   ]
  },
  {
   "cell_type": "markdown",
   "metadata": {},
   "source": [
    "### Dictionarys"
   ]
  },
  {
   "cell_type": "code",
<<<<<<< HEAD
   "execution_count": 66,
=======
   "execution_count": 34,
>>>>>>> 4c5c52ec7fe6053063370d3170a67d336c1a746f
   "metadata": {
    "collapsed": false
   },
   "outputs": [
    {
     "data": {
      "text/plain": [
       "{'Lisa': 258789, 'Martha': '801920', 'Philipp': 6598489}"
      ]
     },
<<<<<<< HEAD
     "execution_count": 66,
=======
     "execution_count": 34,
>>>>>>> 4c5c52ec7fe6053063370d3170a67d336c1a746f
     "metadata": {},
     "output_type": "execute_result"
    }
   ],
   "source": [
    "# Dictionarys bestehen aus Key und Value-Paaren, wie Telefonbücher oder Vokabelhefte.\n",
    "leeres_dict = {}\n",
    "telefonbuch = {'Philipp': 6598489, 'Martha': '801920', 'Lisa': 258789 }\n",
    "telefonbuch"
   ]
  },
  {
   "cell_type": "code",
<<<<<<< HEAD
   "execution_count": 67,
=======
   "execution_count": 35,
>>>>>>> 4c5c52ec7fe6053063370d3170a67d336c1a746f
   "metadata": {
    "collapsed": false
   },
   "outputs": [
    {
     "data": {
      "text/plain": [
<<<<<<< HEAD
       "dict_keys(['Martha', 'Philipp', 'Lisa'])"
      ]
     },
     "execution_count": 67,
=======
       "dict_keys(['Martha', 'Lisa', 'Philipp'])"
      ]
     },
     "execution_count": 35,
>>>>>>> 4c5c52ec7fe6053063370d3170a67d336c1a746f
     "metadata": {},
     "output_type": "execute_result"
    }
   ],
   "source": [
    "telefonbuch.keys()"
   ]
  },
  {
   "cell_type": "code",
<<<<<<< HEAD
   "execution_count": 68,
=======
   "execution_count": 36,
>>>>>>> 4c5c52ec7fe6053063370d3170a67d336c1a746f
   "metadata": {
    "collapsed": false
   },
   "outputs": [
    {
     "data": {
      "text/plain": [
<<<<<<< HEAD
       "dict_values(['801920', 6598489, 258789])"
      ]
     },
     "execution_count": 68,
=======
       "dict_values(['801920', 258789, 6598489])"
      ]
     },
     "execution_count": 36,
>>>>>>> 4c5c52ec7fe6053063370d3170a67d336c1a746f
     "metadata": {},
     "output_type": "execute_result"
    }
   ],
   "source": [
    "telefonbuch.values()"
   ]
  },
  {
   "cell_type": "code",
<<<<<<< HEAD
   "execution_count": 69,
=======
   "execution_count": 37,
>>>>>>> 4c5c52ec7fe6053063370d3170a67d336c1a746f
   "metadata": {
    "collapsed": false
   },
   "outputs": [
    {
     "ename": "AttributeError",
     "evalue": "'dict' object has no attribute 'sort'",
     "output_type": "error",
     "traceback": [
      "\u001b[0;31m---------------------------------------------------------------------------\u001b[0m",
      "\u001b[0;31mAttributeError\u001b[0m                            Traceback (most recent call last)",
<<<<<<< HEAD
      "\u001b[0;32m<ipython-input-69-98a297bd1d03>\u001b[0m in \u001b[0;36m<module>\u001b[0;34m()\u001b[0m\n\u001b[1;32m      1\u001b[0m \u001b[0;31m# Dictionarys sind unsortiert, deshalb kann man sie nicht sortieren.\u001b[0m\u001b[0;34m\u001b[0m\u001b[0;34m\u001b[0m\u001b[0m\n\u001b[0;32m----> 2\u001b[0;31m \u001b[0mtelefonbuch\u001b[0m\u001b[0;34m.\u001b[0m\u001b[0msort\u001b[0m\u001b[0;34m(\u001b[0m\u001b[0;34m)\u001b[0m\u001b[0;34m\u001b[0m\u001b[0m\n\u001b[0m",
=======
      "\u001b[0;32m<ipython-input-37-98a297bd1d03>\u001b[0m in \u001b[0;36m<module>\u001b[0;34m()\u001b[0m\n\u001b[1;32m      1\u001b[0m \u001b[0;31m# Dictionarys sind unsortiert, deshalb kann man sie nicht sortieren.\u001b[0m\u001b[0;34m\u001b[0m\u001b[0;34m\u001b[0m\u001b[0m\n\u001b[0;32m----> 2\u001b[0;31m \u001b[0mtelefonbuch\u001b[0m\u001b[0;34m.\u001b[0m\u001b[0msort\u001b[0m\u001b[0;34m(\u001b[0m\u001b[0;34m)\u001b[0m\u001b[0;34m\u001b[0m\u001b[0m\n\u001b[0m",
>>>>>>> 4c5c52ec7fe6053063370d3170a67d336c1a746f
      "\u001b[0;31mAttributeError\u001b[0m: 'dict' object has no attribute 'sort'"
     ]
    }
   ],
   "source": [
    "# Dictionarys sind unsortiert, deshalb kann man sie nicht sortieren. \n",
    "telefonbuch.sort()"
   ]
  },
  {
   "cell_type": "markdown",
   "metadata": {},
   "source": [
    "## Aufgabe! \n",
    "\n",
    "Wenn Du den nächsten Codeblock ausführst, erhälst Du drei Buchstaben.  \n",
    "Erstelle ein Dictionary 'stadt_land_fluss', das für jeden Buchstaben eine Liste mit passenden Begriffen zu 'Stadt', 'Land', Fluss enthält."
   ]
  },
  {
   "cell_type": "code",
<<<<<<< HEAD
   "execution_count": 70,
=======
   "execution_count": 38,
>>>>>>> 4c5c52ec7fe6053063370d3170a67d336c1a746f
   "metadata": {
    "collapsed": false
   },
   "outputs": [
    {
     "data": {
      "text/plain": [
<<<<<<< HEAD
       "('W', 'N', 'A')"
      ]
     },
     "execution_count": 70,
=======
       "('Y', 'U', 'H')"
      ]
     },
     "execution_count": 38,
>>>>>>> 4c5c52ec7fe6053063370d3170a67d336c1a746f
     "metadata": {},
     "output_type": "execute_result"
    }
   ],
   "source": [
    "from string import ascii_letters\n",
    "from random import choice \n",
    "buchstaben = (ascii_letters).upper()\n",
    "meine_bstb = choice(buchstaben), choice(buchstaben), choice(buchstaben)\n",
    "meine_bstb"
   ]
  },
  {
   "cell_type": "code",
<<<<<<< HEAD
   "execution_count": 71,
=======
   "execution_count": 40,
>>>>>>> 4c5c52ec7fe6053063370d3170a67d336c1a746f
   "metadata": {
    "collapsed": false
   },
   "outputs": [
    {
     "data": {
      "text/plain": [
<<<<<<< HEAD
       "{'Fluss': ['Weser', 'Nummerfluss', 'Ausfluss'],\n",
       " 'Land': ['wurzelland', 'Neuseeland', 'Australien'],\n",
       " 'Stadt': ['Wien', 'Nürnberg', 'Aachen']}"
      ]
     },
     "execution_count": 71,
=======
       "{'Fluss': ['Y', 'U', 'H'], 'Land': ['Y', 'U', 'H'], 'Stadt': ['Y', 'U', 'H']}"
      ]
     },
     "execution_count": 40,
>>>>>>> 4c5c52ec7fe6053063370d3170a67d336c1a746f
     "metadata": {},
     "output_type": "execute_result"
    }
   ],
   "source": [
    "stadt_land_fluss = {\n",
<<<<<<< HEAD
    "    'Stadt': ['Wien','Nürnberg', 'Aachen' ], \n",
    "    'Land': ['wurzelland', 'Neuseeland', 'Australien'], \n",
    "    'Fluss': ['Weser', 'Nummerfluss', 'Ausfluss'] } \n",
=======
    "    'Stadt': ['Y','U', 'H' ], \n",
    "    'Land': ['Y', 'U', 'H'], \n",
    "    'Fluss': ['Y', 'U', 'H'] } \n",
>>>>>>> 4c5c52ec7fe6053063370d3170a67d336c1a746f
    "stadt_land_fluss "
   ]
  },
  {
   "cell_type": "code",
<<<<<<< HEAD
   "execution_count": 72,
=======
   "execution_count": 41,
>>>>>>> 4c5c52ec7fe6053063370d3170a67d336c1a746f
   "metadata": {
    "collapsed": false
   },
   "outputs": [
    {
     "data": {
      "text/plain": [
<<<<<<< HEAD
       "dict_keys(['Stadt', 'Land', 'Fluss'])"
      ]
     },
     "execution_count": 72,
=======
       "dict_keys(['Fluss', 'Stadt', 'Land'])"
      ]
     },
     "execution_count": 41,
>>>>>>> 4c5c52ec7fe6053063370d3170a67d336c1a746f
     "metadata": {},
     "output_type": "execute_result"
    }
   ],
   "source": [
    "stadt_land_fluss.keys()"
   ]
  },
  {
   "cell_type": "code",
<<<<<<< HEAD
   "execution_count": 73,
=======
   "execution_count": 42,
>>>>>>> 4c5c52ec7fe6053063370d3170a67d336c1a746f
   "metadata": {
    "collapsed": false
   },
   "outputs": [
    {
     "data": {
      "text/plain": [
<<<<<<< HEAD
       "dict_values([['Wien', 'Nürnberg', 'Aachen'], ['wurzelland', 'Neuseeland', 'Australien'], ['Weser', 'Nummerfluss', 'Ausfluss']])"
      ]
     },
     "execution_count": 73,
=======
       "dict_values([['Y', 'U', 'H'], ['Y', 'U', 'H'], ['Y', 'U', 'H']])"
      ]
     },
     "execution_count": 42,
>>>>>>> 4c5c52ec7fe6053063370d3170a67d336c1a746f
     "metadata": {},
     "output_type": "execute_result"
    }
   ],
   "source": [
    "stadt_land_fluss.values()"
   ]
  },
  {
   "cell_type": "markdown",
   "metadata": {},
   "source": [
    "## Schleifen \n",
    "\n",
    "\n",
    "In Python kann man jedes Element einer Liste oder eines Dictionarys nacheinander ablaufen und etwas damit tun. Man sagt, Listen und Dictionarys sind iterierbar. "
   ]
  },
  {
   "cell_type": "code",
<<<<<<< HEAD
   "execution_count": 74,
=======
   "execution_count": 43,
>>>>>>> 4c5c52ec7fe6053063370d3170a67d336c1a746f
   "metadata": {
    "collapsed": false
   },
   "outputs": [
    {
     "name": "stdout",
     "output_type": "stream",
     "text": [
<<<<<<< HEAD
      "{'Stadt': ['Wien', 'Nürnberg', 'Aachen'], 'Land': ['wurzelland', 'Neuseeland', 'Australien'], 'Fluss': ['Weser', 'Nummerfluss', 'Ausfluss']}\n",
      "{'Stadt': ['Wien', 'Nürnberg', 'Aachen'], 'Land': ['wurzelland', 'Neuseeland', 'Australien'], 'Fluss': ['Weser', 'Nummerfluss', 'Ausfluss']}\n",
      "{'Stadt': ['Wien', 'Nürnberg', 'Aachen'], 'Land': ['wurzelland', 'Neuseeland', 'Australien'], 'Fluss': ['Weser', 'Nummerfluss', 'Ausfluss']}\n"
=======
      "{'Fluss': ['Y', 'U', 'H'], 'Stadt': ['Y', 'U', 'H'], 'Land': ['Y', 'U', 'H']}\n",
      "{'Fluss': ['Y', 'U', 'H'], 'Stadt': ['Y', 'U', 'H'], 'Land': ['Y', 'U', 'H']}\n",
      "{'Fluss': ['Y', 'U', 'H'], 'Stadt': ['Y', 'U', 'H'], 'Land': ['Y', 'U', 'H']}\n"
>>>>>>> 4c5c52ec7fe6053063370d3170a67d336c1a746f
     ]
    }
   ],
   "source": [
    "import pprint    # pprint steht für 'pretty-print'. Lädt ein Paket, das hübsche Prints macht \n",
    "\n",
    "for element in stadt_land_fluss:\n",
    "    print(stadt_land_fluss)"
   ]
  },
  {
   "cell_type": "code",
<<<<<<< HEAD
   "execution_count": 75,
=======
   "execution_count": 45,
>>>>>>> 4c5c52ec7fe6053063370d3170a67d336c1a746f
   "metadata": {
    "collapsed": false
   },
   "outputs": [
    {
     "name": "stdout",
     "output_type": "stream",
     "text": [
<<<<<<< HEAD
      "Wien\n",
      "wurzelland\n",
      "Weser\n"
=======
      "U\n",
      "U\n",
      "U\n"
>>>>>>> 4c5c52ec7fe6053063370d3170a67d336c1a746f
     ]
    }
   ],
   "source": [
    "for i in stadt_land_fluss: \n",
    "    print(stadt_land_fluss[i][1])"
   ]
  },
  {
   "cell_type": "markdown",
   "metadata": {},
   "source": [
    "## Aufgabe!"
   ]
  },
  {
   "cell_type": "markdown",
   "metadata": {},
   "source": [
    "Schreibe ein Programm, das nacheinander alle Teilnehmerinnen von Code4Girls begrüßt. Tipp: Du brauchst eine Liste der Teilnehmerinnen und eine Schleife. "
   ]
  },
  {
   "cell_type": "code",
<<<<<<< HEAD
   "execution_count": 77,
   "metadata": {
    "collapsed": false
   },
   "outputs": [],
   "source": [
    "Teilnehmer = ['Hannah', 'Anastasia', 'Nola', 'Cara']"
   ]
  },
  {
   "cell_type": "code",
   "execution_count": 78,
   "metadata": {
    "collapsed": false
   },
=======
   "execution_count": 47,
   "metadata": {
    "collapsed": false
   },
>>>>>>> 4c5c52ec7fe6053063370d3170a67d336c1a746f
   "outputs": [
    {
     "data": {
      "text/plain": [
<<<<<<< HEAD
       "['Hannah', 'Anastasia', 'Nola', 'Cara']"
      ]
     },
     "execution_count": 78,
=======
       "['Hannah', 'Cara', 'Anastasia', 'Nola']"
      ]
     },
     "execution_count": 47,
>>>>>>> 4c5c52ec7fe6053063370d3170a67d336c1a746f
     "metadata": {},
     "output_type": "execute_result"
    }
   ],
   "source": [
<<<<<<< HEAD
    "Teilnehmer"
   ]
  },
  {
   "cell_type": "code",
   "execution_count": 85,
   "metadata": {
    "collapsed": false
   },
   "outputs": [
    {
     "name": "stdout",
     "output_type": "stream",
     "text": [
      "Hallo Hannah!\n",
      "Hallo Anastasia!\n",
      "Hallo Nola!\n",
      "Hallo Cara!\n"
     ]
    }
   ],
   "source": [
    "for Teilnehmerin in Teilnehmer:\n",
    "    print('Hallo' + ' ' + Teilnehmerin + '!')"
   ]
=======
    "Teilnehmer = [\"Hannah\" , \"Cara\" , \"Anastasia\" , \"Nola\"]\n",
    "Teilnehmer"
   ]
>>>>>>> 4c5c52ec7fe6053063370d3170a67d336c1a746f
  },
  {
   "cell_type": "code",
   "execution_count": 59,
   "metadata": {
    "collapsed": false
   },
   "outputs": [
    {
     "name": "stdout",
     "output_type": "stream",
     "text": [
      "Hallo Hannah !\n",
      "Hallo Cara !\n",
      "Hallo Anastasia !\n",
      "Hallo Nola !\n"
     ]
    }
   ],
   "source": [
    "for element in Teilnehmer:\n",
    "    print( \"Hallo\" ,element, \"!\")"
   ]
  },
  {
   "cell_type": "markdown",
   "metadata": {},
   "source": [
    "## Beispiel für eine Python-Funktion"
   ]
  },
  {
   "cell_type": "markdown",
   "metadata": {},
   "source": [
    "Schritt 1: Definiert eine Funktion, die 'name' als Argument nutzt: \n",
    "'Laenge' wird auf die Anzahl der Buchstaben von 'name' gesetzt.  \n",
    "Dann wird laenge ausgegeben."
   ]
  },
  {
   "cell_type": "code",
<<<<<<< HEAD
   "execution_count": 90,
   "metadata": {
    "collapsed": false
   },
   "outputs": [
    {
     "data": {
      "text/plain": [
       "2"
      ]
     },
     "execution_count": 90,
     "metadata": {},
     "output_type": "execute_result"
    }
   ],
   "source": [
    "len('Pa')"
   ]
  },
  {
   "cell_type": "code",
   "execution_count": 91,
=======
   "execution_count": 61,
>>>>>>> 4c5c52ec7fe6053063370d3170a67d336c1a746f
   "metadata": {
    "collapsed": false
   },
   "outputs": [],
   "source": [
    "def buchstaben_zaehlen(name):\n",
    "    laenge = len(name)\n",
    "    print(laenge)"
   ]
  },
  {
   "cell_type": "markdown",
   "metadata": {},
   "source": [
    "Schritt 2: Die Funktion wird aufgerufen. "
   ]
  },
  {
   "cell_type": "code",
<<<<<<< HEAD
   "execution_count": 92,
=======
   "execution_count": 62,
>>>>>>> 4c5c52ec7fe6053063370d3170a67d336c1a746f
   "metadata": {
    "collapsed": false
   },
   "outputs": [
    {
     "name": "stdout",
     "output_type": "stream",
     "text": [
      "5\n"
     ]
    }
   ],
   "source": [
    "buchstaben_zaehlen('Simon')"
   ]
  },
  {
   "cell_type": "markdown",
   "metadata": {},
   "source": [
    "Andere Möglichkeit: Fragt nach dem Namen des Benutzers und speichert ihn in der Variable 'name'."
   ]
  },
  {
   "cell_type": "code",
<<<<<<< HEAD
   "execution_count": 99,
=======
   "execution_count": 67,
>>>>>>> 4c5c52ec7fe6053063370d3170a67d336c1a746f
   "metadata": {
    "collapsed": false
   },
   "outputs": [
    {
     "name": "stdout",
     "output_type": "stream",
     "text": [
<<<<<<< HEAD
      "Bitte gib deinen Namen ein: \n",
      "Tensing\n"
=======
      "Anastasia: \n",
      "9\n"
>>>>>>> 4c5c52ec7fe6053063370d3170a67d336c1a746f
     ]
    }
   ],
   "source": [
    "name = input('Anastasia: \\n')"
   ]
  },
  {
   "cell_type": "code",
<<<<<<< HEAD
   "execution_count": 94,
=======
   "execution_count": 68,
>>>>>>> 4c5c52ec7fe6053063370d3170a67d336c1a746f
   "metadata": {
    "collapsed": false
   },
   "outputs": [
    {
     "name": "stdout",
     "output_type": "stream",
     "text": [
<<<<<<< HEAD
      "4\n"
=======
      "1\n"
>>>>>>> 4c5c52ec7fe6053063370d3170a67d336c1a746f
     ]
    }
   ],
   "source": [
    "buchstaben_zaehlen(name)"
   ]
  },
  {
   "cell_type": "code",
   "execution_count": 70,
   "metadata": {
    "collapsed": false
   },
   "outputs": [
    {
     "data": {
      "text/plain": [
       "False"
      ]
     },
     "execution_count": 70,
     "metadata": {},
     "output_type": "execute_result"
    }
   ],
   "source": [
    "# Wahrheit prüfen \n",
    "len(name) == 8"
   ]
  },
  {
   "cell_type": "markdown",
   "metadata": {},
   "source": [
    "## Bedingungen: Wenn, dann ... "
   ]
  },
  {
   "cell_type": "code",
<<<<<<< HEAD
   "execution_count": 100,
=======
   "execution_count": 71,
>>>>>>> 4c5c52ec7fe6053063370d3170a67d336c1a746f
   "metadata": {
    "collapsed": false
   },
   "outputs": [
    {
     "name": "stdout",
     "output_type": "stream",
     "text": [
<<<<<<< HEAD
      "Mittel\n"
=======
      "Kurz\n"
>>>>>>> 4c5c52ec7fe6053063370d3170a67d336c1a746f
     ]
    }
   ],
   "source": [
    "if len(name) >= 8: \n",
    "    print('Lang!')\n",
    "if len(name) <= 4:\n",
    "    print('Kurz')\n",
    "if len(name) <8 and len(name) >4:\n",
    "    print('Mittel')"
   ]
  },
  {
   "cell_type": "code",
   "execution_count": null,
   "metadata": {
    "collapsed": true
   },
   "outputs": [],
   "source": []
  },
  {
   "cell_type": "markdown",
   "metadata": {
    "collapsed": false
   },
   "source": [
    "## Steuern berechnen\n"
   ]
  },
  {
   "cell_type": "code",
<<<<<<< HEAD
   "execution_count": 108,
=======
   "execution_count": 73,
>>>>>>> 4c5c52ec7fe6053063370d3170a67d336c1a746f
   "metadata": {
    "collapsed": true
   },
   "outputs": [],
   "source": [
    "def berechneSteuern(preis, steuer_satz):\n",
    "    \"\"\"Berechnet die Mehwertsteuer für einen Preis\n",
    "\n",
    "    usage:\n",
    "        >>> berechneSteuern(\"7,19\")\n",
    "        8.33\n",
    "    \"\"\"\n",
    "    gesamt = preis + (preis * steuer_satz/100)\n",
    "    return gesamt"
   ]
  },
  {
   "cell_type": "code",
<<<<<<< HEAD
   "execution_count": 109,
   "metadata": {
    "collapsed": false,
    "scrolled": true
=======
   "execution_count": 74,
   "metadata": {
    "collapsed": false
>>>>>>> 4c5c52ec7fe6053063370d3170a67d336c1a746f
   },
   "outputs": [
    {
     "name": "stdout",
     "output_type": "stream",
     "text": [
      "Help on function berechneSteuern in module __main__:\n",
      "\n",
      "berechneSteuern(preis, steuer_satz)\n",
      "    Berechnet die Mehwertsteuer für einen Preis\n",
      "    \n",
      "    usage:\n",
      "        >>> berechneSteuern(\"7,19\")\n",
      "        8.33\n",
      "\n"
     ]
    }
   ],
   "source": [
    "help(berechneSteuern)"
   ]
  },
  {
   "cell_type": "code",
<<<<<<< HEAD
   "execution_count": 110,
=======
   "execution_count": 75,
>>>>>>> 4c5c52ec7fe6053063370d3170a67d336c1a746f
   "metadata": {
    "collapsed": false
   },
   "outputs": [
    {
     "data": {
      "text/plain": [
       "8.33"
      ]
     },
<<<<<<< HEAD
     "execution_count": 110,
=======
     "execution_count": 75,
>>>>>>> 4c5c52ec7fe6053063370d3170a67d336c1a746f
     "metadata": {},
     "output_type": "execute_result"
    }
   ],
   "source": [
    "# And here's the function in action!\n",
    "berechneSteuern(7,19)"
   ]
  },
  {
   "cell_type": "code",
   "execution_count": null,
   "metadata": {
    "collapsed": true
   },
   "outputs": [],
   "source": []
  },
  {
   "cell_type": "markdown",
   "metadata": {},
   "source": [
    "## Temperatur umrechnen"
   ]
  },
  {
   "cell_type": "code",
<<<<<<< HEAD
   "execution_count": 111,
=======
   "execution_count": 76,
>>>>>>> 4c5c52ec7fe6053063370d3170a67d336c1a746f
   "metadata": {
    "collapsed": true
   },
   "outputs": [],
   "source": [
    "def fahrenheit_in_celsius(fahr):\n",
    "    cel = 5/9*(fahr-32)\n",
    "    return cel"
   ]
  },
  {
   "cell_type": "code",
<<<<<<< HEAD
   "execution_count": 113,
=======
   "execution_count": 77,
>>>>>>> 4c5c52ec7fe6053063370d3170a67d336c1a746f
   "metadata": {
    "collapsed": false
   },
   "outputs": [
    {
     "data": {
      "text/plain": [
<<<<<<< HEAD
       "15.555555555555557"
      ]
     },
     "execution_count": 113,
=======
       "32.22222222222222"
      ]
     },
     "execution_count": 77,
>>>>>>> 4c5c52ec7fe6053063370d3170a67d336c1a746f
     "metadata": {},
     "output_type": "execute_result"
    }
   ],
   "source": [
    "fahrenheit_in_celsius(60)"
   ]
  },
  {
   "cell_type": "markdown",
   "metadata": {},
   "source": [
    "## Aufgabe\n",
    "Bitte lass Python noch mal alle Teilnehmerinnen begrüßen, schreibe aber diesmal eine Funktion dafür."
   ]
  },
  {
   "cell_type": "code",
<<<<<<< HEAD
   "execution_count": 124,
=======
   "execution_count": 81,
>>>>>>> 4c5c52ec7fe6053063370d3170a67d336c1a746f
   "metadata": {
    "collapsed": false
   },
   "outputs": [],
   "source": [
<<<<<<< HEAD
    "def begrüßen(foo):\n",
    "    for element in foo:\n",
    "        print('Hallo' + ' ' + element + '!')"
=======
    "def teilnehmer_begrüßen(Hallo, element):\n",
    "    gesamt = Hallo + element\n",
    "    return gesamt"
>>>>>>> 4c5c52ec7fe6053063370d3170a67d336c1a746f
   ]
  },
  {
   "cell_type": "code",
<<<<<<< HEAD
   "execution_count": 127,
=======
   "execution_count": 84,
>>>>>>> 4c5c52ec7fe6053063370d3170a67d336c1a746f
   "metadata": {
    "collapsed": false
   },
   "outputs": [
    {
<<<<<<< HEAD
     "name": "stdout",
     "output_type": "stream",
     "text": [
      "Hallo S!\n",
      "Hallo t!\n"
=======
     "ename": "NameError",
     "evalue": "name 'Hallo' is not defined",
     "output_type": "error",
     "traceback": [
      "\u001b[0;31m---------------------------------------------------------------------------\u001b[0m",
      "\u001b[0;31mNameError\u001b[0m                                 Traceback (most recent call last)",
      "\u001b[0;32m<ipython-input-84-aa404ab118ef>\u001b[0m in \u001b[0;36m<module>\u001b[0;34m()\u001b[0m\n\u001b[0;32m----> 1\u001b[0;31m \u001b[0mteilnehmer_begrüßen\u001b[0m\u001b[0;34m(\u001b[0m\u001b[0mHallo\u001b[0m\u001b[0;34m,\u001b[0m \u001b[0melement\u001b[0m\u001b[0;34m)\u001b[0m\u001b[0;34m\u001b[0m\u001b[0m\n\u001b[0m",
      "\u001b[0;31mNameError\u001b[0m: name 'Hallo' is not defined"
>>>>>>> 4c5c52ec7fe6053063370d3170a67d336c1a746f
     ]
    }
   ],
   "source": [
<<<<<<< HEAD
    "neue_liste = ['S', 't'] \n",
    "begrüßen(neue_liste)"
=======
    "teilnehmer_begrüßen(Hallo, element)"
>>>>>>> 4c5c52ec7fe6053063370d3170a67d336c1a746f
   ]
  },
  {
   "cell_type": "markdown",
   "metadata": {},
   "source": [
    "## Textaufgabe \n",
    "Anna trägt Zeitungen aus. Sie bekommt pro Zeitung 50 Cent. Schreibe eine Funktion, die Anna ausrechnet, wie viel sie verdient.     "
   ]
  },
  {
   "cell_type": "code",
   "execution_count": null,
   "metadata": {
    "collapsed": false
   },
   "outputs": [],
   "source": []
  },
  {
   "cell_type": "markdown",
   "metadata": {},
   "source": [
    "## ERRORS"
   ]
  },
  {
   "cell_type": "code",
   "execution_count": null,
   "metadata": {
    "collapsed": false
   },
   "outputs": [],
   "source": [
    "ERRORS "
   ]
  },
  {
   "cell_type": "markdown",
   "metadata": {},
   "source": [
    "Nicht von Fehlern abschrecken lassen, Fehler sind in Python nützliche kleine Helfer "
   ]
  },
  {
   "cell_type": "code",
   "execution_count": null,
   "metadata": {
    "collapsed": false
   },
   "outputs": [],
   "source": [
    "display(Image(url='static/minions.jpg'))"
   ]
  },
  {
   "cell_type": "markdown",
   "metadata": {},
   "source": [
    "__*Survival-Checkliste für Fehlermeldungen:*__\n",
    "1. KEINE PANIK \n",
    "2. Von hinten lesen (letzte Zeile zuerst)\n",
    "3. Was sagt der Fehler?\n",
    "4. In welcher Datei, welcher Zeile ist der Fehler?\n",
    "5. Fehler googeln (letzte Zeile kopieren und in Google einfügen) "
   ]
  },
  {
   "cell_type": "markdown",
   "metadata": {},
   "source": [
    "## Hilfe holen \n",
    "\n",
    "Praktisch an Jupyter ist, dass es eine eingebaute Hilfe und eine Auto-Vervollständigungs-Funktion hat."
   ]
  },
  {
   "cell_type": "code",
   "execution_count": null,
   "metadata": {
    "collapsed": false
   },
   "outputs": [],
   "source": [
    "# Mit help() zeigst Du die eingebaute Hilfe an, zum Beispiel help(str) zeigt alle String-Funktionen an. \n",
    "help(str)"
   ]
  },
  {
   "cell_type": "markdown",
   "metadata": {},
   "source": [
    "## Spaß mit Strings"
   ]
  },
  {
   "cell_type": "code",
   "execution_count": null,
   "metadata": {
    "collapsed": true
   },
   "outputs": [],
   "source": [
    "zungenbrecher = 'Fischers Fritze fischt frische Fische'"
   ]
  },
  {
   "cell_type": "code",
   "execution_count": null,
   "metadata": {
    "collapsed": false
   },
   "outputs": [],
   "source": [
    "# Möchte man mit den Zungenbrecher etwas machen, kann man 'zungenbrecher.' tippen und dann [tab]. \n",
    "zungenbrecher.upper()"
   ]
  },
  {
   "cell_type": "code",
   "execution_count": null,
   "metadata": {
    "collapsed": false
   },
   "outputs": [],
   "source": [
    "# Möchte man zählen, wie oft die Buchstabenfolge 'fisch' im Zungenbrecher vorkommt, dann kann man \n",
    "zungenbrecher.count('fisch')"
   ]
  },
  {
   "cell_type": "code",
   "execution_count": null,
   "metadata": {
    "collapsed": false
   },
   "outputs": [],
   "source": [
    "# Man kann auch erst alles klein schreiben und dann nach 'fisch' suchen. \n",
    "zungenbrecher.lower().count('fisch')"
   ]
  },
  {
   "cell_type": "code",
   "execution_count": null,
   "metadata": {
    "collapsed": false
   },
   "outputs": [],
   "source": [
    "'cat' in zungenbrecher"
   ]
  },
  {
   "cell_type": "code",
   "execution_count": null,
   "metadata": {
    "collapsed": false
   },
   "outputs": [],
   "source": [
    "'Fritz' in zungenbrecher"
   ]
  },
  {
   "cell_type": "code",
   "execution_count": null,
   "metadata": {
    "collapsed": false
   },
   "outputs": [],
   "source": [
    "zungenbrecher.find('Fritze')"
   ]
  },
  {
   "cell_type": "code",
   "execution_count": null,
   "metadata": {
    "collapsed": false
   },
   "outputs": [],
   "source": [
    "index = zungenbrecher.find('Fritze')\n",
    "zungenbrecher[:index]"
   ]
  },
  {
   "cell_type": "code",
   "execution_count": null,
   "metadata": {
    "collapsed": false
   },
   "outputs": [],
   "source": [
    "zungenbrecher[index:]"
   ]
  },
  {
   "cell_type": "markdown",
   "metadata": {},
   "source": [
    "## Lasset die Spiele beginnen!"
   ]
  },
  {
   "cell_type": "code",
   "execution_count": null,
   "metadata": {
    "collapsed": false
   },
   "outputs": [],
   "source": [
    "from IPython.display import Image\n",
    "from IPython.display import display\n",
    "display(Image(url='./static/anna.gif'))"
   ]
  }
 ],
 "metadata": {
  "kernelspec": {
   "display_name": "Python 3",
   "language": "python",
   "name": "python3"
  },
  "language_info": {
   "codemirror_mode": {
    "name": "ipython",
    "version": 3
   },
   "file_extension": ".py",
   "mimetype": "text/x-python",
   "name": "python",
   "nbconvert_exporter": "python",
   "pygments_lexer": "ipython3",
   "version": "3.4.2"
  }
 },
 "nbformat": 4,
 "nbformat_minor": 0
}
