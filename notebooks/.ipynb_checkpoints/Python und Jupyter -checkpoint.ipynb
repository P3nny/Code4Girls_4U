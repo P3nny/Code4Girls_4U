{
 "cells": [
  {
   "cell_type": "markdown",
   "metadata": {},
   "source": [
    "# Python und Jupyter "
   ]
  },
  {
   "cell_type": "markdown",
   "metadata": {},
   "source": [
    "### Python starten\n",
    "Um mit dem Programmieren zu beginnen, öffnest Du dein Terminal (linke obere Ecke 'Aktivitäten' und auf das zweite Icon von oben klicken).\n",
    "\n",
    "Dann machst Du einen neuen Ordner: \n",
    "\n",
    "``` user@debian:~$ mkdir python ```\n",
    "\n",
    "Wechselst in diesen neuen Ordner: \n",
    "\n",
    "``` user@debian:~$ cd python ```\n",
    "\n",
    "Dort gibst Du ein: \n",
    "\n",
    "``` user@debian:~/python$ python3 ```"
   ]
  },
  {
   "cell_type": "markdown",
   "metadata": {},
   "source": [
    "Mit diesem Befehl hast Du die Programmiersprache 'Python3' gestartet.\n",
    "Wenn Du nur 'Python' eingibst, dann wird der Vorgänger 'Python2' gestartet. Wir arbeiten aber mit der neueren Version 'Python3'."
   ]
  },
  {
   "cell_type": "markdown",
   "metadata": {},
   "source": [
    "### Python ausprobieren\n",
    "Du kannst Python zum Beispiel wie einen Taschenrechner benutzen.\n",
    "\n",
    "Probiere das mal aus: \n",
    "- Plus: +\n",
    "- Minus: -\n",
    "- Mal: *\n",
    "- Geteilt: /"
   ]
  },
  {
   "cell_type": "code",
   "execution_count": 9,
   "metadata": {
    "collapsed": false
   },
   "outputs": [
    {
     "data": {
      "text/plain": [
       "12"
      ]
     },
     "execution_count": 9,
     "metadata": {},
     "output_type": "execute_result"
    }
   ],
   "source": [
    "5+7"
   ]
  },
  {
   "cell_type": "code",
   "execution_count": 10,
   "metadata": {
    "collapsed": false
   },
   "outputs": [
    {
     "data": {
      "text/plain": [
       "64.8100002040393"
      ]
     },
     "execution_count": 10,
     "metadata": {},
     "output_type": "execute_result"
    }
   ],
   "source": [
    "35788888745451/552212446116"
   ]
  },
  {
   "cell_type": "markdown",
   "metadata": {},
   "source": [
    "Du kannst auch Text schreiben und etwas damit machen, zum Beispiel: "
   ]
  },
  {
   "cell_type": "code",
   "execution_count": 11,
   "metadata": {
    "collapsed": false
   },
   "outputs": [
    {
     "name": "stdout",
     "output_type": "stream",
     "text": [
      "Hello world!\n"
     ]
    }
   ],
   "source": [
    "print('Hello world!')"
   ]
  },
  {
   "cell_type": "code",
   "execution_count": 12,
   "metadata": {
    "collapsed": false
   },
   "outputs": [
    {
     "name": "stdout",
     "output_type": "stream",
     "text": [
      "LoveLoveLoveLoveLoveLoveLoveLoveLoveLoveLoveLoveLoveLoveLoveLoveLove\n"
     ]
    }
   ],
   "source": [
    "print('Love'*17)"
   ]
  },
  {
   "cell_type": "code",
   "execution_count": 13,
   "metadata": {
    "collapsed": false
   },
   "outputs": [
    {
     "data": {
      "text/plain": [
       "'KäseKuchen'"
      ]
     },
     "execution_count": 13,
     "metadata": {},
     "output_type": "execute_result"
    }
   ],
   "source": [
    "'Käse' + 'Kuchen'"
   ]
  },
  {
   "cell_type": "code",
   "execution_count": 14,
   "metadata": {
    "collapsed": false
   },
   "outputs": [
    {
     "data": {
      "text/plain": [
       "'Käse Kuchen'"
      ]
     },
     "execution_count": 14,
     "metadata": {},
     "output_type": "execute_result"
    }
   ],
   "source": [
    "'Käse' + ' ' + 'Kuchen'"
   ]
  },
  {
   "cell_type": "markdown",
   "metadata": {},
   "source": [
    "** Python3 beenden **\n",
    "Um Python zu beenden, gebt ihr folgendes ein: "
   ]
  },
  {
   "cell_type": "code",
   "execution_count": 15,
   "metadata": {
    "collapsed": true
   },
   "outputs": [],
   "source": [
    "exit()"
   ]
  },
  {
   "cell_type": "markdown",
   "metadata": {},
   "source": [
    "## Programme im Editor schreiben \n",
    "\n",
    "Wenn man Python-Befehle auf der Kommando-Zeile eingibt, dann wird alles direkt ausgeführt. Die Befehle werden aber nur so lange gespeichert, wie das Terminal offen ist. Wird das Terminal geschlossen, ist alles weg. Deshalb schreibt man Programme in Text-Editoren und führt sie dann aus.\n",
    "\n",
    "Mach eine neue Datei: \n",
    "\n",
    "```user@debian:~/python$ gedit test.py```\n",
    "\n",
    "Der Text-Editor gedit öffnet sich und ihr schreibt ein Mini-Programm: \n",
    "\n",
    "** print('Es hat geklappt!') **\n",
    "\n",
    "Dann speichern und schließen. Ihr seid wieder zurück im Terminal.\n",
    "\n",
    "Um Euer erstes Programm auszuführen, gebt ihr im Terminal ein: \n",
    "\n",
    "``` user@debian:~/python$ python3 test.py ```"
   ]
  },
  {
   "cell_type": "markdown",
   "metadata": {},
   "source": [
    "### Ein besserer Python-Editor: Jupyter Notebook"
   ]
  },
  {
   "cell_type": "markdown",
   "metadata": {},
   "source": [
    "Nachteil an einem einfachen Text-Editor ist, dass man seinen Code nicht gleichzeitig schreiben und testen kann. \n",
    "Deshalb gibt es verbesserte Text-Editoren extra für Python oder generell fürs Programmieren. \n",
    "Einer davon heißt 'Jupyter Notebook'. \n",
    "\n",
    "Jupyter Notebook ist auf Eurem Linux Rechner bereits installiert.\n",
    "Um es zu benutzen, gebt ihr das hier im Terminal ein: \n",
    "    \n",
    "``` user@debian:~/python$ jupyter notebook ```\n",
    "\n",
    "Im Terminal startet ein Programm und der Browser wird geöffnet. \n",
    "Ihr seht die Inhalte des Ordners, in dem ihr Jupyter Notebook gestartet habt. \n",
    "Rechts in der Ecke könnt ihr auf 'New' klicken und dann 'Python3' auswählen. \n",
    "\n",
    "Hier könnt ihr abwechselnd Text (Markdown) und Python-Code schreiben. "
   ]
  },
  {
   "cell_type": "code",
   "execution_count": 3,
   "metadata": {
    "collapsed": false
   },
   "outputs": [
    {
     "data": {
      "text/plain": [
       "8"
      ]
     },
     "execution_count": 3,
     "metadata": {},
     "output_type": "execute_result"
    }
   ],
   "source": [
    "5+3"
   ]
  },
  {
   "cell_type": "markdown",
   "metadata": {},
   "source": [
    "Code-Zeilen erkennt ihr an der Nummer davor: \n",
    "    \n",
    "    In [3]: 5+3\n",
    "\n",
    "Wenn ihr eine Zeile ausführen wollt, dann müsst ihr [shift] + [enter] drücken. \n",
    "\n",
    "Darunter seht ihr das, was Python3 als Ergebnis ausspuckt: \n",
    "\n",
    "    Out [3]: 8"
   ]
  },
  {
   "cell_type": "markdown",
   "metadata": {},
   "source": [
    "Mit [Strg]+[S] (oder File: Save and Checkpoint ) speichert Ihr Eure Arbeit. "
   ]
  },
  {
   "cell_type": "markdown",
   "metadata": {},
   "source": [
    "### Notebook von irgendeinem Ort auf dem Rechner öffnen \n",
    "Das hier ist aus meiner Sicht der schnellste Weg, um in irgendeinem Verzeichnis auf Eurem Rechner ein Jupyter Notebook zu öffnen: \n",
    "\n",
    "- Geht links oben über 'Orte' zu dem Ordner, in den ihr wollt \n",
    "- dann rechte Maustaste 'in Terminal öffnen'\n",
    "- Notebook starten mit 'Jupyter Notebook'\n",
    "- Dann seht ihr alle Dateien und Verzeichnisse, die in diesem Ordner liegen als 'Home' des Jupyter Notebooks"
   ]
  },
  {
   "cell_type": "markdown",
   "metadata": {},
   "source": [
    "**Aufgabe**\n",
    "- Geh bitte in den Odner Code4Girls_4U \n",
    "- Rechte Maustaste 'In Terminal öffnen'\n",
    "- Im Terminal startest Du das Notebook, indem Du 'Jupyter Notebook' eingibst  \n",
    "- Öffne bitte die Datei 'Yay Python' indem Du auf sie drauf klickst"
   ]
  },
  {
   "cell_type": "markdown",
   "metadata": {
    "collapsed": true
   },
   "source": [
    "### Notebook schließen \n",
    "Um dein Test-Notebook zu schließen, speicherst Du es mit [strg]+[s] ab und gehst dann auf 'File - Close and Halt'\n",
    "\n",
    "Mit [alt]+[tab] wechselst Du zwischen offenen Fenstern hin und her. \n",
    "Wenn Du bei Terminal bist, siehst Du, dass noch mehrere schwarze Fenster offen sind. \n",
    "In Terminal Fenster, bei dem im Kopf 'user@Debian:~python' steht, läuft immer noch der Notebook Server \n",
    "Den stoppst Du mit [strg]+[c], dann wirst Du gefragt, ob Du den Server wirklich runterfahren willst (Shutdown server?) und wenn du 'y' für yes eingibst, wird das Notebook beendet. "
   ]
  },
  {
   "cell_type": "markdown",
   "metadata": {
    "collapsed": true
   },
   "source": [
    "### Wechsele zum Notebook 'Yay Python.ipynb'"
   ]
  }
 ],
 "metadata": {
  "kernelspec": {
   "display_name": "Python 3",
   "language": "python",
   "name": "python3"
  },
  "language_info": {
   "codemirror_mode": {
    "name": "ipython",
    "version": 3
   },
   "file_extension": ".py",
   "mimetype": "text/x-python",
   "name": "python",
   "nbconvert_exporter": "python",
   "pygments_lexer": "ipython3",
   "version": "3.5.1+"
  }
 },
 "nbformat": 4,
 "nbformat_minor": 0
}
